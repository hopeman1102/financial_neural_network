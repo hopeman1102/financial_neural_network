{
 "cells": [
  {
   "cell_type": "markdown",
   "metadata": {},
   "source": [
    "# Import modules\n",
    "\n",
    "updated with CuDNNLSTM"
   ]
  },
  {
   "cell_type": "code",
   "execution_count": 1,
   "metadata": {
    "collapsed": true
   },
   "outputs": [],
   "source": [
    "import pandas as pd\n",
    "import numpy as np\n",
    "import random\n",
    "\n",
    "import tensorflow as tf\n",
    "from tensorflow.keras.models import Sequential\n",
    "from tensorflow.keras.layers import Dense, Dropout, LSTM, CuDNNLSTM, BatchNormalization\n",
    "from tensorflow.keras.callbacks import TensorBoard\n",
    "from tensorflow.keras.callbacks import ModelCheckpoint\n",
    "from tensorflow.keras.callbacks import Callback\n",
    "import tensorflow.keras.backend as K\n",
    "\n",
    "import math\n",
    "from sklearn.preprocessing import RobustScaler\n",
    "from collections import deque\n",
    "\n",
    "import matplotlib.pyplot as plt\n",
    "import seaborn as sns\n",
    "%matplotlib inline"
   ]
  },
  {
   "cell_type": "markdown",
   "metadata": {},
   "source": [
    "# Import the CSV file with technical data and sentiment analysis"
   ]
  },
  {
   "cell_type": "code",
   "execution_count": 2,
   "metadata": {},
   "outputs": [
    {
     "data": {
      "text/html": [
       "<div>\n",
       "<style scoped>\n",
       "    .dataframe tbody tr th:only-of-type {\n",
       "        vertical-align: middle;\n",
       "    }\n",
       "\n",
       "    .dataframe tbody tr th {\n",
       "        vertical-align: top;\n",
       "    }\n",
       "\n",
       "    .dataframe thead th {\n",
       "        text-align: right;\n",
       "    }\n",
       "</style>\n",
       "<table border=\"1\" class=\"dataframe\">\n",
       "  <thead>\n",
       "    <tr style=\"text-align: right;\">\n",
       "      <th></th>\n",
       "      <th>Adj Close</th>\n",
       "      <th>Volume</th>\n",
       "      <th>lrets</th>\n",
       "      <th>MACD</th>\n",
       "      <th>stochastics</th>\n",
       "      <th>ATR</th>\n",
       "      <th>neg</th>\n",
       "      <th>neu</th>\n",
       "      <th>pos</th>\n",
       "      <th>Y</th>\n",
       "    </tr>\n",
       "  </thead>\n",
       "  <tbody>\n",
       "    <tr>\n",
       "      <th>1990-01-30</th>\n",
       "      <td>322.980011</td>\n",
       "      <td>186030000.0</td>\n",
       "      <td>-0.006850</td>\n",
       "      <td>-1.512383</td>\n",
       "      <td>0.000000</td>\n",
       "      <td>5.900024</td>\n",
       "      <td>0.043</td>\n",
       "      <td>0.910</td>\n",
       "      <td>0.047</td>\n",
       "      <td>-0.000882</td>\n",
       "    </tr>\n",
       "    <tr>\n",
       "      <th>1990-02-01</th>\n",
       "      <td>328.790009</td>\n",
       "      <td>154580000.0</td>\n",
       "      <td>-0.000882</td>\n",
       "      <td>-1.185424</td>\n",
       "      <td>18.857509</td>\n",
       "      <td>6.879974</td>\n",
       "      <td>0.073</td>\n",
       "      <td>0.870</td>\n",
       "      <td>0.057</td>\n",
       "      <td>0.002806</td>\n",
       "    </tr>\n",
       "    <tr>\n",
       "      <th>1990-02-05</th>\n",
       "      <td>331.850006</td>\n",
       "      <td>130950000.0</td>\n",
       "      <td>0.002806</td>\n",
       "      <td>-0.738707</td>\n",
       "      <td>28.789340</td>\n",
       "      <td>3.369995</td>\n",
       "      <td>0.106</td>\n",
       "      <td>0.815</td>\n",
       "      <td>0.080</td>\n",
       "      <td>-0.002370</td>\n",
       "    </tr>\n",
       "    <tr>\n",
       "      <th>1990-02-08</th>\n",
       "      <td>332.959991</td>\n",
       "      <td>176240000.0</td>\n",
       "      <td>-0.002370</td>\n",
       "      <td>-0.328807</td>\n",
       "      <td>39.060605</td>\n",
       "      <td>4.239990</td>\n",
       "      <td>0.030</td>\n",
       "      <td>0.937</td>\n",
       "      <td>0.034</td>\n",
       "      <td>0.001980</td>\n",
       "    </tr>\n",
       "    <tr>\n",
       "      <th>1990-02-09</th>\n",
       "      <td>333.619995</td>\n",
       "      <td>146910000.0</td>\n",
       "      <td>0.001980</td>\n",
       "      <td>0.019442</td>\n",
       "      <td>41.643793</td>\n",
       "      <td>2.190002</td>\n",
       "      <td>0.055</td>\n",
       "      <td>0.901</td>\n",
       "      <td>0.045</td>\n",
       "      <td>0.002844</td>\n",
       "    </tr>\n",
       "  </tbody>\n",
       "</table>\n",
       "</div>"
      ],
      "text/plain": [
       "             Adj Close       Volume     lrets      MACD  stochastics  \\\n",
       "1990-01-30  322.980011  186030000.0 -0.006850 -1.512383     0.000000   \n",
       "1990-02-01  328.790009  154580000.0 -0.000882 -1.185424    18.857509   \n",
       "1990-02-05  331.850006  130950000.0  0.002806 -0.738707    28.789340   \n",
       "1990-02-08  332.959991  176240000.0 -0.002370 -0.328807    39.060605   \n",
       "1990-02-09  333.619995  146910000.0  0.001980  0.019442    41.643793   \n",
       "\n",
       "                 ATR    neg    neu    pos         Y  \n",
       "1990-01-30  5.900024  0.043  0.910  0.047 -0.000882  \n",
       "1990-02-01  6.879974  0.073  0.870  0.057  0.002806  \n",
       "1990-02-05  3.369995  0.106  0.815  0.080 -0.002370  \n",
       "1990-02-08  4.239990  0.030  0.937  0.034  0.001980  \n",
       "1990-02-09  2.190002  0.055  0.901  0.045  0.002844  "
      ]
     },
     "execution_count": 2,
     "metadata": {},
     "output_type": "execute_result"
    }
   ],
   "source": [
    "data = pd.read_hdf('data2.h5', 'new_data')\n",
    "#data.index = pd.to_datetime(data.index, format='%Y-%m-%d')\n",
    "data['Y'] = data.lrets.shift(-1)\n",
    "data.dropna(axis=0, inplace=True)\n",
    "data.head()"
   ]
  },
  {
   "cell_type": "code",
   "execution_count": 3,
   "metadata": {},
   "outputs": [
    {
     "data": {
      "text/plain": [
       "<matplotlib.axes._subplots.AxesSubplot at 0x7f5be1a7d470>"
      ]
     },
     "execution_count": 3,
     "metadata": {},
     "output_type": "execute_result"
    },
    {
     "data": {
      "image/png": "[encoded data removed]",
      "text/plain": [
       "<Figure size 360x288 with 2 Axes>"
      ]
     },
     "metadata": {
      "needs_background": "light"
     },
     "output_type": "display_data"
    }
   ],
   "source": [
    "corr = data.corr()\n",
    "f, ax = plt.subplots(figsize=(5, 4))\n",
    "plt.title(\"Correlation between variables\")\n",
    "sns.heatmap(corr, \n",
    "            xticklabels=corr.columns.values,\n",
    "            yticklabels=corr.columns.values)"
   ]
  },
  {
   "cell_type": "markdown",
   "metadata": {},
   "source": [
    "# Train Test split for recurrent neural net\n",
    "\n",
    "http://scikit-learn.org/stable/auto_examples/preprocessing/plot_all_scaling.html\n",
    "\n",
    "https://pythonprogramming.net/crypto-rnn-model-deep-learning-python-tensorflow-keras/?completed=/balancing-rnn-data-deep-learning-python-tensorflow-keras/"
   ]
  },
  {
   "cell_type": "code",
   "execution_count": 4,
   "metadata": {},
   "outputs": [
    {
     "name": "stdout",
     "output_type": "stream",
     "text": [
      "G\n",
      "H\n",
      "I\n"
     ]
    }
   ],
   "source": [
    "d = deque('ghi')                 # make a new deque with three items\n",
    "for elem in d:                   # iterate over the deque's elements\n",
    "    print (elem.upper())"
   ]
  },
  {
   "cell_type": "code",
   "execution_count": 5,
   "metadata": {
    "collapsed": true
   },
   "outputs": [],
   "source": [
    "def preprocess_df(data, shuffle=True):\n",
    "    mapped_data = data.copy()\n",
    "    SEQ_LEN = 60\n",
    "\n",
    "    scaler = RobustScaler()\n",
    "    data = scaler.fit_transform(data)\n",
    "\n",
    "    sequential_data = []  # this is a list that will CONTAIN the sequences\n",
    "    prev_days = deque(maxlen=SEQ_LEN)  # These will be our actual sequences. They are made with deque, which keeps the maximum length by popping out older values as new ones come in\n",
    "\n",
    "    for i in data:  # iterate over the values\n",
    "        prev_days.append([n for n in i[:-1]])  # store all but the target\n",
    "\n",
    "        # if prev_days have 60 days of data\n",
    "        if len(prev_days) == SEQ_LEN:\n",
    "            # sequential_data = [prev_days_data, target variable]\n",
    "            sequential_data.append([np.array(prev_days), i[-1]])  \n",
    "    if shuffle == True:\n",
    "        random.shuffle(sequential_data)  # shuffle for good measure.\n",
    "\n",
    "    X = []\n",
    "    y = []\n",
    "\n",
    "    for seq, target in sequential_data:  # going over our new sequential data\n",
    "        X.append(seq)  # X is the sequences\n",
    "        y.append(target)  # y is the targets/labels (buys vs sell/notbuy)\n",
    "    \n",
    "    if shuffle == True:\n",
    "        return np.array(X), y \n",
    "    else:\n",
    "        return np.array(X), y, mapped_data, scaler"
   ]
  },
  {
   "cell_type": "code",
   "execution_count": 6,
   "metadata": {},
   "outputs": [],
   "source": [
    "times = sorted(data.index.values)\n",
    "last_5pct = sorted(data.index.values)[-int(0.05*len(times))]\n",
    "\n",
    "validation_main_df = data[(data.index >= last_5pct)]\n",
    "main_df = data[(data.index < last_5pct)]\n",
    "\n",
    "prescaler = RobustScaler()\n",
    "prescaler = prescaler.fit(validation_main_df)\n",
    "\n",
    "X_train, y_train = preprocess_df(main_df)\n",
    "X_val, y_val, mapped_data, prescaler = preprocess_df(validation_main_df, shuffle=False)"
   ]
  },
  {
   "cell_type": "markdown",
   "metadata": {},
   "source": [
    "# Stochastic Gradient descent with restart\n",
    "\n",
    "Replacing Adam optimizer with SGDR for better performance\n",
    "\n",
    "https://www.jeremyjordan.me/nn-learning-rate/"
   ]
  },
  {
   "cell_type": "code",
   "execution_count": 7,
   "metadata": {},
   "outputs": [],
   "source": [
    "class SGDRScheduler(Callback):\n",
    "    '''Cosine annealing learning rate scheduler with periodic restarts.\n",
    "    # Usage\n",
    "        ```python\n",
    "            schedule = SGDRScheduler(min_lr=1e-5,\n",
    "                                     max_lr=1e-2,\n",
    "                                     steps_per_epoch=np.ceil(epoch_size/batch_size),\n",
    "                                     lr_decay=0.9,\n",
    "                                     cycle_length=5,\n",
    "                                     mult_factor=1.5)\n",
    "            model.fit(X_train, Y_train, epochs=100, callbacks=[schedule])\n",
    "        ```\n",
    "    # Arguments\n",
    "        min_lr: The lower bound of the learning rate range for the experiment.\n",
    "        max_lr: The upper bound of the learning rate range for the experiment.\n",
    "        steps_per_epoch: Number of mini-batches in the dataset. Calculated as `np.ceil(epoch_size/batch_size)`. \n",
    "        lr_decay: Reduce the max_lr after the completion of each cycle.\n",
    "                  Ex. To reduce the max_lr by 20% after each cycle, set this value to 0.8.\n",
    "        cycle_length: Initial number of epochs in a cycle.\n",
    "        mult_factor: Scale epochs_to_restart after each full cycle completion.\n",
    "    # References\n",
    "        Blog post: jeremyjordan.me/nn-learning-rate\n",
    "        Original paper: http://arxiv.org/abs/1608.03983\n",
    "    '''\n",
    "    def __init__(self,\n",
    "                 min_lr,\n",
    "                 max_lr,\n",
    "                 steps_per_epoch,\n",
    "                 lr_decay=1,\n",
    "                 cycle_length=10,\n",
    "                 mult_factor=2):\n",
    "\n",
    "        self.min_lr = min_lr\n",
    "        self.max_lr = max_lr\n",
    "        self.lr_decay = lr_decay\n",
    "\n",
    "        self.batch_since_restart = 0\n",
    "        self.next_restart = cycle_length\n",
    "\n",
    "        self.steps_per_epoch = steps_per_epoch\n",
    "\n",
    "        self.cycle_length = cycle_length\n",
    "        self.mult_factor = mult_factor\n",
    "\n",
    "        self.history = {}\n",
    "\n",
    "    def clr(self):\n",
    "        '''Calculate the learning rate.'''\n",
    "        fraction_to_restart = self.batch_since_restart / (self.steps_per_epoch * self.cycle_length)\n",
    "        lr = self.min_lr + 0.5 * (self.max_lr - self.min_lr) * (1 + np.cos(fraction_to_restart * np.pi))\n",
    "        return lr\n",
    "\n",
    "    def on_train_begin(self, logs={}):\n",
    "        '''Initialize the learning rate to the minimum value at the start of training.'''\n",
    "        logs = logs or {}\n",
    "        K.set_value(self.model.optimizer.lr, self.max_lr)\n",
    "\n",
    "    def on_batch_end(self, batch, logs={}):\n",
    "        '''Record previous batch statistics and update the learning rate.'''\n",
    "        logs = logs or {}\n",
    "        self.history.setdefault('lr', []).append(K.get_value(self.model.optimizer.lr))\n",
    "        for k, v in logs.items():\n",
    "            self.history.setdefault(k, []).append(v)\n",
    "\n",
    "        self.batch_since_restart += 1\n",
    "        K.set_value(self.model.optimizer.lr, self.clr())\n",
    "\n",
    "    def on_epoch_end(self, epoch, logs={}):\n",
    "        '''Check for end of current cycle, apply restarts when necessary.'''\n",
    "        if epoch + 1 == self.next_restart:\n",
    "            self.batch_since_restart = 0\n",
    "            self.cycle_length = np.ceil(self.cycle_length * self.mult_factor)\n",
    "            self.next_restart += self.cycle_length\n",
    "            self.max_lr *= self.lr_decay\n",
    "            self.best_weights = self.model.get_weights()\n",
    "\n",
    "    def on_train_end(self, logs={}):\n",
    "        '''Set weights to the values from the end of the most recent cycle for best performance.'''\n",
    "        self.model.set_weights(self.best_weights)"
   ]
  },
  {
   "cell_type": "markdown",
   "metadata": {},
   "source": [
    "# Learning rate finder"
   ]
  },
  {
   "cell_type": "code",
   "execution_count": 8,
   "metadata": {},
   "outputs": [],
   "source": [
    "class LRFinder(Callback):\n",
    "    \n",
    "    '''\n",
    "    A simple callback for finding the optimal learning rate range for your model + dataset. \n",
    "    \n",
    "    # Usage\n",
    "        ```python\n",
    "            lr_finder = LRFinder(min_lr=1e-5, \n",
    "                                 max_lr=1e-2, \n",
    "                                 steps_per_epoch=np.ceil(epoch_size/batch_size), \n",
    "                                 epochs=3)\n",
    "            model.fit(X_train, Y_train, callbacks=[lr_finder])\n",
    "            \n",
    "            lr_finder.plot_loss()\n",
    "        ```\n",
    "    \n",
    "    # Arguments\n",
    "        min_lr: The lower bound of the learning rate range for the experiment.\n",
    "        max_lr: The upper bound of the learning rate range for the experiment.\n",
    "        steps_per_epoch: Number of mini-batches in the dataset. Calculated as `np.ceil(epoch_size/batch_size)`. \n",
    "        epochs: Number of epochs to run experiment. Usually between 2 and 4 epochs is sufficient. \n",
    "        \n",
    "    # References\n",
    "        Blog post: jeremyjordan.me/nn-learning-rate\n",
    "        Original paper: https://arxiv.org/abs/1506.01186\n",
    "    '''\n",
    "    \n",
    "    def __init__(self, min_lr=1e-5, max_lr=1e-2, steps_per_epoch=None, epochs=None):\n",
    "        super().__init__()\n",
    "        \n",
    "        self.min_lr = min_lr\n",
    "        self.max_lr = max_lr\n",
    "        self.total_iterations = steps_per_epoch * epochs\n",
    "        self.iteration = 0\n",
    "        self.history = {}\n",
    "        \n",
    "    def clr(self):\n",
    "        '''Calculate the learning rate.'''\n",
    "        x = self.iteration / self.total_iterations \n",
    "        return self.min_lr + (self.max_lr-self.min_lr) * x\n",
    "        \n",
    "    def on_train_begin(self, logs=None):\n",
    "        '''Initialize the learning rate to the minimum value at the start of training.'''\n",
    "        logs = logs or {}\n",
    "        K.set_value(self.model.optimizer.lr, self.min_lr)\n",
    "        \n",
    "    def on_batch_end(self, epoch, logs=None):\n",
    "        '''Record previous batch statistics and update the learning rate.'''\n",
    "        logs = logs or {}\n",
    "        self.iteration += 1\n",
    "\n",
    "        self.history.setdefault('lr', []).append(K.get_value(self.model.optimizer.lr))\n",
    "        self.history.setdefault('iterations', []).append(self.iteration)\n",
    "\n",
    "        for k, v in logs.items():\n",
    "            self.history.setdefault(k, []).append(v)\n",
    "            \n",
    "        K.set_value(self.model.optimizer.lr, self.clr())\n",
    " \n",
    "    def plot_lr(self):\n",
    "        '''Helper function to quickly inspect the learning rate schedule.'''\n",
    "        plt.plot(self.history['iterations'], self.history['lr'])\n",
    "        plt.yscale('log')\n",
    "        plt.xlabel('Iteration')\n",
    "        plt.ylabel('Learning rate')\n",
    "        \n",
    "    def plot_loss(self):\n",
    "        '''Helper function to quickly observe the learning rate experiment results.'''\n",
    "        plt.plot(self.history['lr'], self.history['loss'])\n",
    "        plt.xscale('log')\n",
    "        plt.xlabel('Learning rate')\n",
    "        plt.ylabel('Loss')"
   ]
  },
  {
   "cell_type": "markdown",
   "metadata": {},
   "source": [
    "# Build up GRU model\n",
    "\n",
    "- Adam Optimizer = RMSProp + Momentum\n",
    "\n",
    "- RMSE should be more useful when large errors are particularly undesirable.\n",
    "\n",
    "- Batchnorm and dropout for regularization\n",
    "\n",
    "- https://www.quora.com/What-is-the-difference-between-dropout-and-batch-normalization"
   ]
  },
  {
   "cell_type": "code",
   "execution_count": 11,
   "metadata": {
    "collapsed": true
   },
   "outputs": [],
   "source": [
    "def build_model():\n",
    "    model = Sequential()\n",
    "    model.add(CuDNNLSTM(256, input_shape=(X_train.shape[1:]), return_sequences=True))\n",
    "    model.add(BatchNormalization())  #normalizes activation outputs, same reason you want to normalize your input data.\n",
    "\n",
    "    model.add(CuDNNLSTM(128, return_sequences=True))\n",
    "    model.add(BatchNormalization())\n",
    "    model.add(Dropout(0.1))\n",
    "    \n",
    "    model.add(CuDNNLSTM(64))\n",
    "    model.add(BatchNormalization())\n",
    "    model.add(Dropout(0.2))\n",
    "\n",
    "    model.add(Dense(32, activation='relu'))\n",
    "    model.add(BatchNormalization())\n",
    "    model.add(Dropout(0.2))\n",
    "\n",
    "    model.add(Dense(1, activation='tanh'))\n",
    "    \n",
    "    opt = tf.keras.optimizers.RMSprop(lr=7e-3)\n",
    "    model.compile(loss='mse',optimizer=opt, metrics=['mse'])\n",
    "    return model"
   ]
  },
  {
   "cell_type": "code",
   "execution_count": 12,
   "metadata": {
    "collapsed": true
   },
   "outputs": [],
   "source": [
    "model = build_model()"
   ]
  },
  {
   "cell_type": "code",
   "execution_count": 14,
   "metadata": {},
   "outputs": [
    {
     "ename": "ImportError",
     "evalue": "Failed to import `pydot`. Please install `pydot`. For example with `pip install pydot`.",
     "output_type": "error",
     "traceback": [
      "\u001b[0;31m---------------------------------------------------------------------------\u001b[0m",
      "\u001b[0;31mImportError\u001b[0m                               Traceback (most recent call last)",
      "\u001b[0;32m<ipython-input-14-a70009143d02>\u001b[0m in \u001b[0;36m<module>\u001b[0;34m()\u001b[0m\n\u001b[1;32m      1\u001b[0m \u001b[0;32mfrom\u001b[0m \u001b[0mkeras\u001b[0m\u001b[0;34m.\u001b[0m\u001b[0mutils\u001b[0m \u001b[0;32mimport\u001b[0m \u001b[0mplot_model\u001b[0m\u001b[0;34m\u001b[0m\u001b[0m\n\u001b[0;32m----> 2\u001b[0;31m \u001b[0mplot_model\u001b[0m\u001b[0;34m(\u001b[0m\u001b[0mmodel\u001b[0m\u001b[0;34m,\u001b[0m \u001b[0mto_file\u001b[0m\u001b[0;34m=\u001b[0m\u001b[0;34m'model.png'\u001b[0m\u001b[0;34m)\u001b[0m\u001b[0;34m\u001b[0m\u001b[0m\n\u001b[0m",
      "\u001b[0;32m~/anaconda3/envs/dasc/lib/python3.6/site-packages/keras/utils/vis_utils.py\u001b[0m in \u001b[0;36mplot_model\u001b[0;34m(model, to_file, show_shapes, show_layer_names, rankdir)\u001b[0m\n\u001b[1;32m    130\u001b[0m             \u001b[0;34m'LR'\u001b[0m \u001b[0mcreates\u001b[0m \u001b[0ma\u001b[0m \u001b[0mhorizontal\u001b[0m \u001b[0mplot\u001b[0m\u001b[0;34m.\u001b[0m\u001b[0;34m\u001b[0m\u001b[0m\n\u001b[1;32m    131\u001b[0m     \"\"\"\n\u001b[0;32m--> 132\u001b[0;31m     \u001b[0mdot\u001b[0m \u001b[0;34m=\u001b[0m \u001b[0mmodel_to_dot\u001b[0m\u001b[0;34m(\u001b[0m\u001b[0mmodel\u001b[0m\u001b[0;34m,\u001b[0m \u001b[0mshow_shapes\u001b[0m\u001b[0;34m,\u001b[0m \u001b[0mshow_layer_names\u001b[0m\u001b[0;34m,\u001b[0m \u001b[0mrankdir\u001b[0m\u001b[0;34m)\u001b[0m\u001b[0;34m\u001b[0m\u001b[0m\n\u001b[0m\u001b[1;32m    133\u001b[0m     \u001b[0m_\u001b[0m\u001b[0;34m,\u001b[0m \u001b[0mextension\u001b[0m \u001b[0;34m=\u001b[0m \u001b[0mos\u001b[0m\u001b[0;34m.\u001b[0m\u001b[0mpath\u001b[0m\u001b[0;34m.\u001b[0m\u001b[0msplitext\u001b[0m\u001b[0;34m(\u001b[0m\u001b[0mto_file\u001b[0m\u001b[0;34m)\u001b[0m\u001b[0;34m\u001b[0m\u001b[0m\n\u001b[1;32m    134\u001b[0m     \u001b[0;32mif\u001b[0m \u001b[0;32mnot\u001b[0m \u001b[0mextension\u001b[0m\u001b[0;34m:\u001b[0m\u001b[0;34m\u001b[0m\u001b[0m\n",
      "\u001b[0;32m~/anaconda3/envs/dasc/lib/python3.6/site-packages/keras/utils/vis_utils.py\u001b[0m in \u001b[0;36mmodel_to_dot\u001b[0;34m(model, show_shapes, show_layer_names, rankdir)\u001b[0m\n\u001b[1;32m     53\u001b[0m     \u001b[0;32mfrom\u001b[0m \u001b[0;34m.\u001b[0m\u001b[0;34m.\u001b[0m\u001b[0mmodels\u001b[0m \u001b[0;32mimport\u001b[0m \u001b[0mSequential\u001b[0m\u001b[0;34m\u001b[0m\u001b[0m\n\u001b[1;32m     54\u001b[0m \u001b[0;34m\u001b[0m\u001b[0m\n\u001b[0;32m---> 55\u001b[0;31m     \u001b[0m_check_pydot\u001b[0m\u001b[0;34m(\u001b[0m\u001b[0;34m)\u001b[0m\u001b[0;34m\u001b[0m\u001b[0m\n\u001b[0m\u001b[1;32m     56\u001b[0m     \u001b[0mdot\u001b[0m \u001b[0;34m=\u001b[0m \u001b[0mpydot\u001b[0m\u001b[0;34m.\u001b[0m\u001b[0mDot\u001b[0m\u001b[0;34m(\u001b[0m\u001b[0;34m)\u001b[0m\u001b[0;34m\u001b[0m\u001b[0m\n\u001b[1;32m     57\u001b[0m     \u001b[0mdot\u001b[0m\u001b[0;34m.\u001b[0m\u001b[0mset\u001b[0m\u001b[0;34m(\u001b[0m\u001b[0;34m'rankdir'\u001b[0m\u001b[0;34m,\u001b[0m \u001b[0mrankdir\u001b[0m\u001b[0;34m)\u001b[0m\u001b[0;34m\u001b[0m\u001b[0m\n",
      "\u001b[0;32m~/anaconda3/envs/dasc/lib/python3.6/site-packages/keras/utils/vis_utils.py\u001b[0m in \u001b[0;36m_check_pydot\u001b[0;34m()\u001b[0m\n\u001b[1;32m     18\u001b[0m     \u001b[0;32mif\u001b[0m \u001b[0mpydot\u001b[0m \u001b[0;32mis\u001b[0m \u001b[0;32mNone\u001b[0m\u001b[0;34m:\u001b[0m\u001b[0;34m\u001b[0m\u001b[0m\n\u001b[1;32m     19\u001b[0m         raise ImportError(\n\u001b[0;32m---> 20\u001b[0;31m             \u001b[0;34m'Failed to import `pydot`. '\u001b[0m\u001b[0;34m\u001b[0m\u001b[0m\n\u001b[0m\u001b[1;32m     21\u001b[0m             \u001b[0;34m'Please install `pydot`. '\u001b[0m\u001b[0;34m\u001b[0m\u001b[0m\n\u001b[1;32m     22\u001b[0m             'For example with `pip install pydot`.')\n",
      "\u001b[0;31mImportError\u001b[0m: Failed to import `pydot`. Please install `pydot`. For example with `pip install pydot`."
     ]
    }
   ],
   "source": [
    "from keras.utils import plot_model\n",
    "plot_model(model, to_file='model.png')"
   ]
  },
  {
   "cell_type": "code",
   "execution_count": 87,
   "metadata": {},
   "outputs": [
    {
     "name": "stdout",
     "output_type": "stream",
     "text": [
      "Epoch 1/1\n",
      "  64/4562 [..............................] - ETA: 1:39 - loss: 3.9782 - mean_squared_error: 3.9782WARNING:tensorflow:Method on_batch_end() is slow compared to the batch update (0.130216). Check your callbacks.\n",
      "4562/4562 [==============================] - 11s 2ms/step - loss: 2.1090 - mean_squared_error: 2.1090\n"
     ]
    },
    {
     "data": {
      "image/png": "[encoded data removed]",
      "text/plain": [
       "<Figure size 432x288 with 1 Axes>"
      ]
     },
     "metadata": {
      "needs_background": "light"
     },
     "output_type": "display_data"
    }
   ],
   "source": [
    "# find learning rate first\n",
    "epoch_size = 20\n",
    "batch_size = 256\n",
    "\n",
    "lr_finder = LRFinder(min_lr=1e-5, \n",
    "                     max_lr=1e-2, \n",
    "                     steps_per_epoch=np.ceil(epoch_size/batch_size), \n",
    "                     epochs=3)\n",
    "model.fit(X_train, y_train, callbacks=[lr_finder])\n",
    "\n",
    "lr_finder.plot_loss()"
   ]
  },
  {
   "cell_type": "code",
   "execution_count": 88,
   "metadata": {},
   "outputs": [
    {
     "name": "stdout",
     "output_type": "stream",
     "text": [
      "Train on 4105 samples, validate on 457 samples\n",
      "Epoch 1/20\n",
      "  64/4105 [..............................] - ETA: 1:30 - loss: 1.9547 - mean_squared_error: 1.9547WARNING:tensorflow:Method on_batch_end() is slow compared to the batch update (0.138373). Check your callbacks.\n",
      "4105/4105 [==============================] - 11s 3ms/step - loss: 1.7349 - mean_squared_error: 1.7349 - val_loss: 1.5083 - val_mean_squared_error: 1.5083\n",
      "Epoch 2/20\n",
      "4105/4105 [==============================] - 9s 2ms/step - loss: 1.5201 - mean_squared_error: 1.5201 - val_loss: 1.4421 - val_mean_squared_error: 1.4421\n",
      "Epoch 3/20\n",
      "4105/4105 [==============================] - 9s 2ms/step - loss: 1.4363 - mean_squared_error: 1.4363 - val_loss: 1.4503 - val_mean_squared_error: 1.4503\n",
      "Epoch 4/20\n",
      "4105/4105 [==============================] - 9s 2ms/step - loss: 1.4238 - mean_squared_error: 1.4238 - val_loss: 1.4527 - val_mean_squared_error: 1.4527\n",
      "Epoch 5/20\n",
      "4105/4105 [==============================] - 9s 2ms/step - loss: 1.4171 - mean_squared_error: 1.4171 - val_loss: 1.4516 - val_mean_squared_error: 1.4516\n",
      "Epoch 6/20\n",
      "4105/4105 [==============================] - 9s 2ms/step - loss: 1.4099 - mean_squared_error: 1.4099 - val_loss: 1.4811 - val_mean_squared_error: 1.4811\n",
      "Epoch 7/20\n",
      "4105/4105 [==============================] - 9s 2ms/step - loss: 1.3976 - mean_squared_error: 1.3976 - val_loss: 1.4497 - val_mean_squared_error: 1.4497\n",
      "Epoch 8/20\n",
      "4105/4105 [==============================] - 9s 2ms/step - loss: 1.3920 - mean_squared_error: 1.3920 - val_loss: 1.4741 - val_mean_squared_error: 1.4741\n",
      "Epoch 9/20\n",
      "4105/4105 [==============================] - 9s 2ms/step - loss: 1.3725 - mean_squared_error: 1.3725 - val_loss: 1.4644 - val_mean_squared_error: 1.4644\n",
      "Epoch 10/20\n",
      "4105/4105 [==============================] - 9s 2ms/step - loss: 1.3829 - mean_squared_error: 1.3829 - val_loss: 1.4679 - val_mean_squared_error: 1.4679\n",
      "Epoch 11/20\n",
      "4105/4105 [==============================] - 9s 2ms/step - loss: 1.3694 - mean_squared_error: 1.3694 - val_loss: 1.4852 - val_mean_squared_error: 1.4852\n",
      "Epoch 12/20\n",
      "4105/4105 [==============================] - 9s 2ms/step - loss: 1.3782 - mean_squared_error: 1.3782 - val_loss: 1.4459 - val_mean_squared_error: 1.4459\n",
      "Epoch 13/20\n",
      "4105/4105 [==============================] - 9s 2ms/step - loss: 1.3713 - mean_squared_error: 1.3713 - val_loss: 1.4410 - val_mean_squared_error: 1.4410\n",
      "Epoch 14/20\n",
      "4105/4105 [==============================] - 9s 2ms/step - loss: 1.3792 - mean_squared_error: 1.3792 - val_loss: 1.5194 - val_mean_squared_error: 1.5194\n",
      "Epoch 15/20\n",
      "4105/4105 [==============================] - 9s 2ms/step - loss: 1.3718 - mean_squared_error: 1.3718 - val_loss: 1.4178 - val_mean_squared_error: 1.4178\n",
      "Epoch 16/20\n",
      "4105/4105 [==============================] - 9s 2ms/step - loss: 1.3704 - mean_squared_error: 1.3704 - val_loss: 1.4328 - val_mean_squared_error: 1.4328\n",
      "Epoch 17/20\n",
      "4105/4105 [==============================] - 9s 2ms/step - loss: 1.3558 - mean_squared_error: 1.3558 - val_loss: 1.4327 - val_mean_squared_error: 1.4327\n",
      "Epoch 18/20\n",
      "4105/4105 [==============================] - 9s 2ms/step - loss: 1.3680 - mean_squared_error: 1.3680 - val_loss: 1.4291 - val_mean_squared_error: 1.4291\n",
      "Epoch 19/20\n",
      "4105/4105 [==============================] - 9s 2ms/step - loss: 1.3511 - mean_squared_error: 1.3511 - val_loss: 1.4710 - val_mean_squared_error: 1.4710\n",
      "Epoch 20/20\n",
      "4105/4105 [==============================] - 9s 2ms/step - loss: 1.3578 - mean_squared_error: 1.3578 - val_loss: 1.4384 - val_mean_squared_error: 1.4384\n"
     ]
    },
    {
     "data": {
      "text/plain": [
       "<tensorflow.python.keras.callbacks.History at 0x7fd18e540ef0>"
      ]
     },
     "execution_count": 88,
     "metadata": {},
     "output_type": "execute_result"
    }
   ],
   "source": [
    "model = build_model()\n",
    "schedule = SGDRScheduler(min_lr=1e-3,\n",
    "                         max_lr=1e-2,\n",
    "                         steps_per_epoch=np.ceil(epoch_size/batch_size),\n",
    "                         lr_decay=0.9,\n",
    "                         cycle_length= 3,\n",
    "                         mult_factor=1.5)\n",
    "\n",
    "model.fit(\n",
    "    X_train,\n",
    "    y_train,\n",
    "    epochs=20, \n",
    "    callbacks=[schedule],\n",
    "    validation_split=0.1,\n",
    "    verbose=1)"
   ]
  },
  {
   "cell_type": "code",
   "execution_count": 89,
   "metadata": {},
   "outputs": [
    {
     "name": "stdout",
     "output_type": "stream",
     "text": [
      "Train RMSE: 1.180668\n",
      "Test RMSE: 1.681138\n"
     ]
    }
   ],
   "source": [
    "trainScore = model.evaluate(X_train, y_train, verbose=0)\n",
    "print('Train RMSE: %2f' % math.sqrt(trainScore[0]))\n",
    "\n",
    "testScore = model.evaluate(X_val, y_val, verbose=0)\n",
    "print('Test RMSE: %2f'% math.sqrt(testScore[0]))"
   ]
  },
  {
   "cell_type": "code",
   "execution_count": 181,
   "metadata": {
    "collapsed": true
   },
   "outputs": [],
   "source": [
    "p = model.predict(X_val)"
   ]
  },
  {
   "cell_type": "markdown",
   "metadata": {},
   "source": [
    "If the chosen model fits worse than a horizontal line, then R2 is negative."
   ]
  },
  {
   "cell_type": "markdown",
   "metadata": {},
   "source": [
    "# Plotting Predicted value vs True value"
   ]
  },
  {
   "cell_type": "code",
   "execution_count": 185,
   "metadata": {},
   "outputs": [],
   "source": [
    "padding = np.zeros((184, 9))\n",
    "pred_result = pd.DataFrame(data=padding)\n",
    "pred_result['9'] = p\n",
    "pred = prescaler.inverse_transform(pred_result)\n",
    "\n",
    "val_result = pd.DataFrame(data=padding)\n",
    "val_result['9'] = y_val\n",
    "val = prescaler.inverse_transform(val_result)"
   ]
  },
  {
   "cell_type": "code",
   "execution_count": 188,
   "metadata": {},
   "outputs": [],
   "source": [
    "pred = pred[:, -1]\n",
    "val = val[:, -1]"
   ]
  },
  {
   "cell_type": "code",
   "execution_count": 194,
   "metadata": {},
   "outputs": [
    {
     "data": {
      "image/png": "[encoded data removed]",
      "text/plain": [
       "<Figure size 1512x504 with 1 Axes>"
      ]
     },
     "metadata": {
      "needs_background": "light"
     },
     "output_type": "display_data"
    }
   ],
   "source": [
    "plt.figure(figsize=(21,7))\n",
    "plt.plot(data.index[-len(pred):], np.expm1(pred)*100, color='red', label='Prediction')\n",
    "plt.plot(data.index[-len(val):], np.expm1(val)*100, color='blue', label='True Value')\n",
    "plt.xlabel(\"Date\")\n",
    "plt.ylabel(\"Return (%)\")\n",
    "plt.title('Predicted value vs True Value')\n",
    "plt.legend(loc='best')\n",
    "plt.show()"
   ]
  },
  {
   "cell_type": "markdown",
   "metadata": {},
   "source": [
    "# The residual plot is not normal"
   ]
  },
  {
   "cell_type": "code",
   "execution_count": 192,
   "metadata": {},
   "outputs": [
    {
     "data": {
      "text/plain": [
       "((array([-2.67289247, -2.36046913, -2.18213076, -2.05428693, -1.95319937,\n",
       "         -1.86884759, -1.7960154 , -1.73162634, -1.67370719, -1.62091343,\n",
       "         -1.57228594, -1.52711548, -1.48486215, -1.44510502, -1.40750925,\n",
       "         -1.37180394, -1.33776662, -1.30521228, -1.27398532, -1.24395353,\n",
       "         -1.21500362, -1.18703768, -1.15997053, -1.13372755, -1.10824298,\n",
       "         -1.08345855, -1.05932238, -1.03578805, -1.01281386, -0.99036218,\n",
       "         -0.96839893, -0.94689317, -0.92581667, -0.90514361, -0.88485034,\n",
       "         -0.86491508, -0.84531776, -0.82603984, -0.80706413, -0.78837467,\n",
       "         -0.76995661, -0.75179612, -0.73388025, -0.71619691, -0.69873475,\n",
       "         -0.68148309, -0.66443192, -0.64757178, -0.63089375, -0.61438939,\n",
       "         -0.59805072, -0.58187017, -0.56584054, -0.54995501, -0.53420707,\n",
       "         -0.51859052, -0.50309943, -0.48772815, -0.47247125, -0.45732355,\n",
       "         -0.44228007, -0.42733602, -0.41248681, -0.39772801, -0.38305534,\n",
       "         -0.36846467, -0.35395204, -0.33951357, -0.32514555, -0.31084433,\n",
       "         -0.29660642, -0.28242838, -0.26830689, -0.25423871, -0.24022066,\n",
       "         -0.22624967, -0.2123227 , -0.19843679, -0.18458905, -0.17077661,\n",
       "         -0.15699667, -0.14324649, -0.12952333, -0.11582453, -0.10214743,\n",
       "         -0.08848941, -0.07484788, -0.06122026, -0.04760401, -0.03399657,\n",
       "         -0.02039543, -0.00679806,  0.00679806,  0.02039543,  0.03399657,\n",
       "          0.04760401,  0.06122026,  0.07484788,  0.08848941,  0.10214743,\n",
       "          0.11582453,  0.12952333,  0.14324649,  0.15699667,  0.17077661,\n",
       "          0.18458905,  0.19843679,  0.2123227 ,  0.22624967,  0.24022066,\n",
       "          0.25423871,  0.26830689,  0.28242838,  0.29660642,  0.31084433,\n",
       "          0.32514555,  0.33951357,  0.35395204,  0.36846467,  0.38305534,\n",
       "          0.39772801,  0.41248681,  0.42733602,  0.44228007,  0.45732355,\n",
       "          0.47247125,  0.48772815,  0.50309943,  0.51859052,  0.53420707,\n",
       "          0.54995501,  0.56584054,  0.58187017,  0.59805072,  0.61438939,\n",
       "          0.63089375,  0.64757178,  0.66443192,  0.68148309,  0.69873475,\n",
       "          0.71619691,  0.73388025,  0.75179612,  0.76995661,  0.78837467,\n",
       "          0.80706413,  0.82603984,  0.84531776,  0.86491508,  0.88485034,\n",
       "          0.90514361,  0.92581667,  0.94689317,  0.96839893,  0.99036218,\n",
       "          1.01281386,  1.03578805,  1.05932238,  1.08345855,  1.10824298,\n",
       "          1.13372755,  1.15997053,  1.18703768,  1.21500362,  1.24395353,\n",
       "          1.27398532,  1.30521228,  1.33776662,  1.37180394,  1.40750925,\n",
       "          1.44510502,  1.48486215,  1.52711548,  1.57228594,  1.62091343,\n",
       "          1.67370719,  1.73162634,  1.7960154 ,  1.86884759,  1.95319937,\n",
       "          2.05428693,  2.18213076,  2.36046913,  2.67289247]),\n",
       "  array([-1.86106448e-02, -1.84996936e-02, -1.69804149e-02, -1.64634262e-02,\n",
       "         -1.59437478e-02, -1.35155658e-02, -1.24442900e-02, -1.21175351e-02,\n",
       "         -1.18984919e-02, -1.16035417e-02, -1.12275861e-02, -1.05765533e-02,\n",
       "         -9.55482963e-03, -9.55395454e-03, -9.45507593e-03, -8.49437967e-03,\n",
       "         -8.46041985e-03, -8.18336881e-03, -8.17293515e-03, -7.73569781e-03,\n",
       "         -7.33459274e-03, -7.18777424e-03, -6.89695424e-03, -6.60399516e-03,\n",
       "         -6.44026439e-03, -6.11569238e-03, -5.82468920e-03, -5.76463727e-03,\n",
       "         -5.74989483e-03, -5.64365863e-03, -5.38483824e-03, -5.33839093e-03,\n",
       "         -5.25190145e-03, -5.09011561e-03, -5.01358392e-03, -4.96540210e-03,\n",
       "         -4.89068212e-03, -4.81316170e-03, -4.68466133e-03, -4.59300679e-03,\n",
       "         -4.42990523e-03, -4.21276825e-03, -4.08296457e-03, -3.75240548e-03,\n",
       "         -3.17592791e-03, -2.84647265e-03, -2.47751552e-03, -2.36519342e-03,\n",
       "         -2.30469800e-03, -2.28606159e-03, -2.21085183e-03, -2.10787992e-03,\n",
       "         -2.08981348e-03, -1.96393611e-03, -1.91295148e-03, -1.73906094e-03,\n",
       "         -1.73161988e-03, -1.72726315e-03, -1.71744885e-03, -1.63894179e-03,\n",
       "         -1.62083201e-03, -1.56939650e-03, -1.55808261e-03, -1.49451892e-03,\n",
       "         -1.48344437e-03, -1.46248369e-03, -1.44999212e-03, -1.21643282e-03,\n",
       "         -1.20597094e-03, -1.17826472e-03, -1.15478950e-03, -1.11399297e-03,\n",
       "         -1.03999736e-03, -8.93537080e-04, -8.70139565e-04, -8.51040635e-04,\n",
       "         -8.06682767e-04, -5.90115100e-04, -5.79627443e-04, -5.42385193e-04,\n",
       "         -5.34618856e-04, -5.02895988e-04, -4.43349189e-04, -3.94245807e-04,\n",
       "         -3.29297109e-04, -2.38576060e-04, -1.76457126e-04, -1.03364042e-04,\n",
       "         -9.01022051e-05, -7.82563989e-05,  8.83190307e-06,  8.53692741e-05,\n",
       "          1.60251440e-04,  2.68807638e-04,  3.15296954e-04,  3.50202416e-04,\n",
       "          3.52158173e-04,  3.77581486e-04,  4.25377414e-04,  4.54937553e-04,\n",
       "          4.88837198e-04,  4.98527263e-04,  5.41812616e-04,  6.64694422e-04,\n",
       "          6.81092928e-04,  6.97250540e-04,  7.03689860e-04,  7.06873530e-04,\n",
       "          7.33573150e-04,  8.26030373e-04,  9.67675570e-04,  1.08831213e-03,\n",
       "          1.21388014e-03,  1.23082336e-03,  1.24110414e-03,  1.37053356e-03,\n",
       "          1.39944572e-03,  1.40149462e-03,  1.43740262e-03,  1.49052244e-03,\n",
       "          1.49078113e-03,  1.50600909e-03,  1.51639717e-03,  1.60201713e-03,\n",
       "          1.67156618e-03,  1.72340115e-03,  1.75361671e-03,  1.90691196e-03,\n",
       "          1.90973992e-03,  2.01024384e-03,  2.11892148e-03,  2.11995454e-03,\n",
       "          2.12434787e-03,  2.24102017e-03,  2.27311361e-03,  2.27430040e-03,\n",
       "          2.27457319e-03,  2.30427728e-03,  2.36172430e-03,  2.36940034e-03,\n",
       "          2.50400423e-03,  2.56389964e-03,  2.64066802e-03,  2.89213647e-03,\n",
       "          2.95289264e-03,  2.96396069e-03,  3.01595399e-03,  3.29087265e-03,\n",
       "          3.35397397e-03,  3.37207436e-03,  3.78070571e-03,  3.79328649e-03,\n",
       "          4.25157955e-03,  4.59266125e-03,  4.61626393e-03,  4.70418925e-03,\n",
       "          4.89196441e-03,  5.02814845e-03,  5.06340332e-03,  5.28078677e-03,\n",
       "          5.32310583e-03,  5.36315911e-03,  5.47552604e-03,  5.86537236e-03,\n",
       "          5.89252156e-03,  6.30559569e-03,  6.54679192e-03,  6.75114837e-03,\n",
       "          7.02377600e-03,  7.06110324e-03,  7.77158096e-03,  8.16819433e-03,\n",
       "          8.34897266e-03,  1.06236078e-02,  1.18035196e-02,  1.19091283e-02,\n",
       "          1.39608710e-02,  1.63827270e-02,  2.00130969e-02,  2.04939937e-02,\n",
       "          2.46808109e-02,  3.32113676e-02,  3.60793545e-02,  4.15562967e-02])),\n",
       " (0.007263143917977626, 0.00018735400281190867, 0.9141322226522435))"
      ]
     },
     "execution_count": 192,
     "metadata": {},
     "output_type": "execute_result"
    },
    {
     "data": {
      "image/png": "[encoded data removed]",
      "text/plain": [
       "<Figure size 432x288 with 1 Axes>"
      ]
     },
     "metadata": {
      "needs_background": "light"
     },
     "output_type": "display_data"
    }
   ],
   "source": [
    "import scipy.stats as stats\n",
    "residual = np.expm1(pred) - np.expm1(val)\n",
    "stats.probplot(residual, dist=\"norm\", plot=plt)"
   ]
  },
  {
   "cell_type": "code",
   "execution_count": 195,
   "metadata": {},
   "outputs": [],
   "source": [
    "# Updates to be continued"
   ]
  },
  {
   "cell_type": "code",
   "execution_count": null,
   "metadata": {},
   "outputs": [],
   "source": []
  }
 ],
 "metadata": {
  "kernelspec": {
   "display_name": "Python 3",
   "language": "python",
   "name": "python3"
  },
  "language_info": {
   "codemirror_mode": {
    "name": "ipython",
    "version": 3
   },
   "file_extension": ".py",
   "mimetype": "text/x-python",
   "name": "python",
   "nbconvert_exporter": "python",
   "pygments_lexer": "ipython3",
   "version": "3.6.6"
  }
 },
 "nbformat": 4,
 "nbformat_minor": 2
}
