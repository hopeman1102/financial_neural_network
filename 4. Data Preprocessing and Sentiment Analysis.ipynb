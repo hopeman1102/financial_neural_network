{
 "cells": [
  {
   "cell_type": "markdown",
   "metadata": {},
   "source": [
    "# Import module"
   ]
  },
  {
   "cell_type": "code",
   "execution_count": 2,
   "metadata": {},
   "outputs": [
    {
     "name": "stderr",
     "output_type": "stream",
     "text": [
      "C:\\Users\\user\\Anaconda3\\envs\\tensorflow\\lib\\site-packages\\nltk\\twitter\\__init__.py:20: UserWarning: The twython library has not been installed. Some functionality from the twitter package will not be available.\n",
      "  warnings.warn(\"The twython library has not been installed. \"\n"
     ]
    }
   ],
   "source": [
    "# -*- coding: utf-8 -*-\n",
    "import pandas as pd\n",
    "import numpy as np\n",
    "from nltk.sentiment import SentimentAnalyzer\n",
    "import unicodedata\n",
    "from nltk.sentiment.util import *\n",
    "from nltk.sentiment.vader import SentimentIntensityAnalyzer\n",
    "import seaborn as sns\n",
    "%matplotlib inline"
   ]
  },
  {
   "cell_type": "markdown",
   "metadata": {},
   "source": [
    "# Import CSV file with all technical data and news"
   ]
  },
  {
   "cell_type": "code",
   "execution_count": 95,
   "metadata": {
    "collapsed": true
   },
   "outputs": [],
   "source": [
    "# encoding to avoid UnicodeDecodeError\n",
    "data = pd.read_csv(\"alldata.csv\", index_col=0, encoding = \"ISO-8859-1\")"
   ]
  },
  {
   "cell_type": "code",
   "execution_count": 96,
   "metadata": {},
   "outputs": [
    {
     "data": {
      "text/html": [
       "<div>\n",
       "<table border=\"1\" class=\"dataframe\">\n",
       "  <thead>\n",
       "    <tr style=\"text-align: right;\">\n",
       "      <th></th>\n",
       "      <th>Open</th>\n",
       "      <th>High</th>\n",
       "      <th>Low</th>\n",
       "      <th>Close</th>\n",
       "      <th>Adj Close</th>\n",
       "      <th>Volume</th>\n",
       "      <th>lrets</th>\n",
       "      <th>MACD</th>\n",
       "      <th>stochastics</th>\n",
       "      <th>ATR</th>\n",
       "      <th>News</th>\n",
       "    </tr>\n",
       "  </thead>\n",
       "  <tbody>\n",
       "    <tr>\n",
       "      <th>1950-01-24</th>\n",
       "      <td>16.860001</td>\n",
       "      <td>16.860001</td>\n",
       "      <td>16.860001</td>\n",
       "      <td>16.860001</td>\n",
       "      <td>16.860001</td>\n",
       "      <td>1250000.0</td>\n",
       "      <td>-0.003552</td>\n",
       "      <td>0.002636</td>\n",
       "      <td>45.238333</td>\n",
       "      <td>0.059999</td>\n",
       "      <td>NaN</td>\n",
       "    </tr>\n",
       "    <tr>\n",
       "      <th>1950-01-25</th>\n",
       "      <td>16.740000</td>\n",
       "      <td>16.740000</td>\n",
       "      <td>16.740000</td>\n",
       "      <td>16.740000</td>\n",
       "      <td>16.740000</td>\n",
       "      <td>1700000.0</td>\n",
       "      <td>-0.007143</td>\n",
       "      <td>-0.003952</td>\n",
       "      <td>16.666667</td>\n",
       "      <td>0.120001</td>\n",
       "      <td>NaN</td>\n",
       "    </tr>\n",
       "    <tr>\n",
       "      <th>1950-01-26</th>\n",
       "      <td>16.730000</td>\n",
       "      <td>16.730000</td>\n",
       "      <td>16.730000</td>\n",
       "      <td>16.730000</td>\n",
       "      <td>16.730000</td>\n",
       "      <td>1150000.0</td>\n",
       "      <td>-0.000598</td>\n",
       "      <td>-0.008599</td>\n",
       "      <td>14.285714</td>\n",
       "      <td>0.010000</td>\n",
       "      <td>NaN</td>\n",
       "    </tr>\n",
       "    <tr>\n",
       "      <th>1950-01-27</th>\n",
       "      <td>16.820000</td>\n",
       "      <td>16.820000</td>\n",
       "      <td>16.820000</td>\n",
       "      <td>16.820000</td>\n",
       "      <td>16.820000</td>\n",
       "      <td>1250000.0</td>\n",
       "      <td>0.005365</td>\n",
       "      <td>-0.006366</td>\n",
       "      <td>35.714286</td>\n",
       "      <td>0.090000</td>\n",
       "      <td>NaN</td>\n",
       "    </tr>\n",
       "    <tr>\n",
       "      <th>1950-01-30</th>\n",
       "      <td>17.020000</td>\n",
       "      <td>17.020000</td>\n",
       "      <td>17.020000</td>\n",
       "      <td>17.020000</td>\n",
       "      <td>17.020000</td>\n",
       "      <td>1640000.0</td>\n",
       "      <td>0.011820</td>\n",
       "      <td>0.006641</td>\n",
       "      <td>83.333333</td>\n",
       "      <td>0.200000</td>\n",
       "      <td>NaN</td>\n",
       "    </tr>\n",
       "  </tbody>\n",
       "</table>\n",
       "</div>"
      ],
      "text/plain": [
       "                 Open       High        Low      Close  Adj Close     Volume  \\\n",
       "1950-01-24  16.860001  16.860001  16.860001  16.860001  16.860001  1250000.0   \n",
       "1950-01-25  16.740000  16.740000  16.740000  16.740000  16.740000  1700000.0   \n",
       "1950-01-26  16.730000  16.730000  16.730000  16.730000  16.730000  1150000.0   \n",
       "1950-01-27  16.820000  16.820000  16.820000  16.820000  16.820000  1250000.0   \n",
       "1950-01-30  17.020000  17.020000  17.020000  17.020000  17.020000  1640000.0   \n",
       "\n",
       "               lrets      MACD  stochastics       ATR News  \n",
       "1950-01-24 -0.003552  0.002636    45.238333  0.059999  NaN  \n",
       "1950-01-25 -0.007143 -0.003952    16.666667  0.120001  NaN  \n",
       "1950-01-26 -0.000598 -0.008599    14.285714  0.010000  NaN  \n",
       "1950-01-27  0.005365 -0.006366    35.714286  0.090000  NaN  \n",
       "1950-01-30  0.011820  0.006641    83.333333  0.200000  NaN  "
      ]
     },
     "execution_count": 96,
     "metadata": {},
     "output_type": "execute_result"
    }
   ],
   "source": [
    "data.head()"
   ]
  },
  {
   "cell_type": "markdown",
   "metadata": {},
   "source": [
    "# Remove data without news"
   ]
  },
  {
   "cell_type": "code",
   "execution_count": 97,
   "metadata": {},
   "outputs": [
    {
     "data": {
      "text/html": [
       "<div>\n",
       "<table border=\"1\" class=\"dataframe\">\n",
       "  <thead>\n",
       "    <tr style=\"text-align: right;\">\n",
       "      <th></th>\n",
       "      <th>Open</th>\n",
       "      <th>High</th>\n",
       "      <th>Low</th>\n",
       "      <th>Close</th>\n",
       "      <th>Adj Close</th>\n",
       "      <th>Volume</th>\n",
       "      <th>lrets</th>\n",
       "      <th>MACD</th>\n",
       "      <th>stochastics</th>\n",
       "      <th>ATR</th>\n",
       "      <th>News</th>\n",
       "    </tr>\n",
       "  </thead>\n",
       "  <tbody>\n",
       "    <tr>\n",
       "      <th>1990-01-02</th>\n",
       "      <td>353.399994</td>\n",
       "      <td>359.690002</td>\n",
       "      <td>351.980011</td>\n",
       "      <td>359.690002</td>\n",
       "      <td>359.690002</td>\n",
       "      <td>162070000.0</td>\n",
       "      <td>0.017642</td>\n",
       "      <td>1.018527</td>\n",
       "      <td>100.000000</td>\n",
       "      <td>7.709991</td>\n",
       "      <td>Guest Supply Inc reports earnings for Qtr to S...</td>\n",
       "    </tr>\n",
       "    <tr>\n",
       "      <th>1990-01-03</th>\n",
       "      <td>359.690002</td>\n",
       "      <td>360.589996</td>\n",
       "      <td>357.890015</td>\n",
       "      <td>358.760010</td>\n",
       "      <td>358.760010</td>\n",
       "      <td>192330000.0</td>\n",
       "      <td>-0.002589</td>\n",
       "      <td>1.392774</td>\n",
       "      <td>94.602487</td>\n",
       "      <td>2.699981</td>\n",
       "      <td>For Judaism's Remnant, Coup Is Mixed BlessingP...</td>\n",
       "    </tr>\n",
       "    <tr>\n",
       "      <th>1990-01-04</th>\n",
       "      <td>358.760010</td>\n",
       "      <td>358.760010</td>\n",
       "      <td>352.890015</td>\n",
       "      <td>355.670013</td>\n",
       "      <td>355.670013</td>\n",
       "      <td>177000000.0</td>\n",
       "      <td>-0.008650</td>\n",
       "      <td>1.377343</td>\n",
       "      <td>76.668680</td>\n",
       "      <td>5.869995</td>\n",
       "      <td>Group W Sports GainsCooney's Common Denominato...</td>\n",
       "    </tr>\n",
       "    <tr>\n",
       "      <th>1990-01-05</th>\n",
       "      <td>355.670013</td>\n",
       "      <td>355.670013</td>\n",
       "      <td>351.350006</td>\n",
       "      <td>352.200012</td>\n",
       "      <td>352.200012</td>\n",
       "      <td>158530000.0</td>\n",
       "      <td>-0.009804</td>\n",
       "      <td>1.058777</td>\n",
       "      <td>56.529395</td>\n",
       "      <td>4.320007</td>\n",
       "      <td>President Wins Bipartisan Praise For Solution ...</td>\n",
       "    </tr>\n",
       "    <tr>\n",
       "      <th>1990-01-06</th>\n",
       "      <td>NaN</td>\n",
       "      <td>NaN</td>\n",
       "      <td>NaN</td>\n",
       "      <td>NaN</td>\n",
       "      <td>NaN</td>\n",
       "      <td>NaN</td>\n",
       "      <td>NaN</td>\n",
       "      <td>NaN</td>\n",
       "      <td>NaN</td>\n",
       "      <td>NaN</td>\n",
       "      <td>CorrectionsFrom Jewish Eden to EmbarrassmentAw...</td>\n",
       "    </tr>\n",
       "  </tbody>\n",
       "</table>\n",
       "</div>"
      ],
      "text/plain": [
       "                  Open        High         Low       Close   Adj Close  \\\n",
       "1990-01-02  353.399994  359.690002  351.980011  359.690002  359.690002   \n",
       "1990-01-03  359.690002  360.589996  357.890015  358.760010  358.760010   \n",
       "1990-01-04  358.760010  358.760010  352.890015  355.670013  355.670013   \n",
       "1990-01-05  355.670013  355.670013  351.350006  352.200012  352.200012   \n",
       "1990-01-06         NaN         NaN         NaN         NaN         NaN   \n",
       "\n",
       "                 Volume     lrets      MACD  stochastics       ATR  \\\n",
       "1990-01-02  162070000.0  0.017642  1.018527   100.000000  7.709991   \n",
       "1990-01-03  192330000.0 -0.002589  1.392774    94.602487  2.699981   \n",
       "1990-01-04  177000000.0 -0.008650  1.377343    76.668680  5.869995   \n",
       "1990-01-05  158530000.0 -0.009804  1.058777    56.529395  4.320007   \n",
       "1990-01-06          NaN       NaN       NaN          NaN       NaN   \n",
       "\n",
       "                                                         News  \n",
       "1990-01-02  Guest Supply Inc reports earnings for Qtr to S...  \n",
       "1990-01-03  For Judaism's Remnant, Coup Is Mixed BlessingP...  \n",
       "1990-01-04  Group W Sports GainsCooney's Common Denominato...  \n",
       "1990-01-05  President Wins Bipartisan Praise For Solution ...  \n",
       "1990-01-06  CorrectionsFrom Jewish Eden to EmbarrassmentAw...  "
      ]
     },
     "execution_count": 97,
     "metadata": {},
     "output_type": "execute_result"
    }
   ],
   "source": [
    "data = data.ix[\"1990-01-02\":]\n",
    "data.head()"
   ]
  },
  {
   "cell_type": "markdown",
   "metadata": {},
   "source": [
    "# Remove holiday \n",
    "Feel free to use forward fill to replace Nan value"
   ]
  },
  {
   "cell_type": "code",
   "execution_count": 98,
   "metadata": {},
   "outputs": [
    {
     "data": {
      "text/html": [
       "<div>\n",
       "<table border=\"1\" class=\"dataframe\">\n",
       "  <thead>\n",
       "    <tr style=\"text-align: right;\">\n",
       "      <th></th>\n",
       "      <th>Open</th>\n",
       "      <th>High</th>\n",
       "      <th>Low</th>\n",
       "      <th>Close</th>\n",
       "      <th>Adj Close</th>\n",
       "      <th>Volume</th>\n",
       "      <th>lrets</th>\n",
       "      <th>MACD</th>\n",
       "      <th>stochastics</th>\n",
       "      <th>ATR</th>\n",
       "      <th>News</th>\n",
       "    </tr>\n",
       "  </thead>\n",
       "  <tbody>\n",
       "    <tr>\n",
       "      <th>1990-01-02</th>\n",
       "      <td>353.399994</td>\n",
       "      <td>359.690002</td>\n",
       "      <td>351.980011</td>\n",
       "      <td>359.690002</td>\n",
       "      <td>359.690002</td>\n",
       "      <td>162070000.0</td>\n",
       "      <td>0.017642</td>\n",
       "      <td>1.018527</td>\n",
       "      <td>100.000000</td>\n",
       "      <td>7.709991</td>\n",
       "      <td>Guest Supply Inc reports earnings for Qtr to S...</td>\n",
       "    </tr>\n",
       "    <tr>\n",
       "      <th>1990-01-03</th>\n",
       "      <td>359.690002</td>\n",
       "      <td>360.589996</td>\n",
       "      <td>357.890015</td>\n",
       "      <td>358.760010</td>\n",
       "      <td>358.760010</td>\n",
       "      <td>192330000.0</td>\n",
       "      <td>-0.002589</td>\n",
       "      <td>1.392774</td>\n",
       "      <td>94.602487</td>\n",
       "      <td>2.699981</td>\n",
       "      <td>For Judaism's Remnant, Coup Is Mixed BlessingP...</td>\n",
       "    </tr>\n",
       "    <tr>\n",
       "      <th>1990-01-04</th>\n",
       "      <td>358.760010</td>\n",
       "      <td>358.760010</td>\n",
       "      <td>352.890015</td>\n",
       "      <td>355.670013</td>\n",
       "      <td>355.670013</td>\n",
       "      <td>177000000.0</td>\n",
       "      <td>-0.008650</td>\n",
       "      <td>1.377343</td>\n",
       "      <td>76.668680</td>\n",
       "      <td>5.869995</td>\n",
       "      <td>Group W Sports GainsCooney's Common Denominato...</td>\n",
       "    </tr>\n",
       "    <tr>\n",
       "      <th>1990-01-05</th>\n",
       "      <td>355.670013</td>\n",
       "      <td>355.670013</td>\n",
       "      <td>351.350006</td>\n",
       "      <td>352.200012</td>\n",
       "      <td>352.200012</td>\n",
       "      <td>158530000.0</td>\n",
       "      <td>-0.009804</td>\n",
       "      <td>1.058777</td>\n",
       "      <td>56.529395</td>\n",
       "      <td>4.320007</td>\n",
       "      <td>President Wins Bipartisan Praise For Solution ...</td>\n",
       "    </tr>\n",
       "    <tr>\n",
       "      <th>1990-01-08</th>\n",
       "      <td>352.200012</td>\n",
       "      <td>354.239990</td>\n",
       "      <td>350.540009</td>\n",
       "      <td>353.790009</td>\n",
       "      <td>353.790009</td>\n",
       "      <td>140110000.0</td>\n",
       "      <td>0.004504</td>\n",
       "      <td>0.898704</td>\n",
       "      <td>65.757462</td>\n",
       "      <td>3.699981</td>\n",
       "      <td>Reviews/Dance;   'Cortege Hongrois,' Big and C...</td>\n",
       "    </tr>\n",
       "  </tbody>\n",
       "</table>\n",
       "</div>"
      ],
      "text/plain": [
       "                  Open        High         Low       Close   Adj Close  \\\n",
       "1990-01-02  353.399994  359.690002  351.980011  359.690002  359.690002   \n",
       "1990-01-03  359.690002  360.589996  357.890015  358.760010  358.760010   \n",
       "1990-01-04  358.760010  358.760010  352.890015  355.670013  355.670013   \n",
       "1990-01-05  355.670013  355.670013  351.350006  352.200012  352.200012   \n",
       "1990-01-08  352.200012  354.239990  350.540009  353.790009  353.790009   \n",
       "\n",
       "                 Volume     lrets      MACD  stochastics       ATR  \\\n",
       "1990-01-02  162070000.0  0.017642  1.018527   100.000000  7.709991   \n",
       "1990-01-03  192330000.0 -0.002589  1.392774    94.602487  2.699981   \n",
       "1990-01-04  177000000.0 -0.008650  1.377343    76.668680  5.869995   \n",
       "1990-01-05  158530000.0 -0.009804  1.058777    56.529395  4.320007   \n",
       "1990-01-08  140110000.0  0.004504  0.898704    65.757462  3.699981   \n",
       "\n",
       "                                                         News  \n",
       "1990-01-02  Guest Supply Inc reports earnings for Qtr to S...  \n",
       "1990-01-03  For Judaism's Remnant, Coup Is Mixed BlessingP...  \n",
       "1990-01-04  Group W Sports GainsCooney's Common Denominato...  \n",
       "1990-01-05  President Wins Bipartisan Praise For Solution ...  \n",
       "1990-01-08  Reviews/Dance;   'Cortege Hongrois,' Big and C...  "
      ]
     },
     "execution_count": 98,
     "metadata": {},
     "output_type": "execute_result"
    }
   ],
   "source": [
    "data.dropna(axis=0, inplace=True)\n",
    "data.head()"
   ]
  },
  {
   "cell_type": "markdown",
   "metadata": {},
   "source": [
    "# Removing open high low close"
   ]
  },
  {
   "cell_type": "code",
   "execution_count": 99,
   "metadata": {},
   "outputs": [
    {
     "data": {
      "text/html": [
       "<div>\n",
       "<table border=\"1\" class=\"dataframe\">\n",
       "  <thead>\n",
       "    <tr style=\"text-align: right;\">\n",
       "      <th></th>\n",
       "      <th>Adj Close</th>\n",
       "      <th>Volume</th>\n",
       "      <th>lrets</th>\n",
       "      <th>MACD</th>\n",
       "      <th>stochastics</th>\n",
       "      <th>ATR</th>\n",
       "      <th>News</th>\n",
       "    </tr>\n",
       "  </thead>\n",
       "  <tbody>\n",
       "    <tr>\n",
       "      <th>1990-01-02</th>\n",
       "      <td>359.690002</td>\n",
       "      <td>162070000.0</td>\n",
       "      <td>0.017642</td>\n",
       "      <td>1.018527</td>\n",
       "      <td>100.000000</td>\n",
       "      <td>7.709991</td>\n",
       "      <td>Guest Supply Inc reports earnings for Qtr to S...</td>\n",
       "    </tr>\n",
       "    <tr>\n",
       "      <th>1990-01-03</th>\n",
       "      <td>358.760010</td>\n",
       "      <td>192330000.0</td>\n",
       "      <td>-0.002589</td>\n",
       "      <td>1.392774</td>\n",
       "      <td>94.602487</td>\n",
       "      <td>2.699981</td>\n",
       "      <td>For Judaism's Remnant, Coup Is Mixed BlessingP...</td>\n",
       "    </tr>\n",
       "    <tr>\n",
       "      <th>1990-01-04</th>\n",
       "      <td>355.670013</td>\n",
       "      <td>177000000.0</td>\n",
       "      <td>-0.008650</td>\n",
       "      <td>1.377343</td>\n",
       "      <td>76.668680</td>\n",
       "      <td>5.869995</td>\n",
       "      <td>Group W Sports GainsCooney's Common Denominato...</td>\n",
       "    </tr>\n",
       "    <tr>\n",
       "      <th>1990-01-05</th>\n",
       "      <td>352.200012</td>\n",
       "      <td>158530000.0</td>\n",
       "      <td>-0.009804</td>\n",
       "      <td>1.058777</td>\n",
       "      <td>56.529395</td>\n",
       "      <td>4.320007</td>\n",
       "      <td>President Wins Bipartisan Praise For Solution ...</td>\n",
       "    </tr>\n",
       "    <tr>\n",
       "      <th>1990-01-08</th>\n",
       "      <td>353.790009</td>\n",
       "      <td>140110000.0</td>\n",
       "      <td>0.004504</td>\n",
       "      <td>0.898704</td>\n",
       "      <td>65.757462</td>\n",
       "      <td>3.699981</td>\n",
       "      <td>Reviews/Dance;   'Cortege Hongrois,' Big and C...</td>\n",
       "    </tr>\n",
       "  </tbody>\n",
       "</table>\n",
       "</div>"
      ],
      "text/plain": [
       "             Adj Close       Volume     lrets      MACD  stochastics  \\\n",
       "1990-01-02  359.690002  162070000.0  0.017642  1.018527   100.000000   \n",
       "1990-01-03  358.760010  192330000.0 -0.002589  1.392774    94.602487   \n",
       "1990-01-04  355.670013  177000000.0 -0.008650  1.377343    76.668680   \n",
       "1990-01-05  352.200012  158530000.0 -0.009804  1.058777    56.529395   \n",
       "1990-01-08  353.790009  140110000.0  0.004504  0.898704    65.757462   \n",
       "\n",
       "                 ATR                                               News  \n",
       "1990-01-02  7.709991  Guest Supply Inc reports earnings for Qtr to S...  \n",
       "1990-01-03  2.699981  For Judaism's Remnant, Coup Is Mixed BlessingP...  \n",
       "1990-01-04  5.869995  Group W Sports GainsCooney's Common Denominato...  \n",
       "1990-01-05  4.320007  President Wins Bipartisan Praise For Solution ...  \n",
       "1990-01-08  3.699981  Reviews/Dance;   'Cortege Hongrois,' Big and C...  "
      ]
     },
     "execution_count": 99,
     "metadata": {},
     "output_type": "execute_result"
    }
   ],
   "source": [
    "data.drop(['Open', 'High', 'Low', 'Close'], axis=1, inplace=True)\n",
    "data.head()"
   ]
  },
  {
   "cell_type": "markdown",
   "metadata": {},
   "source": [
    "# Using NLTK sentiment analyzer to generate a polarity score\n",
    "\n",
    "https://www.nltk.org/_modules/nltk/sentiment/sentiment_analyzer.html"
   ]
  },
  {
   "cell_type": "code",
   "execution_count": 100,
   "metadata": {
    "collapsed": true
   },
   "outputs": [],
   "source": [
    "def sentimentanalysis(df):\n",
    "    sid = SentimentIntensityAnalyzer()\n",
    "    for date in df.index:\n",
    "        try:\n",
    "            sentence = unicodedata.normalize('NFKD', df.loc[date, 'News'])\n",
    "            ss = sid.polarity_scores(sentence)\n",
    "            df.set_value(date, 'neg', ss['neg'])\n",
    "            df.set_value(date, 'neu', ss['neu'])\n",
    "            df.set_value(date, 'pos', ss['pos'])\n",
    "        except TypeError:\n",
    "            print (df.loc[date, 'News'])\n",
    "            print (date)\n",
    "    return df"
   ]
  },
  {
   "cell_type": "code",
   "execution_count": 101,
   "metadata": {
    "collapsed": true
   },
   "outputs": [],
   "source": [
    "new_data = sentimentanalysis(data)"
   ]
  },
  {
   "cell_type": "code",
   "execution_count": 102,
   "metadata": {
    "collapsed": true
   },
   "outputs": [],
   "source": [
    "new_data.drop(['News'], axis=1, inplace=True)"
   ]
  },
  {
   "cell_type": "code",
   "execution_count": 106,
   "metadata": {
    "collapsed": true
   },
   "outputs": [],
   "source": [
    "#new_data.to_pickle('Final_df.pkl')"
   ]
  },
  {
   "cell_type": "markdown",
   "metadata": {},
   "source": [
    "# Check if there is missing data"
   ]
  },
  {
   "cell_type": "code",
   "execution_count": 104,
   "metadata": {},
   "outputs": [
    {
     "data": {
      "text/plain": [
       "Adj Close      False\n",
       "Volume         False\n",
       "lrets          False\n",
       "MACD           False\n",
       "stochastics    False\n",
       "ATR            False\n",
       "neg            False\n",
       "neu            False\n",
       "pos            False\n",
       "Y              False\n",
       "dtype: bool"
      ]
     },
     "execution_count": 104,
     "metadata": {},
     "output_type": "execute_result"
    }
   ],
   "source": [
    "new_data.isnull().any()"
   ]
  }
 ],
 "metadata": {
  "kernelspec": {
   "display_name": "Python 3",
   "language": "python",
   "name": "python3"
  },
  "language_info": {
   "codemirror_mode": {
    "name": "ipython",
    "version": 3
   },
   "file_extension": ".py",
   "mimetype": "text/x-python",
   "name": "python",
   "nbconvert_exporter": "python",
   "pygments_lexer": "ipython3",
   "version": "3.5.3"
  }
 },
 "nbformat": 4,
 "nbformat_minor": 2
}
