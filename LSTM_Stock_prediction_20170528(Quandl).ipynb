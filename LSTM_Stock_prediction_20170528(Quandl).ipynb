{
 "cells": [
  {
   "cell_type": "markdown",
   "metadata": {},
   "source": [
    "# Part 1.  A guide for how to use the lstmstock.py\n",
    "\n",
    "This is a presentation of the simplest way to implement Long Short Term Memory for prediction of stock price. More codes are in the lstmstock.py file. It also fixed the problem of using pandas datareader to download stock data, which is currently unavailable."
   ]
  },
  {
   "cell_type": "markdown",
   "metadata": {},
   "source": [
    "# 1. Import all the module and function\n",
    "You can import all module one by one or import my lstmstock.py"
   ]
  },
  {
   "cell_type": "code",
   "execution_count": 4,
   "metadata": {},
   "outputs": [
    {
     "name": "stderr",
     "output_type": "stream",
     "text": [
      "Using TensorFlow backend.\n"
     ]
    }
   ],
   "source": [
    "# from lstmstock import *\n",
    "import seaborn as sns\n",
    "import numpy as np\n",
    "import matplotlib.pyplot as plt\n",
    "import matplotlib.pyplot as plt2\n",
    "import pandas as pd\n",
    "from pandas import datetime\n",
    "import math, time\n",
    "import itertools\n",
    "from sklearn import preprocessing\n",
    "import datetime\n",
    "from sklearn.metrics import mean_squared_error\n",
    "from math import sqrt\n",
    "from keras.models import Sequential\n",
    "from keras.layers.core import Dense, Dropout, Activation\n",
    "from keras.layers.recurrent import LSTM\n",
    "from keras.models import load_model\n",
    "import keras\n",
    "import pandas_datareader.data as web\n",
    "import h5py\n",
    "from keras import backend as K\n",
    "import quandl"
   ]
  },
  {
   "cell_type": "markdown",
   "metadata": {
    "collapsed": true
   },
   "source": [
    "# 2. Input of the model\n",
    "\n",
    "1. Quandl api key Obtained from https://www.quandl.com/product/WIKIP/WIKI/PRICES-Quandl-End-Of-Day-Stocks-Info Please login to use your key if you have one.\n",
    "\n",
    "2. Seq_len\n",
    "It is the window frame of the past data, how many days of past data would you like to be included in this model?\n",
    "\n",
    "3. Shape\n",
    "Please input the [seq_len, Amount of features, 1] to it to setup the model\n",
    "The amount of features will depend on how many moving average would you like to be included in this model.\n",
    "\n",
    "4. Dropout\n",
    "Fraction of the input units to drop. It helps to avoid overfitting.\n",
    "\n",
    "5. Decay\n",
    "Weight regularization. Another parameter to avoid overfitting.\n",
    "\n",
    "6. Epochs\n",
    "How many Epochs would you want to fit the model?"
   ]
  },
  {
   "cell_type": "code",
   "execution_count": 17,
   "metadata": {
    "collapsed": true
   },
   "outputs": [],
   "source": [
    "quandl.ApiConfig.api_key = 'zpFWg7jpwtBPmzA8sT2Z'\n",
    "seq_len = 22\n",
    "shape = [seq_len, 9, 1]\n",
    "neurons = [256, 256, 32, 1]\n",
    "dropout = 0.3\n",
    "decay = 0.5\n",
    "epochs = 90\n",
    "stock_name = 'AAPL'"
   ]
  },
  {
   "cell_type": "markdown",
   "metadata": {},
   "source": [
    "# 3. Pull the data from Quandl first\n",
    "\n",
    "If you would like to include moving average, simply put the number of days into a list. \n",
    "They will be included into the neural network model.\n",
    "\n",
    "ie. putting 50days, 100days, 200days into [50, 100, 200]\n",
    "\n",
    "In the Quandl database, Open, High, Low, Close, Volume are all adjusted. "
   ]
  },
  {
   "cell_type": "code",
   "execution_count": null,
   "metadata": {
    "collapsed": true
   },
   "outputs": [],
   "source": [
    "def get_stock_data(stock_name, normalize=True, ma=[]):\n",
    "    \"\"\"\n",
    "    Return a dataframe of that stock and normalize all the values. \n",
    "    (Optional: create moving average)\n",
    "    \"\"\"\n",
    "    df = quandl.get_table('WIKI/PRICES', ticker = stock_name)\n",
    "    df.drop(['ticker', 'open', 'high', 'low', 'close', 'ex-dividend', 'volume', 'split_ratio'], 1, inplace=True)\n",
    "    df.set_index('date', inplace=True)\n",
    "    \n",
    "    # Renaming all the columns so that we can use the old version code\n",
    "    df.rename(columns={'adj_open': 'Open', 'adj_high': 'High', 'adj_low': 'Low', 'adj_volume': 'Volume', 'adj_close': 'Adj Close'}, inplace=True)\n",
    "    \n",
    "    # Percentage change\n",
    "    df['Pct'] = df['Adj Close'].pct_change()\n",
    "    df.dropna(inplace=True)\n",
    "    \n",
    "    # Moving Average    \n",
    "    if ma != []:\n",
    "        for moving in ma:\n",
    "            df['{}ma'.format(moving)] = df['Adj Close'].rolling(window=moving).mean()\n",
    "    df.dropna(inplace=True)\n",
    "    \n",
    "    if normalize:\n",
    "        min_max_scaler = preprocessing.MinMaxScaler()\n",
    "        df['Open'] = min_max_scaler.fit_transform(df.Open.values.reshape(-1,1))\n",
    "        df['High'] = min_max_scaler.fit_transform(df.High.values.reshape(-1,1))\n",
    "        df['Low'] = min_max_scaler.fit_transform(df.Low.values.reshape(-1,1))\n",
    "        df['Volume'] = min_max_scaler.fit_transform(df.Volume.values.reshape(-1,1))\n",
    "        df['Adj Close'] = min_max_scaler.fit_transform(df['Adj Close'].values.reshape(-1,1))\n",
    "        df['Pct'] = min_max_scaler.fit_transform(df['Pct'].values.reshape(-1,1))\n",
    "        if ma != []:\n",
    "            for moving in ma:\n",
    "                df['{}ma'.format(moving)] = min_max_scaler.fit_transform(df['{}ma'.format(moving)].values.reshape(-1,1))  \n",
    "                \n",
    "    # Move Adj Close to the rightmost for the ease of training\n",
    "    adj_close = df['Adj Close']\n",
    "    df.drop(labels=['Adj Close'], axis=1, inplace=True)\n",
    "    df = pd.concat([df, adj_close], axis=1)\n",
    "      \n",
    "    return df"
   ]
  },
  {
   "cell_type": "code",
   "execution_count": 6,
   "metadata": {
    "collapsed": true
   },
   "outputs": [],
   "source": [
    "df = get_stock_data(stock_name, ma=[50, 100, 200])"
   ]
  },
  {
   "cell_type": "markdown",
   "metadata": {},
   "source": [
    "# 4. Visualize the data\n",
    "Print out the first 5 rows of the dataframe and plot out the Adjusted Close price and percentage change of that particular stock "
   ]
  },
  {
   "cell_type": "code",
   "execution_count": null,
   "metadata": {
    "collapsed": true
   },
   "outputs": [],
   "source": [
    "def plot_stock(df):\n",
    "    print(df.head())\n",
    "    plt.subplot(211)\n",
    "    plt.plot(df['Adj Close'], color='red', label='Adj Close')\n",
    "    plt.legend(loc='best')\n",
    "    plt.subplot(212)\n",
    "    plt.plot(df['Pct'], color='blue', label='Percentage change')\n",
    "    plt.legend(loc='best')\n",
    "    plt.show()"
   ]
  },
  {
   "cell_type": "code",
   "execution_count": 7,
   "metadata": {},
   "outputs": [
    {
     "name": "stdout",
     "output_type": "stream",
     "text": [
      "                Open      High       Low    Volume       Pct      50ma  \\\n",
      "date                                                                     \n",
      "1981-09-30  0.000391  0.000401  0.000405  0.006603  0.618942  0.000795   \n",
      "1981-10-01  0.000391  0.000401  0.000405  0.008103  0.609620  0.000777   \n",
      "1981-10-02  0.000510  0.000520  0.000524  0.005935  0.705957  0.000765   \n",
      "1981-10-05  0.000557  0.000578  0.000572  0.005673  0.645236  0.000752   \n",
      "1981-10-06  0.000557  0.000555  0.000560  0.003687  0.601324  0.000738   \n",
      "\n",
      "               100ma     200ma  Adj Close  \n",
      "date                                       \n",
      "1981-09-30  0.001145  0.001192   0.000402  \n",
      "1981-10-01  0.001131  0.001185   0.000402  \n",
      "1981-10-02  0.001119  0.001180   0.000521  \n",
      "1981-10-05  0.001108  0.001175   0.000568  \n",
      "1981-10-06  0.001097  0.001169   0.000557  \n"
     ]
    },
    {
     "data": {
      "image/png": "[encoded data removed]",
      "text/plain": [
       "<matplotlib.figure.Figure at 0x23c46e9a0f0>"
      ]
     },
     "metadata": {},
     "output_type": "display_data"
    }
   ],
   "source": [
    "plot_stock(df)"
   ]
  },
  {
   "cell_type": "markdown",
   "metadata": {},
   "source": [
    "# 5. To see the correlation for each variables\n",
    "Not so ideal but more fundamental data will be included in the future"
   ]
  },
  {
   "cell_type": "code",
   "execution_count": 8,
   "metadata": {},
   "outputs": [
    {
     "data": {
      "image/png": "[encoded data removed]",
      "text/plain": [
       "<matplotlib.figure.Figure at 0x23c4e60a8d0>"
      ]
     },
     "metadata": {},
     "output_type": "display_data"
    }
   ],
   "source": [
    "corr = df.corr()\n",
    "ax = sns.heatmap(corr, cmap=\"YlGnBu\")\n",
    "plt.show()"
   ]
  },
  {
   "cell_type": "markdown",
   "metadata": {},
   "source": [
    "# 6. Split out training set and testing set data"
   ]
  },
  {
   "cell_type": "code",
   "execution_count": null,
   "metadata": {
    "collapsed": true
   },
   "outputs": [],
   "source": [
    "def load_data(stock, seq_len):\n",
    "    amount_of_features = len(stock.columns)\n",
    "    print (\"Amount of features = {}\".format(amount_of_features))\n",
    "    data = stock.as_matrix()\n",
    "    sequence_length = seq_len + 1 # index starting from 0\n",
    "    result = []\n",
    "\n",
    "    for index in range(len(data) - sequence_length): # maxmimum date = lastest date - sequence length\n",
    "        result.append(data[index: index + sequence_length]) # index : index + 22days\n",
    "\n",
    "    result = np.array(result)\n",
    "    row = round(0.8 * result.shape[0]) # 80% split\n",
    "    print (\"Amount of training data = {}\".format(0.9 * result.shape[0]))\n",
    "    print (\"Amount of testing data = {}\".format(0.1 * result.shape[0]))\n",
    "\n",
    "    train = result[:int(row), :] # 90% date\n",
    "    X_train = train[:, :-1] # all data until day m\n",
    "    y_train = train[:, -1][:,-1] # day m + 1 adjusted close price\n",
    "\n",
    "    X_test = result[int(row):, :-1]\n",
    "    y_test = result[int(row):, -1][:,-1]\n",
    "\n",
    "    X_train = np.reshape(X_train, (X_train.shape[0], X_train.shape[1], amount_of_features))\n",
    "    X_test = np.reshape(X_test, (X_test.shape[0], X_test.shape[1], amount_of_features))\n",
    "\n",
    "    return [X_train, y_train, X_test, y_test]"
   ]
  },
  {
   "cell_type": "code",
   "execution_count": 9,
   "metadata": {},
   "outputs": [
    {
     "name": "stdout",
     "output_type": "stream",
     "text": [
      "Amount of features = 9\n",
      "Amount of training data = 8073.0\n",
      "Amount of testing data = 897.0\n"
     ]
    }
   ],
   "source": [
    "X_train, y_train, X_test, y_test = load_data(df, seq_len)"
   ]
  },
  {
   "cell_type": "markdown",
   "metadata": {},
   "source": [
    "# 7. Model Execution"
   ]
  },
  {
   "cell_type": "code",
   "execution_count": null,
   "metadata": {
    "collapsed": true
   },
   "outputs": [],
   "source": [
    "def build_model(shape, neurons, dropout, decay):\n",
    "    model = Sequential()\n",
    "\n",
    "    model.add(LSTM(neurons[0], input_shape=(shape[0], shape[1]), return_sequences=True))\n",
    "    model.add(Dropout(dropout))\n",
    "\n",
    "    model.add(LSTM(neurons[1], input_shape=(shape[0], shape[1]), return_sequences=False))\n",
    "    model.add(Dropout(dropout))\n",
    "\n",
    "    model.add(Dense(neurons[2],kernel_initializer=\"uniform\",activation='relu'))\n",
    "    model.add(Dense(neurons[3],kernel_initializer=\"uniform\",activation='linear'))\n",
    "    # model = load_model('my_LSTM_stock_model1000.h5')\n",
    "    adam = keras.optimizers.Adam(decay=decay)\n",
    "    model.compile(loss='mse',optimizer='adam', metrics=['accuracy'])\n",
    "    model.summary()\n",
    "    return model"
   ]
  },
  {
   "cell_type": "code",
   "execution_count": 10,
   "metadata": {},
   "outputs": [
    {
     "name": "stdout",
     "output_type": "stream",
     "text": [
      "_________________________________________________________________\n",
      "Layer (type)                 Output Shape              Param #   \n",
      "=================================================================\n",
      "lstm_1 (LSTM)                (None, 22, 256)           272384    \n",
      "_________________________________________________________________\n",
      "dropout_1 (Dropout)          (None, 22, 256)           0         \n",
      "_________________________________________________________________\n",
      "lstm_2 (LSTM)                (None, 256)               525312    \n",
      "_________________________________________________________________\n",
      "dropout_2 (Dropout)          (None, 256)               0         \n",
      "_________________________________________________________________\n",
      "dense_1 (Dense)              (None, 32)                8224      \n",
      "_________________________________________________________________\n",
      "dense_2 (Dense)              (None, 1)                 33        \n",
      "=================================================================\n",
      "Total params: 805,953\n",
      "Trainable params: 805,953\n",
      "Non-trainable params: 0\n",
      "_________________________________________________________________\n"
     ]
    }
   ],
   "source": [
    "model = build_model(shape, neurons, dropout, decay)"
   ]
  },
  {
   "cell_type": "code",
   "execution_count": 11,
   "metadata": {},
   "outputs": [
    {
     "name": "stdout",
     "output_type": "stream",
     "text": [
      "Train on 5740 samples, validate on 1436 samples\n",
      "Epoch 1/90\n",
      "5740/5740 [==============================] - 2s - loss: 2.5369e-05 - acc: 1.7422e-04 - val_loss: 0.0083 - val_acc: 0.0000e+00\n",
      "Epoch 2/90\n",
      "5740/5740 [==============================] - 1s - loss: 1.8801e-05 - acc: 1.7422e-04 - val_loss: 0.0082 - val_acc: 0.0000e+00\n",
      "Epoch 3/90\n",
      "5740/5740 [==============================] - 1s - loss: 1.7600e-05 - acc: 1.7422e-04 - val_loss: 0.0078 - val_acc: 0.0000e+00\n",
      "Epoch 4/90\n",
      "5740/5740 [==============================] - 1s - loss: 1.5709e-05 - acc: 1.7422e-04 - val_loss: 0.0055 - val_acc: 0.0000e+00\n",
      "Epoch 5/90\n",
      "5740/5740 [==============================] - 1s - loss: 1.0011e-05 - acc: 1.7422e-04 - val_loss: 0.0013 - val_acc: 0.0000e+00\n",
      "Epoch 6/90\n",
      "5740/5740 [==============================] - 1s - loss: 1.2279e-05 - acc: 1.7422e-04 - val_loss: 0.0021 - val_acc: 0.0000e+00\n",
      "Epoch 7/90\n",
      "5740/5740 [==============================] - 1s - loss: 4.5090e-06 - acc: 1.7422e-04 - val_loss: 0.0018 - val_acc: 0.0000e+00\n",
      "Epoch 8/90\n",
      "5740/5740 [==============================] - 1s - loss: 2.9478e-06 - acc: 1.7422e-04 - val_loss: 0.0013 - val_acc: 0.0000e+00\n",
      "Epoch 9/90\n",
      "5740/5740 [==============================] - 1s - loss: 2.1808e-06 - acc: 1.7422e-04 - val_loss: 0.0013 - val_acc: 0.0000e+00\n",
      "Epoch 10/90\n",
      "5740/5740 [==============================] - 1s - loss: 1.8963e-06 - acc: 1.7422e-04 - val_loss: 0.0011 - val_acc: 0.0000e+00\n",
      "Epoch 11/90\n",
      "5740/5740 [==============================] - 1s - loss: 1.6626e-06 - acc: 1.7422e-04 - val_loss: 0.0012 - val_acc: 0.0000e+00\n",
      "Epoch 12/90\n",
      "5740/5740 [==============================] - 1s - loss: 1.5410e-06 - acc: 1.7422e-04 - val_loss: 0.0012 - val_acc: 0.0000e+00\n",
      "Epoch 13/90\n",
      "5740/5740 [==============================] - 1s - loss: 1.4403e-06 - acc: 1.7422e-04 - val_loss: 0.0013 - val_acc: 0.0000e+00\n",
      "Epoch 14/90\n",
      "5740/5740 [==============================] - 1s - loss: 1.3370e-06 - acc: 1.7422e-04 - val_loss: 0.0013 - val_acc: 0.0000e+00\n",
      "Epoch 15/90\n",
      "5740/5740 [==============================] - 1s - loss: 1.1826e-06 - acc: 1.7422e-04 - val_loss: 9.8534e-04 - val_acc: 0.0000e+00\n",
      "Epoch 16/90\n",
      "5740/5740 [==============================] - 1s - loss: 1.0906e-06 - acc: 1.7422e-04 - val_loss: 8.6207e-04 - val_acc: 0.0000e+00\n",
      "Epoch 17/90\n",
      "5740/5740 [==============================] - 1s - loss: 1.0973e-06 - acc: 1.7422e-04 - val_loss: 9.6874e-04 - val_acc: 0.0000e+00\n",
      "Epoch 18/90\n",
      "5740/5740 [==============================] - 1s - loss: 9.5420e-07 - acc: 1.7422e-04 - val_loss: 0.0011 - val_acc: 0.0000e+00\n",
      "Epoch 19/90\n",
      "5740/5740 [==============================] - 1s - loss: 9.1720e-07 - acc: 1.7422e-04 - val_loss: 0.0010 - val_acc: 0.0000e+00\n",
      "Epoch 20/90\n",
      "5740/5740 [==============================] - 1s - loss: 7.5064e-07 - acc: 1.7422e-04 - val_loss: 0.0012 - val_acc: 0.0000e+00\n",
      "Epoch 21/90\n",
      "5740/5740 [==============================] - 1s - loss: 6.6855e-07 - acc: 1.7422e-04 - val_loss: 0.0012 - val_acc: 0.0000e+00\n",
      "Epoch 22/90\n",
      "5740/5740 [==============================] - 1s - loss: 6.4325e-07 - acc: 1.7422e-04 - val_loss: 0.0012 - val_acc: 0.0000e+00\n",
      "Epoch 23/90\n",
      "5740/5740 [==============================] - 1s - loss: 5.7092e-07 - acc: 1.7422e-04 - val_loss: 0.0019 - val_acc: 0.0000e+00\n",
      "Epoch 24/90\n",
      "5740/5740 [==============================] - 1s - loss: 1.7294e-06 - acc: 1.7422e-04 - val_loss: 7.0418e-04 - val_acc: 0.0000e+00\n",
      "Epoch 25/90\n",
      "5740/5740 [==============================] - 1s - loss: 8.6632e-07 - acc: 1.7422e-04 - val_loss: 0.0013 - val_acc: 0.0000e+00\n",
      "Epoch 26/90\n",
      "5740/5740 [==============================] - 1s - loss: 6.5474e-07 - acc: 1.7422e-04 - val_loss: 0.0016 - val_acc: 0.0000e+00\n",
      "Epoch 27/90\n",
      "5740/5740 [==============================] - 1s - loss: 6.4054e-07 - acc: 1.7422e-04 - val_loss: 9.9641e-04 - val_acc: 0.0000e+00\n",
      "Epoch 28/90\n",
      "5740/5740 [==============================] - 1s - loss: 5.7460e-07 - acc: 1.7422e-04 - val_loss: 0.0012 - val_acc: 0.0000e+00\n",
      "Epoch 29/90\n",
      "5740/5740 [==============================] - 1s - loss: 5.4478e-07 - acc: 1.7422e-04 - val_loss: 0.0011 - val_acc: 0.0000e+00\n",
      "Epoch 30/90\n",
      "5740/5740 [==============================] - 1s - loss: 6.1030e-07 - acc: 1.7422e-04 - val_loss: 0.0014 - val_acc: 0.0000e+00\n",
      "Epoch 31/90\n",
      "5740/5740 [==============================] - 1s - loss: 5.4339e-07 - acc: 1.7422e-04 - val_loss: 0.0016 - val_acc: 0.0000e+00\n",
      "Epoch 32/90\n",
      "5740/5740 [==============================] - 1s - loss: 4.3918e-07 - acc: 1.7422e-04 - val_loss: 0.0011 - val_acc: 0.0000e+00\n",
      "Epoch 33/90\n",
      "5740/5740 [==============================] - 1s - loss: 4.1382e-07 - acc: 1.7422e-04 - val_loss: 0.0011 - val_acc: 0.0000e+00\n",
      "Epoch 34/90\n",
      "5740/5740 [==============================] - 1s - loss: 6.6148e-07 - acc: 1.7422e-04 - val_loss: 0.0011 - val_acc: 0.0000e+00\n",
      "Epoch 35/90\n",
      "5740/5740 [==============================] - 1s - loss: 7.5883e-07 - acc: 1.7422e-04 - val_loss: 0.0012 - val_acc: 0.0000e+00\n",
      "Epoch 36/90\n",
      "5740/5740 [==============================] - 1s - loss: 4.2781e-07 - acc: 1.7422e-04 - val_loss: 0.0012 - val_acc: 0.0000e+00\n",
      "Epoch 37/90\n",
      "5740/5740 [==============================] - 1s - loss: 4.1082e-07 - acc: 1.7422e-04 - val_loss: 0.0014 - val_acc: 0.0000e+00\n",
      "Epoch 38/90\n",
      "5740/5740 [==============================] - 1s - loss: 4.0773e-07 - acc: 1.7422e-04 - val_loss: 0.0010 - val_acc: 0.0000e+00\n",
      "Epoch 39/90\n",
      "5740/5740 [==============================] - 1s - loss: 4.0212e-07 - acc: 1.7422e-04 - val_loss: 0.0012 - val_acc: 0.0000e+00\n",
      "Epoch 40/90\n",
      "5740/5740 [==============================] - 1s - loss: 4.4828e-07 - acc: 1.7422e-04 - val_loss: 0.0012 - val_acc: 0.0000e+00\n",
      "Epoch 41/90\n",
      "5740/5740 [==============================] - 1s - loss: 4.6519e-07 - acc: 1.7422e-04 - val_loss: 0.0011 - val_acc: 0.0000e+00\n",
      "Epoch 42/90\n",
      "5740/5740 [==============================] - 1s - loss: 3.9104e-07 - acc: 1.7422e-04 - val_loss: 9.6975e-04 - val_acc: 0.0000e+00\n",
      "Epoch 43/90\n",
      "5740/5740 [==============================] - 1s - loss: 4.6953e-07 - acc: 1.7422e-04 - val_loss: 9.2221e-04 - val_acc: 0.0000e+00\n",
      "Epoch 44/90\n",
      "5740/5740 [==============================] - 1s - loss: 4.0067e-07 - acc: 1.7422e-04 - val_loss: 7.5772e-04 - val_acc: 0.0000e+00\n",
      "Epoch 45/90\n",
      "5740/5740 [==============================] - 1s - loss: 4.7730e-07 - acc: 1.7422e-04 - val_loss: 0.0011 - val_acc: 0.0000e+00\n",
      "Epoch 46/90\n",
      "5740/5740 [==============================] - 1s - loss: 4.1716e-07 - acc: 1.7422e-04 - val_loss: 6.8766e-04 - val_acc: 0.0000e+00\n",
      "Epoch 47/90\n",
      "5740/5740 [==============================] - 1s - loss: 3.6960e-07 - acc: 1.7422e-04 - val_loss: 8.2887e-04 - val_acc: 0.0000e+00\n",
      "Epoch 48/90\n",
      "5740/5740 [==============================] - 1s - loss: 4.4890e-07 - acc: 1.7422e-04 - val_loss: 0.0012 - val_acc: 0.0000e+00\n",
      "Epoch 49/90\n",
      "5740/5740 [==============================] - 1s - loss: 3.7470e-07 - acc: 1.7422e-04 - val_loss: 0.0010 - val_acc: 0.0000e+00\n",
      "Epoch 50/90\n",
      "5740/5740 [==============================] - 1s - loss: 3.3921e-07 - acc: 1.7422e-04 - val_loss: 7.4489e-04 - val_acc: 0.0000e+00\n",
      "Epoch 51/90\n",
      "5740/5740 [==============================] - 1s - loss: 3.3057e-07 - acc: 1.7422e-04 - val_loss: 9.3180e-04 - val_acc: 0.0000e+00\n",
      "Epoch 52/90\n",
      "5740/5740 [==============================] - 1s - loss: 5.1990e-07 - acc: 1.7422e-04 - val_loss: 9.3256e-04 - val_acc: 0.0000e+00\n",
      "Epoch 53/90\n",
      "5740/5740 [==============================] - 1s - loss: 3.8902e-07 - acc: 1.7422e-04 - val_loss: 7.4626e-04 - val_acc: 0.0000e+00\n",
      "Epoch 54/90\n",
      "5740/5740 [==============================] - 1s - loss: 3.5563e-07 - acc: 1.7422e-04 - val_loss: 7.4459e-04 - val_acc: 0.0000e+00\n",
      "Epoch 55/90\n",
      "5740/5740 [==============================] - 1s - loss: 3.1655e-07 - acc: 1.7422e-04 - val_loss: 9.0723e-04 - val_acc: 0.0000e+00\n",
      "Epoch 56/90\n",
      "5740/5740 [==============================] - 1s - loss: 4.5587e-07 - acc: 1.7422e-04 - val_loss: 8.1887e-04 - val_acc: 0.0000e+00\n",
      "Epoch 57/90\n",
      "5740/5740 [==============================] - 1s - loss: 4.4551e-07 - acc: 1.7422e-04 - val_loss: 8.3413e-04 - val_acc: 0.0000e+00\n",
      "Epoch 58/90\n",
      "5740/5740 [==============================] - 1s - loss: 3.2673e-07 - acc: 1.7422e-04 - val_loss: 7.8878e-04 - val_acc: 0.0000e+00\n",
      "Epoch 59/90\n"
     ]
    },
    {
     "name": "stdout",
     "output_type": "stream",
     "text": [
      "5740/5740 [==============================] - 1s - loss: 3.5153e-07 - acc: 1.7422e-04 - val_loss: 6.1090e-04 - val_acc: 0.0000e+00\n",
      "Epoch 60/90\n",
      "5740/5740 [==============================] - 1s - loss: 3.8676e-07 - acc: 1.7422e-04 - val_loss: 6.4940e-04 - val_acc: 0.0000e+00\n",
      "Epoch 61/90\n",
      "5740/5740 [==============================] - 1s - loss: 3.2298e-07 - acc: 1.7422e-04 - val_loss: 0.0011 - val_acc: 0.0000e+00\n",
      "Epoch 62/90\n",
      "5740/5740 [==============================] - 1s - loss: 3.2203e-07 - acc: 1.7422e-04 - val_loss: 7.9688e-04 - val_acc: 0.0000e+00\n",
      "Epoch 63/90\n",
      "5740/5740 [==============================] - 1s - loss: 3.2383e-07 - acc: 1.7422e-04 - val_loss: 7.9037e-04 - val_acc: 0.0000e+00\n",
      "Epoch 64/90\n",
      "5740/5740 [==============================] - 1s - loss: 3.0049e-07 - acc: 1.7422e-04 - val_loss: 9.5373e-04 - val_acc: 0.0000e+00\n",
      "Epoch 65/90\n",
      "5740/5740 [==============================] - 1s - loss: 4.1466e-07 - acc: 1.7422e-04 - val_loss: 8.7448e-04 - val_acc: 0.0000e+00\n",
      "Epoch 66/90\n",
      "5740/5740 [==============================] - 1s - loss: 5.0992e-07 - acc: 1.7422e-04 - val_loss: 8.6585e-04 - val_acc: 0.0000e+00\n",
      "Epoch 67/90\n",
      "5740/5740 [==============================] - 1s - loss: 4.6688e-07 - acc: 1.7422e-04 - val_loss: 7.7352e-04 - val_acc: 0.0000e+00\n",
      "Epoch 68/90\n",
      "5740/5740 [==============================] - 1s - loss: 3.1586e-07 - acc: 1.7422e-04 - val_loss: 6.1072e-04 - val_acc: 0.0000e+00\n",
      "Epoch 69/90\n",
      "5740/5740 [==============================] - 1s - loss: 2.7557e-07 - acc: 1.7422e-04 - val_loss: 8.3079e-04 - val_acc: 0.0000e+00\n",
      "Epoch 70/90\n",
      "5740/5740 [==============================] - 1s - loss: 2.9841e-07 - acc: 1.7422e-04 - val_loss: 5.5062e-04 - val_acc: 0.0000e+00\n",
      "Epoch 71/90\n",
      "5740/5740 [==============================] - 1s - loss: 2.7360e-07 - acc: 1.7422e-04 - val_loss: 8.3341e-04 - val_acc: 0.0000e+00\n",
      "Epoch 72/90\n",
      "5740/5740 [==============================] - 1s - loss: 2.7394e-07 - acc: 1.7422e-04 - val_loss: 6.3000e-04 - val_acc: 0.0000e+00\n",
      "Epoch 73/90\n",
      "5740/5740 [==============================] - 1s - loss: 2.8863e-07 - acc: 1.7422e-04 - val_loss: 5.9432e-04 - val_acc: 0.0000e+00\n",
      "Epoch 74/90\n",
      "5740/5740 [==============================] - 1s - loss: 2.8014e-07 - acc: 1.7422e-04 - val_loss: 8.1301e-04 - val_acc: 0.0000e+00\n",
      "Epoch 75/90\n",
      "5740/5740 [==============================] - 1s - loss: 2.9064e-07 - acc: 1.7422e-04 - val_loss: 7.5897e-04 - val_acc: 0.0000e+00\n",
      "Epoch 76/90\n",
      "5740/5740 [==============================] - 1s - loss: 2.6395e-07 - acc: 1.7422e-04 - val_loss: 5.7153e-04 - val_acc: 0.0000e+00\n",
      "Epoch 77/90\n",
      "5740/5740 [==============================] - 1s - loss: 2.9590e-07 - acc: 1.7422e-04 - val_loss: 6.0957e-04 - val_acc: 0.0000e+00\n",
      "Epoch 78/90\n",
      "5740/5740 [==============================] - 1s - loss: 2.9006e-07 - acc: 1.7422e-04 - val_loss: 8.0483e-04 - val_acc: 0.0000e+00\n",
      "Epoch 79/90\n",
      "5740/5740 [==============================] - 1s - loss: 3.2978e-07 - acc: 1.7422e-04 - val_loss: 4.9405e-04 - val_acc: 0.0000e+00\n",
      "Epoch 80/90\n",
      "5740/5740 [==============================] - 1s - loss: 3.7383e-07 - acc: 1.7422e-04 - val_loss: 5.8630e-04 - val_acc: 0.0000e+00\n",
      "Epoch 81/90\n",
      "5740/5740 [==============================] - 1s - loss: 3.4554e-07 - acc: 1.7422e-04 - val_loss: 6.5881e-04 - val_acc: 0.0000e+00\n",
      "Epoch 82/90\n",
      "5740/5740 [==============================] - 1s - loss: 2.9485e-07 - acc: 1.7422e-04 - val_loss: 7.1330e-04 - val_acc: 0.0000e+00\n",
      "Epoch 83/90\n",
      "5740/5740 [==============================] - 1s - loss: 2.7940e-07 - acc: 1.7422e-04 - val_loss: 7.6502e-04 - val_acc: 0.0000e+00\n",
      "Epoch 84/90\n",
      "5740/5740 [==============================] - 1s - loss: 2.9055e-07 - acc: 1.7422e-04 - val_loss: 7.5113e-04 - val_acc: 0.0000e+00\n",
      "Epoch 85/90\n",
      "5740/5740 [==============================] - 1s - loss: 2.6034e-07 - acc: 1.7422e-04 - val_loss: 6.3636e-04 - val_acc: 0.0000e+00\n",
      "Epoch 86/90\n",
      "5740/5740 [==============================] - 1s - loss: 2.4174e-07 - acc: 1.7422e-04 - val_loss: 8.0097e-04 - val_acc: 0.0000e+00\n",
      "Epoch 87/90\n",
      "5740/5740 [==============================] - 1s - loss: 2.6044e-07 - acc: 1.7422e-04 - val_loss: 5.5849e-04 - val_acc: 0.0000e+00\n",
      "Epoch 88/90\n",
      "5740/5740 [==============================] - 1s - loss: 3.1553e-07 - acc: 1.7422e-04 - val_loss: 6.8962e-04 - val_acc: 0.0000e+00\n",
      "Epoch 89/90\n",
      "5740/5740 [==============================] - 1s - loss: 2.8125e-07 - acc: 1.7422e-04 - val_loss: 6.6230e-04 - val_acc: 0.0000e+00\n",
      "Epoch 90/90\n",
      "5740/5740 [==============================] - 1s - loss: 2.4078e-07 - acc: 1.7422e-04 - val_loss: 5.1887e-04 - val_acc: 0.0000e+00\n"
     ]
    },
    {
     "data": {
      "text/plain": [
       "<keras.callbacks.History at 0x23d5c8bd240>"
      ]
     },
     "execution_count": 11,
     "metadata": {},
     "output_type": "execute_result"
    }
   ],
   "source": [
    "model.fit(\n",
    "    X_train,\n",
    "    y_train,\n",
    "    batch_size=512,\n",
    "    epochs=epochs,\n",
    "    validation_split=0.2,\n",
    "    verbose=1)"
   ]
  },
  {
   "cell_type": "markdown",
   "metadata": {},
   "source": [
    "# 8. Result on training set and testing set"
   ]
  },
  {
   "cell_type": "code",
   "execution_count": null,
   "metadata": {
    "collapsed": true
   },
   "outputs": [],
   "source": [
    "def model_score(model, X_train, y_train, X_test, y_test):\n",
    "    trainScore = model.evaluate(X_train, y_train, verbose=0)\n",
    "    print('Train Score: %.5f MSE (%.2f RMSE)' % (trainScore[0], math.sqrt(trainScore[0])))\n",
    "\n",
    "    testScore = model.evaluate(X_test, y_test, verbose=0)\n",
    "    print('Test Score: %.5f MSE (%.2f RMSE)' % (testScore[0], math.sqrt(testScore[0])))\n",
    "    return trainScore[0], testScore[0]"
   ]
  },
  {
   "cell_type": "code",
   "execution_count": 12,
   "metadata": {},
   "outputs": [
    {
     "name": "stdout",
     "output_type": "stream",
     "text": [
      "Train Score: 0.00010 MSE (0.01 RMSE)\n",
      "Test Score: 0.05823 MSE (0.24 RMSE)\n"
     ]
    },
    {
     "data": {
      "text/plain": [
       "(0.00010413609274765596, 0.058232398930035838)"
      ]
     },
     "execution_count": 12,
     "metadata": {},
     "output_type": "execute_result"
    }
   ],
   "source": [
    "model_score(model, X_train, y_train, X_test, y_test)"
   ]
  },
  {
   "cell_type": "markdown",
   "metadata": {},
   "source": [
    "# 9. Prediction vs Real results"
   ]
  },
  {
   "cell_type": "code",
   "execution_count": 13,
   "metadata": {
    "collapsed": true
   },
   "outputs": [],
   "source": [
    "def percentage_difference(model, X_test, y_test):\n",
    "    percentage_diff=[]\n",
    "\n",
    "    p = model.predict(X_test)\n",
    "    for u in range(len(y_test)): # for each data index in test data\n",
    "        pr = p[u][0] # pr = prediction on day u\n",
    "\n",
    "        percentage_diff.append((pr-y_test[u]/pr)*100)\n",
    "    return p"
   ]
  },
  {
   "cell_type": "code",
   "execution_count": 14,
   "metadata": {},
   "outputs": [],
   "source": [
    "p = percentage_difference(model, X_test, y_test)"
   ]
  },
  {
   "cell_type": "code",
   "execution_count": 15,
   "metadata": {
    "collapsed": true
   },
   "outputs": [],
   "source": [
    "def denormalize(stock_name, normalized_value):\n",
    "    \"\"\"\n",
    "    Return a dataframe of that stock and normalize all the values. \n",
    "    (Optional: create moving average)\n",
    "    \"\"\"\n",
    "    df = quandl.get_table('WIKI/PRICES', ticker = stock_name)\n",
    "    df.drop(['ticker', 'open', 'high', 'low', 'close', 'ex-dividend', 'volume', 'split_ratio'], 1, inplace=True)\n",
    "    df.set_index('date', inplace=True)\n",
    "    \n",
    "    # Renaming all the columns so that we can use the old version code\n",
    "    df.rename(columns={'adj_open': 'Open', 'adj_high': 'High', 'adj_low': 'Low', 'adj_volume': 'Volume', 'adj_close': 'Adj Close'}, inplace=True)\n",
    "    \n",
    "    df.dropna(inplace=True)\n",
    "    df = df['Adj Close'].values.reshape(-1,1)\n",
    "    normalized_value = normalized_value.reshape(-1,1)\n",
    "\n",
    "    #return df.shape, p.shape\n",
    "    min_max_scaler = preprocessing.MinMaxScaler()\n",
    "    a = min_max_scaler.fit_transform(df)\n",
    "    new = min_max_scaler.inverse_transform(normalized_value)\n",
    "      \n",
    "    return new"
   ]
  },
  {
   "cell_type": "code",
   "execution_count": 16,
   "metadata": {
    "collapsed": true
   },
   "outputs": [],
   "source": [
    "def plot_result(stock_name, normalized_value_p, normalized_value_y_test):\n",
    "    newp = denormalize(stock_name, normalized_value_p)\n",
    "    newy_test = denormalize(stock_name, normalized_value_y_test)\n",
    "    plt2.plot(newp, color='red', label='Prediction')\n",
    "    plt2.plot(newy_test,color='blue', label='Actual')\n",
    "    plt2.legend(loc='best')\n",
    "    plt2.title('The test result for {}'.format(stock_name))\n",
    "    plt2.xlabel('Days')\n",
    "    plt2.ylabel('Adjusted Close')\n",
    "    plt2.show()"
   ]
  },
  {
   "cell_type": "code",
   "execution_count": 18,
   "metadata": {},
   "outputs": [
    {
     "data": {
      "image/png": "[encoded data removed]",
      "text/plain": [
       "<matplotlib.figure.Figure at 0x23d5c8abe48>"
      ]
     },
     "metadata": {},
     "output_type": "display_data"
    }
   ],
   "source": [
    "plot_result(stock_name, p, y_test)"
   ]
  },
  {
   "cell_type": "markdown",
   "metadata": {},
   "source": [
    "# Part 2. Finding the best hyperparameter"
   ]
  },
  {
   "cell_type": "code",
   "execution_count": 19,
   "metadata": {
    "collapsed": true
   },
   "outputs": [],
   "source": [
    "def quick_measure(stock_name, seq_len, dropout, shape, neurons, epochs, decay):\n",
    "    df = get_stock_data(stock_name)\n",
    "    X_train, y_train, X_test, y_test = load_data(df, seq_len)\n",
    "    model = build_model(shape, neurons, dropout, decay)\n",
    "    model.fit(X_train, y_train, batch_size=512, epochs=epochs, validation_split=0.2, verbose=0)\n",
    "    # model.save('LSTM_Stock_prediction-20170528.h5')\n",
    "    trainScore, testScore = model_score(model, X_train, y_train, X_test, y_test)\n",
    "    return trainScore, testScore"
   ]
  },
  {
   "cell_type": "code",
   "execution_count": 54,
   "metadata": {
    "collapsed": true
   },
   "outputs": [],
   "source": [
    "quandl.ApiConfig.api_key = 'zpFWg7jpwtBPmzA8sT2Z'\n",
    "seq_len = 22\n",
    "shape = [seq_len, 6, 1] # Without moving average, 6 features will be used\n",
    "neurons = [256, 256, 32, 1]\n",
    "dropout = 0.3\n",
    "decay = 0.5\n",
    "epochs = 80\n",
    "stock_name = 'AAPL'"
   ]
  },
  {
   "cell_type": "markdown",
   "metadata": {},
   "source": [
    "# 1. Testing for epochs\n",
    "Repeatedly test it and sum up the result"
   ]
  },
  {
   "cell_type": "code",
   "execution_count": 78,
   "metadata": {},
   "outputs": [
    {
     "name": "stdout",
     "output_type": "stream",
     "text": [
      "Amount of features = 6\n",
      "Amount of training data = 8252.1\n",
      "Amount of testing data = 916.9000000000001\n",
      "_________________________________________________________________\n",
      "Layer (type)                 Output Shape              Param #   \n",
      "=================================================================\n",
      "lstm_211 (LSTM)              (None, 22, 256)           269312    \n",
      "_________________________________________________________________\n",
      "dropout_211 (Dropout)        (None, 22, 256)           0         \n",
      "_________________________________________________________________\n",
      "lstm_212 (LSTM)              (None, 256)               525312    \n",
      "_________________________________________________________________\n",
      "dropout_212 (Dropout)        (None, 256)               0         \n",
      "_________________________________________________________________\n",
      "dense_211 (Dense)            (None, 32)                8224      \n",
      "_________________________________________________________________\n",
      "dense_212 (Dense)            (None, 1)                 33        \n",
      "=================================================================\n",
      "Total params: 802,881\n",
      "Trainable params: 802,881\n",
      "Non-trainable params: 0\n",
      "_________________________________________________________________\n",
      "Train Score: 0.00008 MSE (0.01 RMSE)\n",
      "Test Score: 0.10969 MSE (0.33 RMSE)\n",
      "Amount of features = 6\n",
      "Amount of training data = 8252.1\n",
      "Amount of testing data = 916.9000000000001\n",
      "_________________________________________________________________\n",
      "Layer (type)                 Output Shape              Param #   \n",
      "=================================================================\n",
      "lstm_213 (LSTM)              (None, 22, 256)           269312    \n",
      "_________________________________________________________________\n",
      "dropout_213 (Dropout)        (None, 22, 256)           0         \n",
      "_________________________________________________________________\n",
      "lstm_214 (LSTM)              (None, 256)               525312    \n",
      "_________________________________________________________________\n",
      "dropout_214 (Dropout)        (None, 256)               0         \n",
      "_________________________________________________________________\n",
      "dense_213 (Dense)            (None, 32)                8224      \n",
      "_________________________________________________________________\n",
      "dense_214 (Dense)            (None, 1)                 33        \n",
      "=================================================================\n",
      "Total params: 802,881\n",
      "Trainable params: 802,881\n",
      "Non-trainable params: 0\n",
      "_________________________________________________________________\n",
      "Train Score: 0.00007 MSE (0.01 RMSE)\n",
      "Test Score: 0.10301 MSE (0.32 RMSE)\n",
      "Amount of features = 6\n",
      "Amount of training data = 8252.1\n",
      "Amount of testing data = 916.9000000000001\n",
      "_________________________________________________________________\n",
      "Layer (type)                 Output Shape              Param #   \n",
      "=================================================================\n",
      "lstm_215 (LSTM)              (None, 22, 256)           269312    \n",
      "_________________________________________________________________\n",
      "dropout_215 (Dropout)        (None, 22, 256)           0         \n",
      "_________________________________________________________________\n",
      "lstm_216 (LSTM)              (None, 256)               525312    \n",
      "_________________________________________________________________\n",
      "dropout_216 (Dropout)        (None, 256)               0         \n",
      "_________________________________________________________________\n",
      "dense_215 (Dense)            (None, 32)                8224      \n",
      "_________________________________________________________________\n",
      "dense_216 (Dense)            (None, 1)                 33        \n",
      "=================================================================\n",
      "Total params: 802,881\n",
      "Trainable params: 802,881\n",
      "Non-trainable params: 0\n",
      "_________________________________________________________________\n",
      "Train Score: 0.00004 MSE (0.01 RMSE)\n",
      "Test Score: 0.09786 MSE (0.31 RMSE)\n",
      "Amount of features = 6\n",
      "Amount of training data = 8252.1\n",
      "Amount of testing data = 916.9000000000001\n",
      "_________________________________________________________________\n",
      "Layer (type)                 Output Shape              Param #   \n",
      "=================================================================\n",
      "lstm_217 (LSTM)              (None, 22, 256)           269312    \n",
      "_________________________________________________________________\n",
      "dropout_217 (Dropout)        (None, 22, 256)           0         \n",
      "_________________________________________________________________\n",
      "lstm_218 (LSTM)              (None, 256)               525312    \n",
      "_________________________________________________________________\n",
      "dropout_218 (Dropout)        (None, 256)               0         \n",
      "_________________________________________________________________\n",
      "dense_217 (Dense)            (None, 32)                8224      \n",
      "_________________________________________________________________\n",
      "dense_218 (Dense)            (None, 1)                 33        \n",
      "=================================================================\n",
      "Total params: 802,881\n",
      "Trainable params: 802,881\n",
      "Non-trainable params: 0\n",
      "_________________________________________________________________\n",
      "Train Score: 0.00003 MSE (0.01 RMSE)\n",
      "Test Score: 0.08666 MSE (0.29 RMSE)\n",
      "Amount of features = 6\n",
      "Amount of training data = 8252.1\n",
      "Amount of testing data = 916.9000000000001\n",
      "_________________________________________________________________\n",
      "Layer (type)                 Output Shape              Param #   \n",
      "=================================================================\n",
      "lstm_219 (LSTM)              (None, 22, 256)           269312    \n",
      "_________________________________________________________________\n",
      "dropout_219 (Dropout)        (None, 22, 256)           0         \n",
      "_________________________________________________________________\n",
      "lstm_220 (LSTM)              (None, 256)               525312    \n",
      "_________________________________________________________________\n",
      "dropout_220 (Dropout)        (None, 256)               0         \n",
      "_________________________________________________________________\n",
      "dense_219 (Dense)            (None, 32)                8224      \n",
      "_________________________________________________________________\n",
      "dense_220 (Dense)            (None, 1)                 33        \n",
      "=================================================================\n",
      "Total params: 802,881\n",
      "Trainable params: 802,881\n",
      "Non-trainable params: 0\n",
      "_________________________________________________________________\n",
      "Train Score: 0.00005 MSE (0.01 RMSE)\n",
      "Test Score: 0.09054 MSE (0.30 RMSE)\n",
      "Amount of features = 6\n",
      "Amount of training data = 8252.1\n",
      "Amount of testing data = 916.9000000000001\n",
      "_________________________________________________________________\n",
      "Layer (type)                 Output Shape              Param #   \n",
      "=================================================================\n",
      "lstm_221 (LSTM)              (None, 22, 256)           269312    \n",
      "_________________________________________________________________\n",
      "dropout_221 (Dropout)        (None, 22, 256)           0         \n",
      "_________________________________________________________________\n",
      "lstm_222 (LSTM)              (None, 256)               525312    \n",
      "_________________________________________________________________\n",
      "dropout_222 (Dropout)        (None, 256)               0         \n",
      "_________________________________________________________________\n",
      "dense_221 (Dense)            (None, 32)                8224      \n",
      "_________________________________________________________________\n",
      "dense_222 (Dense)            (None, 1)                 33        \n",
      "=================================================================\n",
      "Total params: 802,881\n",
      "Trainable params: 802,881\n",
      "Non-trainable params: 0\n",
      "_________________________________________________________________\n",
      "Train Score: 0.00011 MSE (0.01 RMSE)\n",
      "Test Score: 0.09735 MSE (0.31 RMSE)\n",
      "Amount of features = 6\n",
      "Amount of training data = 8252.1\n",
      "Amount of testing data = 916.9000000000001\n",
      "_________________________________________________________________\n",
      "Layer (type)                 Output Shape              Param #   \n",
      "=================================================================\n",
      "lstm_223 (LSTM)              (None, 22, 256)           269312    \n",
      "_________________________________________________________________\n",
      "dropout_223 (Dropout)        (None, 22, 256)           0         \n",
      "_________________________________________________________________\n",
      "lstm_224 (LSTM)              (None, 256)               525312    \n",
      "_________________________________________________________________\n",
      "dropout_224 (Dropout)        (None, 256)               0         \n",
      "_________________________________________________________________\n",
      "dense_223 (Dense)            (None, 32)                8224      \n",
      "_________________________________________________________________\n",
      "dense_224 (Dense)            (None, 1)                 33        \n",
      "=================================================================\n",
      "Total params: 802,881\n",
      "Trainable params: 802,881\n",
      "Non-trainable params: 0\n",
      "_________________________________________________________________\n"
     ]
    },
    {
     "name": "stdout",
     "output_type": "stream",
     "text": [
      "Train Score: 0.00004 MSE (0.01 RMSE)\n",
      "Test Score: 0.07947 MSE (0.28 RMSE)\n",
      "Amount of features = 6\n",
      "Amount of training data = 8252.1\n",
      "Amount of testing data = 916.9000000000001\n",
      "_________________________________________________________________\n",
      "Layer (type)                 Output Shape              Param #   \n",
      "=================================================================\n",
      "lstm_225 (LSTM)              (None, 22, 256)           269312    \n",
      "_________________________________________________________________\n",
      "dropout_225 (Dropout)        (None, 22, 256)           0         \n",
      "_________________________________________________________________\n",
      "lstm_226 (LSTM)              (None, 256)               525312    \n",
      "_________________________________________________________________\n",
      "dropout_226 (Dropout)        (None, 256)               0         \n",
      "_________________________________________________________________\n",
      "dense_225 (Dense)            (None, 32)                8224      \n",
      "_________________________________________________________________\n",
      "dense_226 (Dense)            (None, 1)                 33        \n",
      "=================================================================\n",
      "Total params: 802,881\n",
      "Trainable params: 802,881\n",
      "Non-trainable params: 0\n",
      "_________________________________________________________________\n",
      "Train Score: 0.00006 MSE (0.01 RMSE)\n",
      "Test Score: 0.08223 MSE (0.29 RMSE)\n",
      "Amount of features = 6\n",
      "Amount of training data = 8252.1\n",
      "Amount of testing data = 916.9000000000001\n",
      "_________________________________________________________________\n",
      "Layer (type)                 Output Shape              Param #   \n",
      "=================================================================\n",
      "lstm_227 (LSTM)              (None, 22, 256)           269312    \n",
      "_________________________________________________________________\n",
      "dropout_227 (Dropout)        (None, 22, 256)           0         \n",
      "_________________________________________________________________\n",
      "lstm_228 (LSTM)              (None, 256)               525312    \n",
      "_________________________________________________________________\n",
      "dropout_228 (Dropout)        (None, 256)               0         \n",
      "_________________________________________________________________\n",
      "dense_227 (Dense)            (None, 32)                8224      \n",
      "_________________________________________________________________\n",
      "dense_228 (Dense)            (None, 1)                 33        \n",
      "=================================================================\n",
      "Total params: 802,881\n",
      "Trainable params: 802,881\n",
      "Non-trainable params: 0\n",
      "_________________________________________________________________\n",
      "Train Score: 0.00007 MSE (0.01 RMSE)\n",
      "Test Score: 0.08136 MSE (0.29 RMSE)\n",
      "Amount of features = 6\n",
      "Amount of training data = 8252.1\n",
      "Amount of testing data = 916.9000000000001\n",
      "_________________________________________________________________\n",
      "Layer (type)                 Output Shape              Param #   \n",
      "=================================================================\n",
      "lstm_229 (LSTM)              (None, 22, 256)           269312    \n",
      "_________________________________________________________________\n",
      "dropout_229 (Dropout)        (None, 22, 256)           0         \n",
      "_________________________________________________________________\n",
      "lstm_230 (LSTM)              (None, 256)               525312    \n",
      "_________________________________________________________________\n",
      "dropout_230 (Dropout)        (None, 256)               0         \n",
      "_________________________________________________________________\n",
      "dense_229 (Dense)            (None, 32)                8224      \n",
      "_________________________________________________________________\n",
      "dense_230 (Dense)            (None, 1)                 33        \n",
      "=================================================================\n",
      "Total params: 802,881\n",
      "Trainable params: 802,881\n",
      "Non-trainable params: 0\n",
      "_________________________________________________________________\n",
      "Train Score: 0.00013 MSE (0.01 RMSE)\n",
      "Test Score: 0.09750 MSE (0.31 RMSE)\n",
      "Amount of features = 6\n",
      "Amount of training data = 8252.1\n",
      "Amount of testing data = 916.9000000000001\n",
      "_________________________________________________________________\n",
      "Layer (type)                 Output Shape              Param #   \n",
      "=================================================================\n",
      "lstm_231 (LSTM)              (None, 22, 256)           269312    \n",
      "_________________________________________________________________\n",
      "dropout_231 (Dropout)        (None, 22, 256)           0         \n",
      "_________________________________________________________________\n",
      "lstm_232 (LSTM)              (None, 256)               525312    \n",
      "_________________________________________________________________\n",
      "dropout_232 (Dropout)        (None, 256)               0         \n",
      "_________________________________________________________________\n",
      "dense_231 (Dense)            (None, 32)                8224      \n",
      "_________________________________________________________________\n",
      "dense_232 (Dense)            (None, 1)                 33        \n",
      "=================================================================\n",
      "Total params: 802,881\n",
      "Trainable params: 802,881\n",
      "Non-trainable params: 0\n",
      "_________________________________________________________________\n",
      "Train Score: 0.00006 MSE (0.01 RMSE)\n",
      "Test Score: 0.08323 MSE (0.29 RMSE)\n",
      "Amount of features = 6\n",
      "Amount of training data = 8252.1\n",
      "Amount of testing data = 916.9000000000001\n",
      "_________________________________________________________________\n",
      "Layer (type)                 Output Shape              Param #   \n",
      "=================================================================\n",
      "lstm_233 (LSTM)              (None, 22, 256)           269312    \n",
      "_________________________________________________________________\n",
      "dropout_233 (Dropout)        (None, 22, 256)           0         \n",
      "_________________________________________________________________\n",
      "lstm_234 (LSTM)              (None, 256)               525312    \n",
      "_________________________________________________________________\n",
      "dropout_234 (Dropout)        (None, 256)               0         \n",
      "_________________________________________________________________\n",
      "dense_233 (Dense)            (None, 32)                8224      \n",
      "_________________________________________________________________\n",
      "dense_234 (Dense)            (None, 1)                 33        \n",
      "=================================================================\n",
      "Total params: 802,881\n",
      "Trainable params: 802,881\n",
      "Non-trainable params: 0\n",
      "_________________________________________________________________\n",
      "Train Score: 0.00007 MSE (0.01 RMSE)\n",
      "Test Score: 0.08905 MSE (0.30 RMSE)\n"
     ]
    }
   ],
   "source": [
    "epochslist = [40,50,60,70,80,90,100,110,120,130,140,150]\n",
    "epochs_train_result = {}\n",
    "epochs_test_result = {}\n",
    "#i=0\n",
    "\n",
    "#for epochs in epochslist:   \n",
    "#    epochs_train_result[epochs] = 0\n",
    "#    epochs_test_result[epochs] = 0\n",
    "\n",
    "# while i < 5:\n",
    "for epochs in epochslist:    \n",
    "    trainScore, testScore = quick_measure(stock_name, seq_len, d, shape, neurons, epochs, decay)\n",
    "    epochs_train_result[epochs] = trainScore\n",
    "    epochs_test_result[epochs] = testScore\n",
    "#    i+=1"
   ]
  },
  {
   "cell_type": "code",
   "execution_count": 79,
   "metadata": {},
   "outputs": [],
   "source": [
    "# epochs_train_result"
   ]
  },
  {
   "cell_type": "code",
   "execution_count": 80,
   "metadata": {},
   "outputs": [
    {
     "name": "stdout",
     "output_type": "stream",
     "text": [
      "{130: 0.00013116311987289503, 100: 3.6480903766854184e-05, 70: 3.4179953229898728e-05, 40: 7.8168311941938766e-05, 140: 6.4663873177254108e-05, 110: 6.3891367272432981e-05, 80: 4.5311061077072972e-05, 50: 7.3025342032340614e-05, 150: 6.9088417765549137e-05, 120: 6.6415606267396766e-05, 90: 0.0001145383225208227, 60: 3.8652290565410662e-05}\n",
      "[70]\n"
     ]
    }
   ],
   "source": [
    "min_train_val = min(epochs_train_result.values())\n",
    "min_train_val_key = [k for k, v in epochs_train_result.items() if v == min_train_val]\n",
    "print (epochs_train_result)\n",
    "print (min_train_val_key)"
   ]
  },
  {
   "cell_type": "code",
   "execution_count": 81,
   "metadata": {},
   "outputs": [
    {
     "name": "stdout",
     "output_type": "stream",
     "text": [
      "{130: 0.097501869850681294, 100: 0.079468020431965491, 70: 0.086656097871136636, 40: 0.10968560774606473, 140: 0.083229334584174267, 110: 0.082227346531014919, 80: 0.090541050796810393, 50: 0.1030062428201298, 150: 0.089051851306025304, 120: 0.081362378437197971, 90: 0.097345977936309711, 60: 0.097864382440222261}\n",
      "[100]\n"
     ]
    }
   ],
   "source": [
    "min_test_val = min(epochs_test_result.values())\n",
    "min_test_val_key = [k for k, v in epochs_test_result.items() if v == min_test_val]\n",
    "print (epochs_test_result)\n",
    "print (min_test_val_key)"
   ]
  },
  {
   "cell_type": "code",
   "execution_count": 82,
   "metadata": {},
   "outputs": [
    {
     "data": {
      "image/png": "[encoded data removed]",
      "text/plain": [
       "<matplotlib.figure.Figure at 0x23f5a99afd0>"
      ]
     },
     "metadata": {},
     "output_type": "display_data"
    }
   ],
   "source": [
    "lists1 = sorted(epochs_test_result.items())\n",
    "x1,y1 = zip(*lists1)\n",
    "plt.plot(x1,y1)\n",
    "\n",
    "plt.title('Finding the best hyperparameter for testing')\n",
    "plt.xlabel('Dropout')\n",
    "plt.ylabel('Mean Square Error')\n",
    "plt.show()"
   ]
  },
  {
   "cell_type": "code",
   "execution_count": 83,
   "metadata": {},
   "outputs": [
    {
     "data": {
      "image/png": "[encoded data removed]",
      "text/plain": [
       "<matplotlib.figure.Figure at 0x23f9244bba8>"
      ]
     },
     "metadata": {},
     "output_type": "display_data"
    }
   ],
   "source": [
    "lists2 = sorted(epochs_train_result.items())\n",
    "x2,y2 = zip(*lists2)\n",
    "plt.plot(x2,y2)\n",
    "plt.title('Finding the best hyperparameter for training set')\n",
    "plt.xlabel('Dropout')\n",
    "plt.ylabel('Mean Square Error')\n",
    "plt.show()"
   ]
  },
  {
   "cell_type": "markdown",
   "metadata": {},
   "source": [
    "# 2. Testing for dropout"
   ]
  },
  {
   "cell_type": "code",
   "execution_count": 55,
   "metadata": {},
   "outputs": [
    {
     "name": "stdout",
     "output_type": "stream",
     "text": [
      "Amount of features = 6\n",
      "Amount of training data = 8252.1\n",
      "Amount of testing data = 916.9000000000001\n",
      "_________________________________________________________________\n",
      "Layer (type)                 Output Shape              Param #   \n",
      "=================================================================\n",
      "lstm_57 (LSTM)               (None, 22, 256)           269312    \n",
      "_________________________________________________________________\n",
      "dropout_57 (Dropout)         (None, 22, 256)           0         \n",
      "_________________________________________________________________\n",
      "lstm_58 (LSTM)               (None, 256)               525312    \n",
      "_________________________________________________________________\n",
      "dropout_58 (Dropout)         (None, 256)               0         \n",
      "_________________________________________________________________\n",
      "dense_57 (Dense)             (None, 32)                8224      \n",
      "_________________________________________________________________\n",
      "dense_58 (Dense)             (None, 1)                 33        \n",
      "=================================================================\n",
      "Total params: 802,881\n",
      "Trainable params: 802,881\n",
      "Non-trainable params: 0\n",
      "_________________________________________________________________\n",
      "Train Score: 0.00006 MSE (0.01 RMSE)\n",
      "Test Score: 0.05499 MSE (0.23 RMSE)\n",
      "Amount of features = 6\n",
      "Amount of training data = 8252.1\n",
      "Amount of testing data = 916.9000000000001\n",
      "_________________________________________________________________\n",
      "Layer (type)                 Output Shape              Param #   \n",
      "=================================================================\n",
      "lstm_59 (LSTM)               (None, 22, 256)           269312    \n",
      "_________________________________________________________________\n",
      "dropout_59 (Dropout)         (None, 22, 256)           0         \n",
      "_________________________________________________________________\n",
      "lstm_60 (LSTM)               (None, 256)               525312    \n",
      "_________________________________________________________________\n",
      "dropout_60 (Dropout)         (None, 256)               0         \n",
      "_________________________________________________________________\n",
      "dense_59 (Dense)             (None, 32)                8224      \n",
      "_________________________________________________________________\n",
      "dense_60 (Dense)             (None, 1)                 33        \n",
      "=================================================================\n",
      "Total params: 802,881\n",
      "Trainable params: 802,881\n",
      "Non-trainable params: 0\n",
      "_________________________________________________________________\n",
      "Train Score: 0.00006 MSE (0.01 RMSE)\n",
      "Test Score: 0.06820 MSE (0.26 RMSE)\n",
      "Amount of features = 6\n",
      "Amount of training data = 8252.1\n",
      "Amount of testing data = 916.9000000000001\n",
      "_________________________________________________________________\n",
      "Layer (type)                 Output Shape              Param #   \n",
      "=================================================================\n",
      "lstm_61 (LSTM)               (None, 22, 256)           269312    \n",
      "_________________________________________________________________\n",
      "dropout_61 (Dropout)         (None, 22, 256)           0         \n",
      "_________________________________________________________________\n",
      "lstm_62 (LSTM)               (None, 256)               525312    \n",
      "_________________________________________________________________\n",
      "dropout_62 (Dropout)         (None, 256)               0         \n",
      "_________________________________________________________________\n",
      "dense_61 (Dense)             (None, 32)                8224      \n",
      "_________________________________________________________________\n",
      "dense_62 (Dense)             (None, 1)                 33        \n",
      "=================================================================\n",
      "Total params: 802,881\n",
      "Trainable params: 802,881\n",
      "Non-trainable params: 0\n",
      "_________________________________________________________________\n",
      "Train Score: 0.00010 MSE (0.01 RMSE)\n",
      "Test Score: 0.07470 MSE (0.27 RMSE)\n",
      "Amount of features = 6\n",
      "Amount of training data = 8252.1\n",
      "Amount of testing data = 916.9000000000001\n",
      "_________________________________________________________________\n",
      "Layer (type)                 Output Shape              Param #   \n",
      "=================================================================\n",
      "lstm_63 (LSTM)               (None, 22, 256)           269312    \n",
      "_________________________________________________________________\n",
      "dropout_63 (Dropout)         (None, 22, 256)           0         \n",
      "_________________________________________________________________\n",
      "lstm_64 (LSTM)               (None, 256)               525312    \n",
      "_________________________________________________________________\n",
      "dropout_64 (Dropout)         (None, 256)               0         \n",
      "_________________________________________________________________\n",
      "dense_63 (Dense)             (None, 32)                8224      \n",
      "_________________________________________________________________\n",
      "dense_64 (Dense)             (None, 1)                 33        \n",
      "=================================================================\n",
      "Total params: 802,881\n",
      "Trainable params: 802,881\n",
      "Non-trainable params: 0\n",
      "_________________________________________________________________\n",
      "Train Score: 0.00008 MSE (0.01 RMSE)\n",
      "Test Score: 0.06228 MSE (0.25 RMSE)\n",
      "Amount of features = 6\n",
      "Amount of training data = 8252.1\n",
      "Amount of testing data = 916.9000000000001\n",
      "_________________________________________________________________\n",
      "Layer (type)                 Output Shape              Param #   \n",
      "=================================================================\n",
      "lstm_65 (LSTM)               (None, 22, 256)           269312    \n",
      "_________________________________________________________________\n",
      "dropout_65 (Dropout)         (None, 22, 256)           0         \n",
      "_________________________________________________________________\n",
      "lstm_66 (LSTM)               (None, 256)               525312    \n",
      "_________________________________________________________________\n",
      "dropout_66 (Dropout)         (None, 256)               0         \n",
      "_________________________________________________________________\n",
      "dense_65 (Dense)             (None, 32)                8224      \n",
      "_________________________________________________________________\n",
      "dense_66 (Dense)             (None, 1)                 33        \n",
      "=================================================================\n",
      "Total params: 802,881\n",
      "Trainable params: 802,881\n",
      "Non-trainable params: 0\n",
      "_________________________________________________________________\n",
      "Train Score: 0.00004 MSE (0.01 RMSE)\n",
      "Test Score: 0.05665 MSE (0.24 RMSE)\n",
      "Amount of features = 6\n",
      "Amount of training data = 8252.1\n",
      "Amount of testing data = 916.9000000000001\n",
      "_________________________________________________________________\n",
      "Layer (type)                 Output Shape              Param #   \n",
      "=================================================================\n",
      "lstm_67 (LSTM)               (None, 22, 256)           269312    \n",
      "_________________________________________________________________\n",
      "dropout_67 (Dropout)         (None, 22, 256)           0         \n",
      "_________________________________________________________________\n",
      "lstm_68 (LSTM)               (None, 256)               525312    \n",
      "_________________________________________________________________\n",
      "dropout_68 (Dropout)         (None, 256)               0         \n",
      "_________________________________________________________________\n",
      "dense_67 (Dense)             (None, 32)                8224      \n",
      "_________________________________________________________________\n",
      "dense_68 (Dense)             (None, 1)                 33        \n",
      "=================================================================\n",
      "Total params: 802,881\n",
      "Trainable params: 802,881\n",
      "Non-trainable params: 0\n",
      "_________________________________________________________________\n",
      "Train Score: 0.00002 MSE (0.00 RMSE)\n",
      "Test Score: 0.06158 MSE (0.25 RMSE)\n",
      "Amount of features = 6\n",
      "Amount of training data = 8252.1\n",
      "Amount of testing data = 916.9000000000001\n",
      "_________________________________________________________________\n",
      "Layer (type)                 Output Shape              Param #   \n",
      "=================================================================\n",
      "lstm_69 (LSTM)               (None, 22, 256)           269312    \n",
      "_________________________________________________________________\n",
      "dropout_69 (Dropout)         (None, 22, 256)           0         \n",
      "_________________________________________________________________\n",
      "lstm_70 (LSTM)               (None, 256)               525312    \n",
      "_________________________________________________________________\n",
      "dropout_70 (Dropout)         (None, 256)               0         \n",
      "_________________________________________________________________\n",
      "dense_69 (Dense)             (None, 32)                8224      \n",
      "_________________________________________________________________\n",
      "dense_70 (Dense)             (None, 1)                 33        \n",
      "=================================================================\n",
      "Total params: 802,881\n",
      "Trainable params: 802,881\n",
      "Non-trainable params: 0\n",
      "_________________________________________________________________\n"
     ]
    },
    {
     "name": "stdout",
     "output_type": "stream",
     "text": [
      "Train Score: 0.00005 MSE (0.01 RMSE)\n",
      "Test Score: 0.08095 MSE (0.28 RMSE)\n"
     ]
    }
   ],
   "source": [
    "dlist = [0.2, 0.3, 0.4, 0.5, 0.6, 0.7, 0.8]\n",
    "dropout_train_result = {}\n",
    "dropout_test_result = {}\n",
    "\n",
    "for d in dlist:    \n",
    "    trainScore, testScore = quick_measure(stock_name, seq_len, d, shape, neurons, epochs, decay)\n",
    "    dropout_train_result[d] = trainScore\n",
    "    dropout_test_result[d] = testScore"
   ]
  },
  {
   "cell_type": "code",
   "execution_count": 56,
   "metadata": {},
   "outputs": [
    {
     "name": "stdout",
     "output_type": "stream",
     "text": [
      "{0.2: 5.9572113496767877e-05, 0.3: 5.6197788610138269e-05, 0.8: 5.3945750199302703e-05, 0.5: 8.0980384914134515e-05, 0.7: 2.4834409431957606e-05, 0.4: 9.8415648253760715e-05, 0.6: 4.1063131146016772e-05}\n",
      "[0.7]\n"
     ]
    }
   ],
   "source": [
    "min_train_val = min(dropout_train_result.values())\n",
    "min_train_val_key = [k for k, v in dropout_train_result.items() if v == min_train_val]\n",
    "print (dropout_train_result)\n",
    "print (min_train_val_key)"
   ]
  },
  {
   "cell_type": "code",
   "execution_count": 57,
   "metadata": {},
   "outputs": [
    {
     "name": "stdout",
     "output_type": "stream",
     "text": [
      "{0.2: 0.054993211770086925, 0.3: 0.068200290735278807, 0.8: 0.080947121318872522, 0.5: 0.062280740857026833, 0.7: 0.061575942692085855, 0.4: 0.074696727036097324, 0.6: 0.056654321655403565}\n",
      "[0.2]\n"
     ]
    }
   ],
   "source": [
    "min_test_val = min(dropout_test_result.values())\n",
    "min_test_val_key = [k for k, v in dropout_test_result.items() if v == min_test_val]\n",
    "print (dropout_test_result)\n",
    "print (min_test_val_key)"
   ]
  },
  {
   "cell_type": "code",
   "execution_count": 58,
   "metadata": {},
   "outputs": [
    {
     "data": {
      "image/png": "[encoded data removed]",
      "text/plain": [
       "<matplotlib.figure.Figure at 0x23de1c09828>"
      ]
     },
     "metadata": {},
     "output_type": "display_data"
    }
   ],
   "source": [
    "lists1 = sorted(dropout_test_result.items())\n",
    "x1,y1 = zip(*lists1)\n",
    "plt.plot(x1,y1)\n",
    "plt.title('Finding the best hyperparameter for testing set')\n",
    "plt.xlabel('Dropout')\n",
    "plt.ylabel('Mean Square Error')\n",
    "plt.show()"
   ]
  },
  {
   "cell_type": "code",
   "execution_count": 59,
   "metadata": {},
   "outputs": [
    {
     "data": {
      "image/png": "[encoded data removed]",
      "text/plain": [
       "<matplotlib.figure.Figure at 0x23e0b3700f0>"
      ]
     },
     "metadata": {},
     "output_type": "display_data"
    }
   ],
   "source": [
    "lists2 = sorted(dropout_train_result.items())\n",
    "x2,y2 = zip(*lists2)\n",
    "plt.plot(x2,y2)\n",
    "plt.title('Finding the best hyperparameter for training set')\n",
    "plt.xlabel('Dropout')\n",
    "plt.ylabel('Mean Square Error')\n",
    "plt.show()"
   ]
  },
  {
   "cell_type": "code",
   "execution_count": null,
   "metadata": {
    "collapsed": true
   },
   "outputs": [],
   "source": []
  }
 ],
 "metadata": {
  "kernelspec": {
   "display_name": "Python 3",
   "language": "python",
   "name": "python3"
  },
  "language_info": {
   "codemirror_mode": {
    "name": "ipython",
    "version": 3
   },
   "file_extension": ".py",
   "mimetype": "text/x-python",
   "name": "python",
   "nbconvert_exporter": "python",
   "pygments_lexer": "ipython3",
   "version": "3.5.3"
  }
 },
 "nbformat": 4,
 "nbformat_minor": 2
}
