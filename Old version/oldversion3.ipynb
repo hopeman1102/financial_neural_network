{
 "cells": [
  {
   "cell_type": "markdown",
   "metadata": {},
   "source": [
    "# Stock value prediction"
   ]
  },
  {
   "cell_type": "code",
   "execution_count": 35,
   "metadata": {},
   "outputs": [],
   "source": [
    "import numpy as np\n",
    "import matplotlib.pyplot as plt\n",
    "import pandas as pd\n",
    "from pandas import datetime\n",
    "import math, time\n",
    "import itertools\n",
    "from sklearn import preprocessing\n",
    "import datetime\n",
    "from operator import itemgetter\n",
    "from sklearn.metrics import mean_squared_error\n",
    "from math import sqrt\n",
    "from keras.models import Sequential\n",
    "from keras.layers.core import Dense, Dropout, Activation\n",
    "from keras.layers.recurrent import LSTM\n",
    "from keras.models import load_model\n",
    "import keras\n",
    "import pandas_datareader.data as web\n",
    "import h5py"
   ]
  },
  {
   "cell_type": "markdown",
   "metadata": {},
   "source": [
    "# Download data and normalize it"
   ]
  },
  {
   "cell_type": "code",
   "execution_count": 2,
   "metadata": {
    "collapsed": true
   },
   "outputs": [],
   "source": [
    "def get_stock_data(stock_name, normalize=True):\n",
    "    start = datetime.datetime(2000, 1, 1)\n",
    "    end = datetime.date.today()\n",
    "    df = web.DataReader(stock_name, \"yahoo\", start, end)\n",
    "    df.drop(['Volume', 'Close'], 1, inplace=True)\n",
    "    \n",
    "    if normalize:        \n",
    "        min_max_scaler = preprocessing.MinMaxScaler()\n",
    "        df['Open'] = min_max_scaler.fit_transform(df.Open.values.reshape(-1,1))\n",
    "        df['High'] = min_max_scaler.fit_transform(df.High.values.reshape(-1,1))\n",
    "        df['Low'] = min_max_scaler.fit_transform(df.Low.values.reshape(-1,1))\n",
    "        df['Adj Close'] = min_max_scaler.fit_transform(df['Adj Close'].values.reshape(-1,1))\n",
    "    return df"
   ]
  },
  {
   "cell_type": "markdown",
   "metadata": {},
   "source": [
    "Loading Google from yahoo finance"
   ]
  },
  {
   "cell_type": "code",
   "execution_count": 3,
   "metadata": {
    "scrolled": true
   },
   "outputs": [
    {
     "data": {
      "text/html": [
       "<div>\n",
       "<table border=\"1\" class=\"dataframe\">\n",
       "  <thead>\n",
       "    <tr style=\"text-align: right;\">\n",
       "      <th></th>\n",
       "      <th>Open</th>\n",
       "      <th>High</th>\n",
       "      <th>Low</th>\n",
       "      <th>Adj Close</th>\n",
       "    </tr>\n",
       "    <tr>\n",
       "      <th>Date</th>\n",
       "      <th></th>\n",
       "      <th></th>\n",
       "      <th></th>\n",
       "      <th></th>\n",
       "    </tr>\n",
       "  </thead>\n",
       "  <tbody>\n",
       "    <tr>\n",
       "      <th>2000-01-03</th>\n",
       "      <td>0.460498</td>\n",
       "      <td>0.458888</td>\n",
       "      <td>0.450320</td>\n",
       "      <td>0.452877</td>\n",
       "    </tr>\n",
       "    <tr>\n",
       "      <th>2000-01-04</th>\n",
       "      <td>0.452319</td>\n",
       "      <td>0.445533</td>\n",
       "      <td>0.426432</td>\n",
       "      <td>0.420424</td>\n",
       "    </tr>\n",
       "    <tr>\n",
       "      <th>2000-01-05</th>\n",
       "      <td>0.419792</td>\n",
       "      <td>0.420939</td>\n",
       "      <td>0.414905</td>\n",
       "      <td>0.421989</td>\n",
       "    </tr>\n",
       "    <tr>\n",
       "      <th>2000-01-06</th>\n",
       "      <td>0.421360</td>\n",
       "      <td>0.420136</td>\n",
       "      <td>0.423321</td>\n",
       "      <td>0.422768</td>\n",
       "    </tr>\n",
       "    <tr>\n",
       "      <th>2000-01-07</th>\n",
       "      <td>0.422141</td>\n",
       "      <td>0.437472</td>\n",
       "      <td>0.428358</td>\n",
       "      <td>0.444880</td>\n",
       "    </tr>\n",
       "  </tbody>\n",
       "</table>\n",
       "</div>"
      ],
      "text/plain": [
       "                Open      High       Low  Adj Close\n",
       "Date                                               \n",
       "2000-01-03  0.460498  0.458888  0.450320   0.452877\n",
       "2000-01-04  0.452319  0.445533  0.426432   0.420424\n",
       "2000-01-05  0.419792  0.420939  0.414905   0.421989\n",
       "2000-01-06  0.421360  0.420136  0.423321   0.422768\n",
       "2000-01-07  0.422141  0.437472  0.428358   0.444880"
      ]
     },
     "execution_count": 3,
     "metadata": {},
     "output_type": "execute_result"
    }
   ],
   "source": [
    "stock_name = '^GSPC'\n",
    "df = get_stock_data(stock_name, normalize=True)\n",
    "df.head()"
   ]
  },
  {
   "cell_type": "markdown",
   "metadata": {},
   "source": [
    "Saving the data to a file for a future use"
   ]
  },
  {
   "cell_type": "code",
   "execution_count": 4,
   "metadata": {
    "collapsed": true
   },
   "outputs": [],
   "source": [
    "#today = datetime.date.today()\n",
    "#file_name = stock_name+'_stock_%s.csv' % today\n",
    "#df.to_csv(file_name)"
   ]
  },
  {
   "cell_type": "markdown",
   "metadata": {},
   "source": [
    "# Plot out the Normalized Adjusted close price"
   ]
  },
  {
   "cell_type": "code",
   "execution_count": 5,
   "metadata": {},
   "outputs": [
    {
     "data": {
      "image/png": "[encoded data removed]",
      "text/plain": [
       "<matplotlib.figure.Figure at 0x26057cf68d0>"
      ]
     },
     "metadata": {},
     "output_type": "display_data"
    }
   ],
   "source": [
    "plt.plot(df['Adj Close'], color='red', label='Adj Close')\n",
    "plt.legend(loc='best')\n",
    "plt.show()"
   ]
  },
  {
   "cell_type": "markdown",
   "metadata": {},
   "source": [
    "# Set last day Adjusted Close as y"
   ]
  },
  {
   "cell_type": "code",
   "execution_count": 6,
   "metadata": {
    "collapsed": true
   },
   "outputs": [],
   "source": [
    "def load_data(stock, seq_len):\n",
    "    amount_of_features = len(stock.columns)\n",
    "    data = stock.as_matrix() \n",
    "    sequence_length = seq_len + 1 # index starting from 0\n",
    "    result = []\n",
    "    \n",
    "    for index in range(len(data) - sequence_length): # maxmimum date = lastest date - sequence length\n",
    "        result.append(data[index: index + sequence_length]) # index : index + 22days\n",
    "    \n",
    "    result = np.array(result)\n",
    "    row = round(0.9 * result.shape[0]) # 90% split\n",
    "    train = result[:int(row), :] # 90% date, all features # (3893, 23, 4)\n",
    "    x_train = train[:, :-1] # x = all feature except adj close # (3893, 22, 4)\n",
    "    y_train = train[:, -1][:,-1] # y = last feature, last day (3893)\n",
    "    x_test = result[int(row):, :-1] #(432, 22, 4)\n",
    "    y_test = result[int(row):, -1][:,-1] #(432)\n",
    "\n",
    "    x_train = np.reshape(x_train, (x_train.shape[0], x_train.shape[1], amount_of_features))\n",
    "    x_test = np.reshape(x_test, (x_test.shape[0], x_test.shape[1], amount_of_features))  \n",
    "\n",
    "    return [x_train, y_train, x_test, y_test]"
   ]
  },
  {
   "cell_type": "markdown",
   "metadata": {},
   "source": [
    "# Buidling neural network"
   ]
  },
  {
   "cell_type": "code",
   "execution_count": 24,
   "metadata": {
    "collapsed": true
   },
   "outputs": [],
   "source": [
    "# 4, 22, 1\n",
    "def build_model(layers):\n",
    "    model = Sequential()\n",
    "\n",
    "    model.add(LSTM(units=360, input_shape=(layers[1],layers[0]), return_sequences=True))\n",
    "    model.add(Dropout(0.2))\n",
    "\n",
    "    model.add(LSTM(units=120, input_shape=(layers[1], layers[0]), return_sequences=False))\n",
    "    model.add(Dropout(0.2))\n",
    "\n",
    "    #model.add(Dense(32,kernel_initializer=\"uniform\",activation='relu'))  \n",
    "    model.add(Dense(layers[2], activation='linear'))\n",
    "\n",
    "    start = time.time()\n",
    "    #adam = keras.optimizers.Adam(lr=1, decay=0.2)\n",
    "    model.compile(loss=\"mse\", optimizer=\"adam\",metrics=['accuracy'])\n",
    "    print(\"Compilation Time : \", time.time() - start)\n",
    "    return model\n",
    "\n",
    "def build_model2(layers):\n",
    "    d = 0.2\n",
    "    model = Sequential()\n",
    "    \n",
    "    model.add(LSTM(128, input_shape=(layers[1], layers[0]), return_sequences=True))\n",
    "    model.add(Dropout(d))\n",
    "        \n",
    "    model.add(LSTM(128, input_shape=(layers[1], layers[0]), return_sequences=False))\n",
    "    model.add(Dropout(d))\n",
    "        \n",
    "    model.add(Dense(32,kernel_initializer=\"uniform\",activation='relu'))        \n",
    "    model.add(Dense(1,kernel_initializer=\"uniform\",activation='linear'))\n",
    "    # model = load_model('my_LSTM_stock_model1000.h5')\n",
    "    # adam = keras.optimizers.Adam(decay=0.2)\n",
    "    start = time.time()\n",
    "    model.compile(loss='mse',optimizer='adam', metrics=['accuracy'])\n",
    "    print(\"Compilation Time : \", time.time() - start)\n",
    "    return model"
   ]
  },
  {
   "cell_type": "markdown",
   "metadata": {},
   "source": [
    "# Setting X and Y for training and testing"
   ]
  },
  {
   "cell_type": "code",
   "execution_count": 25,
   "metadata": {},
   "outputs": [
    {
     "name": "stdout",
     "output_type": "stream",
     "text": [
      "X_train (3893, 22, 4)\n",
      "y_train (3893,)\n",
      "X_test (433, 22, 4)\n",
      "y_test (433,)\n"
     ]
    }
   ],
   "source": [
    "window = 22\n",
    "X_train, y_train, X_test, y_test = load_data(df, window)\n",
    "print(\"X_train\", X_train.shape)\n",
    "print(\"y_train\", y_train.shape)\n",
    "print(\"X_test\", X_test.shape)\n",
    "print(\"y_test\", y_test.shape)"
   ]
  },
  {
   "cell_type": "markdown",
   "metadata": {},
   "source": [
    "# Compile model\n",
    "amount of feature, day of data, output"
   ]
  },
  {
   "cell_type": "code",
   "execution_count": 26,
   "metadata": {},
   "outputs": [
    {
     "name": "stdout",
     "output_type": "stream",
     "text": [
      "Compilation Time :  0.029074668884277344\n"
     ]
    }
   ],
   "source": [
    "model = build_model2([4,window,1])"
   ]
  },
  {
   "cell_type": "markdown",
   "metadata": {},
   "source": [
    "# Executing the model & RMS/RMSE results"
   ]
  },
  {
   "cell_type": "code",
   "execution_count": 27,
   "metadata": {
    "scrolled": true
   },
   "outputs": [
    {
     "name": "stdout",
     "output_type": "stream",
     "text": [
      "Train on 3503 samples, validate on 390 samples\n",
      "Epoch 1/300\n",
      "3503/3503 [==============================] - 1s - loss: 0.1063 - acc: 2.8547e-04 - val_loss: 0.3417 - val_acc: 0.0000e+00\n",
      "Epoch 2/300\n",
      "3503/3503 [==============================] - 0s - loss: 0.0271 - acc: 2.8547e-04 - val_loss: 0.0966 - val_acc: 0.0000e+00\n",
      "Epoch 3/300\n",
      "3503/3503 [==============================] - 0s - loss: 0.0135 - acc: 2.8547e-04 - val_loss: 0.2255 - val_acc: 0.0000e+00\n",
      "Epoch 4/300\n",
      "3503/3503 [==============================] - 0s - loss: 0.0132 - acc: 2.8547e-04 - val_loss: 0.1429 - val_acc: 0.0000e+00\n",
      "Epoch 5/300\n",
      "3503/3503 [==============================] - 0s - loss: 0.0092 - acc: 2.8547e-04 - val_loss: 0.1131 - val_acc: 0.0000e+00\n",
      "Epoch 6/300\n",
      "3503/3503 [==============================] - ETA: 0s - loss: 0.0052 - acc: 3.2552e-0 - 0s - loss: 0.0050 - acc: 2.8547e-04 - val_loss: 0.0664 - val_acc: 0.0000e+00\n",
      "Epoch 7/300\n",
      "3503/3503 [==============================] - 0s - loss: 0.0020 - acc: 2.8547e-04 - val_loss: 0.0335 - val_acc: 0.0000e+00\n",
      "Epoch 8/300\n",
      "3503/3503 [==============================] - 0s - loss: 0.0014 - acc: 2.8547e-04 - val_loss: 0.0162 - val_acc: 0.0000e+00\n",
      "Epoch 9/300\n",
      "3503/3503 [==============================] - 0s - loss: 0.0012 - acc: 2.8547e-04 - val_loss: 0.0157 - val_acc: 0.0000e+00\n",
      "Epoch 10/300\n",
      "3503/3503 [==============================] - 0s - loss: 8.9832e-04 - acc: 2.8547e-04 - val_loss: 0.0171 - val_acc: 0.0000e+00\n",
      "Epoch 11/300\n",
      "3503/3503 [==============================] - 0s - loss: 9.0166e-04 - acc: 2.8547e-04 - val_loss: 0.0148 - val_acc: 0.0000e+00\n",
      "Epoch 12/300\n",
      "3503/3503 [==============================] - 0s - loss: 8.3257e-04 - acc: 2.8547e-04 - val_loss: 0.0096 - val_acc: 0.0000e+00\n",
      "Epoch 13/300\n",
      "3503/3503 [==============================] - 0s - loss: 8.0014e-04 - acc: 2.8547e-04 - val_loss: 0.0068 - val_acc: 0.0000e+00\n",
      "Epoch 14/300\n",
      "3503/3503 [==============================] - 0s - loss: 7.7521e-04 - acc: 2.8547e-04 - val_loss: 0.0061 - val_acc: 0.0000e+00\n",
      "Epoch 15/300\n",
      "3503/3503 [==============================] - 0s - loss: 7.7743e-04 - acc: 2.8547e-04 - val_loss: 0.0053 - val_acc: 0.0000e+00\n",
      "Epoch 16/300\n",
      "3503/3503 [==============================] - 0s - loss: 7.6975e-04 - acc: 2.8547e-04 - val_loss: 0.0050 - val_acc: 0.0000e+00\n",
      "Epoch 17/300\n",
      "3503/3503 [==============================] - 0s - loss: 7.7499e-04 - acc: 2.8547e-04 - val_loss: 0.0048 - val_acc: 0.0000e+00\n",
      "Epoch 18/300\n",
      "3503/3503 [==============================] - 0s - loss: 7.7200e-04 - acc: 2.8547e-04 - val_loss: 0.0050 - val_acc: 0.0000e+00\n",
      "Epoch 19/300\n",
      "3503/3503 [==============================] - 0s - loss: 7.6224e-04 - acc: 2.8547e-04 - val_loss: 0.0044 - val_acc: 0.0000e+00\n",
      "Epoch 20/300\n",
      "3503/3503 [==============================] - 0s - loss: 7.4589e-04 - acc: 2.8547e-04 - val_loss: 0.0037 - val_acc: 0.0000e+00\n",
      "Epoch 21/300\n",
      "3503/3503 [==============================] - 0s - loss: 7.1530e-04 - acc: 2.8547e-04 - val_loss: 0.0029 - val_acc: 0.0000e+00\n",
      "Epoch 22/300\n",
      "3503/3503 [==============================] - 0s - loss: 7.2246e-04 - acc: 2.8547e-04 - val_loss: 0.0025 - val_acc: 0.0000e+00\n",
      "Epoch 23/300\n",
      "3503/3503 [==============================] - 0s - loss: 7.0782e-04 - acc: 2.8547e-04 - val_loss: 0.0029 - val_acc: 0.0000e+00\n",
      "Epoch 24/300\n",
      "3503/3503 [==============================] - 0s - loss: 6.8877e-04 - acc: 2.8547e-04 - val_loss: 0.0025 - val_acc: 0.0000e+00\n",
      "Epoch 25/300\n",
      "3503/3503 [==============================] - 0s - loss: 6.8997e-04 - acc: 2.8547e-04 - val_loss: 0.0028 - val_acc: 0.0000e+00\n",
      "Epoch 26/300\n",
      "3503/3503 [==============================] - 0s - loss: 6.6593e-04 - acc: 2.8547e-04 - val_loss: 0.0022 - val_acc: 0.0000e+00\n",
      "Epoch 27/300\n",
      "3503/3503 [==============================] - 0s - loss: 6.7781e-04 - acc: 2.8547e-04 - val_loss: 0.0021 - val_acc: 0.0000e+00\n",
      "Epoch 28/300\n",
      "3503/3503 [==============================] - 0s - loss: 6.8217e-04 - acc: 2.8547e-04 - val_loss: 0.0020 - val_acc: 0.0000e+00\n",
      "Epoch 29/300\n",
      "3503/3503 [==============================] - 0s - loss: 6.6890e-04 - acc: 2.8547e-04 - val_loss: 0.0017 - val_acc: 0.0000e+00\n",
      "Epoch 30/300\n",
      "3503/3503 [==============================] - 0s - loss: 6.5929e-04 - acc: 2.8547e-04 - val_loss: 0.0022 - val_acc: 0.0000e+00\n",
      "Epoch 31/300\n",
      "3503/3503 [==============================] - 0s - loss: 6.5486e-04 - acc: 2.8547e-04 - val_loss: 0.0011 - val_acc: 0.0000e+00\n",
      "Epoch 32/300\n",
      "3503/3503 [==============================] - 0s - loss: 6.5084e-04 - acc: 2.8547e-04 - val_loss: 0.0022 - val_acc: 0.0000e+00\n",
      "Epoch 33/300\n",
      "3503/3503 [==============================] - 0s - loss: 6.4985e-04 - acc: 2.8547e-04 - val_loss: 9.0723e-04 - val_acc: 0.0000e+00\n",
      "Epoch 34/300\n",
      "3503/3503 [==============================] - 0s - loss: 6.4796e-04 - acc: 2.8547e-04 - val_loss: 0.0020 - val_acc: 0.0000e+00\n",
      "Epoch 35/300\n",
      "3503/3503 [==============================] - 0s - loss: 6.7759e-04 - acc: 2.8547e-04 - val_loss: 6.2744e-04 - val_acc: 0.0000e+00\n",
      "Epoch 36/300\n",
      "3503/3503 [==============================] - 0s - loss: 7.4585e-04 - acc: 2.8547e-04 - val_loss: 0.0027 - val_acc: 0.0000e+00\n",
      "Epoch 37/300\n",
      "3503/3503 [==============================] - 0s - loss: 6.6391e-04 - acc: 2.8547e-04 - val_loss: 7.3569e-04 - val_acc: 0.0000e+00\n",
      "Epoch 38/300\n",
      "3503/3503 [==============================] - 0s - loss: 6.3142e-04 - acc: 2.8547e-04 - val_loss: 0.0017 - val_acc: 0.0000e+00\n",
      "Epoch 39/300\n",
      "3503/3503 [==============================] - 0s - loss: 6.0009e-04 - acc: 2.8547e-04 - val_loss: 0.0014 - val_acc: 0.0000e+00\n",
      "Epoch 40/300\n",
      "3503/3503 [==============================] - 0s - loss: 6.0940e-04 - acc: 2.8547e-04 - val_loss: 9.7467e-04 - val_acc: 0.0000e+00\n",
      "Epoch 41/300\n",
      "3503/3503 [==============================] - 0s - loss: 6.1203e-04 - acc: 2.8547e-04 - val_loss: 8.1823e-04 - val_acc: 0.0000e+00\n",
      "Epoch 42/300\n",
      "3503/3503 [==============================] - 0s - loss: 6.0604e-04 - acc: 2.8547e-04 - val_loss: 6.6368e-04 - val_acc: 0.0000e+00\n",
      "Epoch 43/300\n",
      "3503/3503 [==============================] - 0s - loss: 5.5760e-04 - acc: 2.8547e-04 - val_loss: 4.3691e-04 - val_acc: 0.0000e+00\n",
      "Epoch 44/300\n",
      "3503/3503 [==============================] - 0s - loss: 6.0424e-04 - acc: 2.8547e-04 - val_loss: 8.1832e-04 - val_acc: 0.0000e+00\n",
      "Epoch 45/300\n",
      "3503/3503 [==============================] - 0s - loss: 5.9178e-04 - acc: 2.8547e-04 - val_loss: 9.3385e-04 - val_acc: 0.0000e+00\n",
      "Epoch 46/300\n",
      "3503/3503 [==============================] - 0s - loss: 6.0228e-04 - acc: 2.8547e-04 - val_loss: 3.6931e-04 - val_acc: 0.0000e+00\n",
      "Epoch 47/300\n",
      "3503/3503 [==============================] - 0s - loss: 5.8569e-04 - acc: 2.8547e-04 - val_loss: 4.5843e-04 - val_acc: 0.0000e+00\n",
      "Epoch 48/300\n",
      "3503/3503 [==============================] - 0s - loss: 5.3781e-04 - acc: 2.8547e-04 - val_loss: 0.0011 - val_acc: 0.0000e+00\n",
      "Epoch 49/300\n",
      "3503/3503 [==============================] - 0s - loss: 6.0360e-04 - acc: 2.8547e-04 - val_loss: 7.6928e-04 - val_acc: 0.0000e+00\n",
      "Epoch 50/300\n",
      "3503/3503 [==============================] - 0s - loss: 5.7163e-04 - acc: 2.8547e-04 - val_loss: 3.2881e-04 - val_acc: 0.0000e+00\n",
      "Epoch 51/300\n",
      "3503/3503 [==============================] - 0s - loss: 5.5004e-04 - acc: 2.8547e-04 - val_loss: 3.2381e-04 - val_acc: 0.0000e+00\n",
      "Epoch 52/300\n",
      "3503/3503 [==============================] - 0s - loss: 5.3119e-04 - acc: 2.8547e-04 - val_loss: 3.5749e-04 - val_acc: 0.0000e+00\n",
      "Epoch 53/300\n",
      "3503/3503 [==============================] - 0s - loss: 5.3982e-04 - acc: 2.8547e-04 - val_loss: 3.6161e-04 - val_acc: 0.0000e+00\n",
      "Epoch 54/300\n",
      "3503/3503 [==============================] - 0s - loss: 5.2173e-04 - acc: 2.8547e-04 - val_loss: 3.7797e-04 - val_acc: 0.0000e+00\n",
      "Epoch 55/300\n",
      "3503/3503 [==============================] - 0s - loss: 5.6163e-04 - acc: 2.8547e-04 - val_loss: 5.9535e-04 - val_acc: 0.0000e+00\n",
      "Epoch 56/300\n",
      "3503/3503 [==============================] - 0s - loss: 5.8046e-04 - acc: 2.8547e-04 - val_loss: 5.9097e-04 - val_acc: 0.0000e+00\n",
      "Epoch 57/300\n",
      "3503/3503 [==============================] - 0s - loss: 5.5300e-04 - acc: 2.8547e-04 - val_loss: 5.3854e-04 - val_acc: 0.0000e+00\n",
      "Epoch 58/300\n",
      "3503/3503 [==============================] - 0s - loss: 5.4620e-04 - acc: 2.8547e-04 - val_loss: 3.2107e-04 - val_acc: 0.0000e+00\n",
      "Epoch 59/300\n"
     ]
    },
    {
     "name": "stdout",
     "output_type": "stream",
     "text": [
      "3503/3503 [==============================] - 0s - loss: 5.3568e-04 - acc: 2.8547e-04 - val_loss: 3.6522e-04 - val_acc: 0.0000e+00\n",
      "Epoch 60/300\n",
      "3503/3503 [==============================] - 0s - loss: 5.5991e-04 - acc: 2.8547e-04 - val_loss: 3.1734e-04 - val_acc: 0.0000e+00\n",
      "Epoch 61/300\n",
      "3503/3503 [==============================] - 0s - loss: 5.1617e-04 - acc: 2.8547e-04 - val_loss: 3.9557e-04 - val_acc: 0.0000e+00\n",
      "Epoch 62/300\n",
      "3503/3503 [==============================] - 0s - loss: 5.1612e-04 - acc: 2.8547e-04 - val_loss: 3.1015e-04 - val_acc: 0.0000e+00\n",
      "Epoch 63/300\n",
      "3503/3503 [==============================] - 0s - loss: 5.0339e-04 - acc: 2.8547e-04 - val_loss: 3.6115e-04 - val_acc: 0.0000e+00\n",
      "Epoch 64/300\n",
      "3503/3503 [==============================] - 0s - loss: 5.3499e-04 - acc: 2.8547e-04 - val_loss: 3.1006e-04 - val_acc: 0.0000e+00\n",
      "Epoch 65/300\n",
      "3503/3503 [==============================] - 0s - loss: 5.1257e-04 - acc: 2.8547e-04 - val_loss: 3.0109e-04 - val_acc: 0.0000e+00\n",
      "Epoch 66/300\n",
      "3503/3503 [==============================] - 0s - loss: 4.9342e-04 - acc: 2.8547e-04 - val_loss: 4.6460e-04 - val_acc: 0.0000e+00\n",
      "Epoch 67/300\n",
      "3503/3503 [==============================] - 0s - loss: 5.0226e-04 - acc: 2.8547e-04 - val_loss: 7.2355e-04 - val_acc: 0.0000e+00\n",
      "Epoch 68/300\n",
      "3503/3503 [==============================] - 0s - loss: 5.1100e-04 - acc: 2.8547e-04 - val_loss: 3.1433e-04 - val_acc: 0.0000e+00\n",
      "Epoch 69/300\n",
      "3503/3503 [==============================] - 0s - loss: 5.3987e-04 - acc: 2.8547e-04 - val_loss: 8.9207e-04 - val_acc: 0.0000e+00\n",
      "Epoch 70/300\n",
      "3503/3503 [==============================] - 0s - loss: 5.1622e-04 - acc: 2.8547e-04 - val_loss: 4.0805e-04 - val_acc: 0.0000e+00\n",
      "Epoch 71/300\n",
      "3503/3503 [==============================] - 0s - loss: 5.1558e-04 - acc: 2.8547e-04 - val_loss: 3.9811e-04 - val_acc: 0.0000e+00\n",
      "Epoch 72/300\n",
      "3503/3503 [==============================] - 0s - loss: 4.8228e-04 - acc: 2.8547e-04 - val_loss: 3.0099e-04 - val_acc: 0.0000e+00\n",
      "Epoch 73/300\n",
      "3503/3503 [==============================] - 0s - loss: 5.1141e-04 - acc: 2.8547e-04 - val_loss: 3.0508e-04 - val_acc: 0.0000e+00\n",
      "Epoch 74/300\n",
      "3503/3503 [==============================] - 0s - loss: 5.0890e-04 - acc: 2.8547e-04 - val_loss: 3.0424e-04 - val_acc: 0.0000e+00\n",
      "Epoch 75/300\n",
      "3503/3503 [==============================] - 0s - loss: 4.9143e-04 - acc: 2.8547e-04 - val_loss: 5.0614e-04 - val_acc: 0.0000e+00\n",
      "Epoch 76/300\n",
      "3503/3503 [==============================] - 0s - loss: 4.7632e-04 - acc: 2.8547e-04 - val_loss: 6.4391e-04 - val_acc: 0.0000e+00\n",
      "Epoch 77/300\n",
      "3503/3503 [==============================] - 0s - loss: 4.7179e-04 - acc: 2.8547e-04 - val_loss: 4.8059e-04 - val_acc: 0.0000e+00\n",
      "Epoch 78/300\n",
      "3503/3503 [==============================] - 0s - loss: 5.0495e-04 - acc: 2.8547e-04 - val_loss: 3.3458e-04 - val_acc: 0.0000e+00\n",
      "Epoch 79/300\n",
      "3503/3503 [==============================] - 0s - loss: 4.9243e-04 - acc: 2.8547e-04 - val_loss: 3.0272e-04 - val_acc: 0.0000e+00\n",
      "Epoch 80/300\n",
      "3503/3503 [==============================] - 0s - loss: 4.7994e-04 - acc: 2.8547e-04 - val_loss: 5.9166e-04 - val_acc: 0.0000e+00\n",
      "Epoch 81/300\n",
      "3503/3503 [==============================] - 0s - loss: 4.9080e-04 - acc: 2.8547e-04 - val_loss: 3.7006e-04 - val_acc: 0.0000e+00\n",
      "Epoch 82/300\n",
      "3503/3503 [==============================] - 0s - loss: 4.8043e-04 - acc: 2.8547e-04 - val_loss: 5.4953e-04 - val_acc: 0.0000e+00\n",
      "Epoch 83/300\n",
      "3503/3503 [==============================] - 0s - loss: 4.7633e-04 - acc: 2.8547e-04 - val_loss: 3.1263e-04 - val_acc: 0.0000e+00\n",
      "Epoch 84/300\n",
      "3503/3503 [==============================] - 0s - loss: 4.8367e-04 - acc: 2.8547e-04 - val_loss: 2.9463e-04 - val_acc: 0.0000e+00\n",
      "Epoch 85/300\n",
      "3503/3503 [==============================] - 0s - loss: 4.6668e-04 - acc: 2.8547e-04 - val_loss: 4.4583e-04 - val_acc: 0.0000e+00\n",
      "Epoch 86/300\n",
      "3503/3503 [==============================] - 0s - loss: 4.7961e-04 - acc: 2.8547e-04 - val_loss: 9.0935e-04 - val_acc: 0.0000e+00\n",
      "Epoch 87/300\n",
      "3503/3503 [==============================] - 0s - loss: 5.2343e-04 - acc: 2.8547e-04 - val_loss: 2.9006e-04 - val_acc: 0.0000e+00\n",
      "Epoch 88/300\n",
      "3503/3503 [==============================] - 0s - loss: 4.9341e-04 - acc: 2.8547e-04 - val_loss: 5.1034e-04 - val_acc: 0.0000e+00\n",
      "Epoch 89/300\n",
      "3503/3503 [==============================] - 0s - loss: 4.9509e-04 - acc: 2.8547e-04 - val_loss: 2.8592e-04 - val_acc: 0.0000e+00\n",
      "Epoch 90/300\n",
      "3503/3503 [==============================] - 0s - loss: 5.1080e-04 - acc: 2.8547e-04 - val_loss: 3.4831e-04 - val_acc: 0.0000e+00\n",
      "Epoch 91/300\n",
      "3503/3503 [==============================] - 0s - loss: 4.8083e-04 - acc: 2.8547e-04 - val_loss: 2.7097e-04 - val_acc: 0.0000e+00\n",
      "Epoch 92/300\n",
      "3503/3503 [==============================] - 0s - loss: 4.8653e-04 - acc: 2.8547e-04 - val_loss: 2.9185e-04 - val_acc: 0.0000e+00\n",
      "Epoch 93/300\n",
      "3503/3503 [==============================] - 0s - loss: 4.6851e-04 - acc: 2.8547e-04 - val_loss: 4.5483e-04 - val_acc: 0.0000e+00\n",
      "Epoch 94/300\n",
      "3503/3503 [==============================] - 0s - loss: 4.5649e-04 - acc: 2.8547e-04 - val_loss: 4.7725e-04 - val_acc: 0.0000e+00\n",
      "Epoch 95/300\n",
      "3503/3503 [==============================] - 0s - loss: 4.5119e-04 - acc: 2.8547e-04 - val_loss: 2.9454e-04 - val_acc: 0.0000e+00\n",
      "Epoch 96/300\n",
      "3503/3503 [==============================] - 0s - loss: 4.6647e-04 - acc: 2.8547e-04 - val_loss: 3.4853e-04 - val_acc: 0.0000e+00\n",
      "Epoch 97/300\n",
      "3503/3503 [==============================] - 0s - loss: 4.5840e-04 - acc: 2.8547e-04 - val_loss: 4.6718e-04 - val_acc: 0.0000e+00\n",
      "Epoch 98/300\n",
      "3503/3503 [==============================] - 0s - loss: 4.9229e-04 - acc: 2.8547e-04 - val_loss: 2.8119e-04 - val_acc: 0.0000e+00\n",
      "Epoch 99/300\n",
      "3503/3503 [==============================] - 0s - loss: 4.6105e-04 - acc: 2.8547e-04 - val_loss: 2.7246e-04 - val_acc: 0.0000e+00\n",
      "Epoch 100/300\n",
      "3503/3503 [==============================] - 0s - loss: 4.2636e-04 - acc: 2.8547e-04 - val_loss: 3.7870e-04 - val_acc: 0.0000e+00\n",
      "Epoch 101/300\n",
      "3503/3503 [==============================] - 0s - loss: 4.7315e-04 - acc: 2.8547e-04 - val_loss: 2.6093e-04 - val_acc: 0.0000e+00\n",
      "Epoch 102/300\n",
      "3503/3503 [==============================] - 0s - loss: 4.4777e-04 - acc: 2.8547e-04 - val_loss: 2.6479e-04 - val_acc: 0.0000e+00\n",
      "Epoch 103/300\n",
      "3503/3503 [==============================] - 0s - loss: 4.4240e-04 - acc: 2.8547e-04 - val_loss: 3.3094e-04 - val_acc: 0.0000e+00\n",
      "Epoch 104/300\n",
      "3503/3503 [==============================] - 0s - loss: 4.3996e-04 - acc: 2.8547e-04 - val_loss: 2.8806e-04 - val_acc: 0.0000e+00\n",
      "Epoch 105/300\n",
      "3503/3503 [==============================] - 0s - loss: 4.4522e-04 - acc: 2.8547e-04 - val_loss: 4.7995e-04 - val_acc: 0.0000e+00\n",
      "Epoch 106/300\n",
      "3503/3503 [==============================] - 0s - loss: 4.3468e-04 - acc: 2.8547e-04 - val_loss: 2.5439e-04 - val_acc: 0.0000e+00\n",
      "Epoch 107/300\n",
      "3503/3503 [==============================] - 0s - loss: 4.4773e-04 - acc: 2.8547e-04 - val_loss: 3.7272e-04 - val_acc: 0.0000e+00\n",
      "Epoch 108/300\n",
      "3503/3503 [==============================] - 0s - loss: 4.6042e-04 - acc: 2.8547e-04 - val_loss: 2.4706e-04 - val_acc: 0.0000e+00\n",
      "Epoch 109/300\n",
      "3503/3503 [==============================] - 0s - loss: 4.2806e-04 - acc: 2.8547e-04 - val_loss: 2.4566e-04 - val_acc: 0.0000e+00\n",
      "Epoch 110/300\n",
      "3503/3503 [==============================] - 0s - loss: 4.2704e-04 - acc: 2.8547e-04 - val_loss: 2.6207e-04 - val_acc: 0.0000e+00\n",
      "Epoch 111/300\n",
      "3503/3503 [==============================] - 0s - loss: 4.3331e-04 - acc: 2.8547e-04 - val_loss: 2.4262e-04 - val_acc: 0.0000e+00\n",
      "Epoch 112/300\n",
      "3503/3503 [==============================] - 0s - loss: 4.3089e-04 - acc: 2.8547e-04 - val_loss: 2.5350e-04 - val_acc: 0.0000e+00\n",
      "Epoch 113/300\n",
      "3503/3503 [==============================] - 0s - loss: 4.2262e-04 - acc: 2.8547e-04 - val_loss: 2.4767e-04 - val_acc: 0.0000e+00\n",
      "Epoch 114/300\n",
      "3503/3503 [==============================] - 0s - loss: 4.5033e-04 - acc: 2.8547e-04 - val_loss: 3.3053e-04 - val_acc: 0.0000e+00\n",
      "Epoch 115/300\n",
      "3503/3503 [==============================] - 0s - loss: 4.3729e-04 - acc: 2.8547e-04 - val_loss: 2.4169e-04 - val_acc: 0.0000e+00\n",
      "Epoch 116/300\n"
     ]
    },
    {
     "name": "stdout",
     "output_type": "stream",
     "text": [
      "3503/3503 [==============================] - 0s - loss: 4.3620e-04 - acc: 2.8547e-04 - val_loss: 3.5923e-04 - val_acc: 0.0000e+00\n",
      "Epoch 117/300\n",
      "3503/3503 [==============================] - 0s - loss: 4.3679e-04 - acc: 2.8547e-04 - val_loss: 2.3922e-04 - val_acc: 0.0000e+00\n",
      "Epoch 118/300\n",
      "3503/3503 [==============================] - 0s - loss: 4.3562e-04 - acc: 2.8547e-04 - val_loss: 5.3297e-04 - val_acc: 0.0000e+00\n",
      "Epoch 119/300\n",
      "3503/3503 [==============================] - 0s - loss: 4.5447e-04 - acc: 2.8547e-04 - val_loss: 2.6241e-04 - val_acc: 0.0000e+00\n",
      "Epoch 120/300\n",
      "3503/3503 [==============================] - 0s - loss: 4.4328e-04 - acc: 2.8547e-04 - val_loss: 2.4091e-04 - val_acc: 0.0000e+00\n",
      "Epoch 121/300\n",
      "3503/3503 [==============================] - 0s - loss: 4.1267e-04 - acc: 2.8547e-04 - val_loss: 4.5189e-04 - val_acc: 0.0000e+00\n",
      "Epoch 122/300\n",
      "3503/3503 [==============================] - 0s - loss: 4.4299e-04 - acc: 2.8547e-04 - val_loss: 2.2952e-04 - val_acc: 0.0000e+00\n",
      "Epoch 123/300\n",
      "3503/3503 [==============================] - 0s - loss: 4.6321e-04 - acc: 2.8547e-04 - val_loss: 4.2587e-04 - val_acc: 0.0000e+00\n",
      "Epoch 124/300\n",
      "3503/3503 [==============================] - 0s - loss: 4.6882e-04 - acc: 2.8547e-04 - val_loss: 2.2649e-04 - val_acc: 0.0000e+00\n",
      "Epoch 125/300\n",
      "3503/3503 [==============================] - 0s - loss: 4.2506e-04 - acc: 2.8547e-04 - val_loss: 2.7813e-04 - val_acc: 0.0000e+00\n",
      "Epoch 126/300\n",
      "3503/3503 [==============================] - 0s - loss: 4.1326e-04 - acc: 2.8547e-04 - val_loss: 2.2510e-04 - val_acc: 0.0000e+00\n",
      "Epoch 127/300\n",
      "3503/3503 [==============================] - 0s - loss: 4.2401e-04 - acc: 2.8547e-04 - val_loss: 2.2399e-04 - val_acc: 0.0000e+00\n",
      "Epoch 128/300\n",
      "3503/3503 [==============================] - 0s - loss: 3.8983e-04 - acc: 2.8547e-04 - val_loss: 2.4341e-04 - val_acc: 0.0000e+00\n",
      "Epoch 129/300\n",
      "3503/3503 [==============================] - 0s - loss: 3.9282e-04 - acc: 2.8547e-04 - val_loss: 2.2131e-04 - val_acc: 0.0000e+00\n",
      "Epoch 130/300\n",
      "3503/3503 [==============================] - 0s - loss: 4.2431e-04 - acc: 2.8547e-04 - val_loss: 3.7383e-04 - val_acc: 0.0000e+00\n",
      "Epoch 131/300\n",
      "3503/3503 [==============================] - 0s - loss: 4.1758e-04 - acc: 2.8547e-04 - val_loss: 4.4550e-04 - val_acc: 0.0000e+00\n",
      "Epoch 132/300\n",
      "3503/3503 [==============================] - 0s - loss: 4.2862e-04 - acc: 2.8547e-04 - val_loss: 3.5634e-04 - val_acc: 0.0000e+00\n",
      "Epoch 133/300\n",
      "3503/3503 [==============================] - 0s - loss: 4.2487e-04 - acc: 2.8547e-04 - val_loss: 2.5490e-04 - val_acc: 0.0000e+00\n",
      "Epoch 134/300\n",
      "3503/3503 [==============================] - 0s - loss: 4.0590e-04 - acc: 2.8547e-04 - val_loss: 2.1159e-04 - val_acc: 0.0000e+00\n",
      "Epoch 135/300\n",
      "3503/3503 [==============================] - 0s - loss: 3.9486e-04 - acc: 2.8547e-04 - val_loss: 3.0222e-04 - val_acc: 0.0000e+00\n",
      "Epoch 136/300\n",
      "3503/3503 [==============================] - 0s - loss: 3.9963e-04 - acc: 2.8547e-04 - val_loss: 2.2312e-04 - val_acc: 0.0000e+00\n",
      "Epoch 137/300\n",
      "3503/3503 [==============================] - 0s - loss: 4.3145e-04 - acc: 2.8547e-04 - val_loss: 3.6384e-04 - val_acc: 0.0000e+00\n",
      "Epoch 138/300\n",
      "3503/3503 [==============================] - 0s - loss: 4.4217e-04 - acc: 2.8547e-04 - val_loss: 5.4066e-04 - val_acc: 0.0000e+00\n",
      "Epoch 139/300\n",
      "3503/3503 [==============================] - 0s - loss: 4.2691e-04 - acc: 2.8547e-04 - val_loss: 2.0605e-04 - val_acc: 0.0000e+00\n",
      "Epoch 140/300\n",
      "3503/3503 [==============================] - 0s - loss: 4.0316e-04 - acc: 2.8547e-04 - val_loss: 3.9807e-04 - val_acc: 0.0000e+00\n",
      "Epoch 141/300\n",
      "3503/3503 [==============================] - 0s - loss: 4.0195e-04 - acc: 2.8547e-04 - val_loss: 2.0371e-04 - val_acc: 0.0000e+00\n",
      "Epoch 142/300\n",
      "3503/3503 [==============================] - 0s - loss: 4.0196e-04 - acc: 2.8547e-04 - val_loss: 2.7148e-04 - val_acc: 0.0000e+00\n",
      "Epoch 143/300\n",
      "3503/3503 [==============================] - 0s - loss: 3.9335e-04 - acc: 2.8547e-04 - val_loss: 3.4703e-04 - val_acc: 0.0000e+00\n",
      "Epoch 144/300\n",
      "3503/3503 [==============================] - 0s - loss: 3.9699e-04 - acc: 2.8547e-04 - val_loss: 1.9880e-04 - val_acc: 0.0000e+00\n",
      "Epoch 145/300\n",
      "3503/3503 [==============================] - 0s - loss: 3.8690e-04 - acc: 2.8547e-04 - val_loss: 2.1462e-04 - val_acc: 0.0000e+00\n",
      "Epoch 146/300\n",
      "3503/3503 [==============================] - 0s - loss: 4.0147e-04 - acc: 2.8547e-04 - val_loss: 1.9973e-04 - val_acc: 0.0000e+00\n",
      "Epoch 147/300\n",
      "3503/3503 [==============================] - 0s - loss: 4.0424e-04 - acc: 2.8547e-04 - val_loss: 2.0565e-04 - val_acc: 0.0000e+00\n",
      "Epoch 148/300\n",
      "3503/3503 [==============================] - 0s - loss: 3.8825e-04 - acc: 2.8547e-04 - val_loss: 2.0244e-04 - val_acc: 0.0000e+00\n",
      "Epoch 149/300\n",
      "3503/3503 [==============================] - 0s - loss: 3.8462e-04 - acc: 2.8547e-04 - val_loss: 2.5087e-04 - val_acc: 0.0000e+00\n",
      "Epoch 150/300\n",
      "3503/3503 [==============================] - 0s - loss: 3.8146e-04 - acc: 2.8547e-04 - val_loss: 2.0078e-04 - val_acc: 0.0000e+00\n",
      "Epoch 151/300\n",
      "3503/3503 [==============================] - 0s - loss: 3.7704e-04 - acc: 2.8547e-04 - val_loss: 1.9078e-04 - val_acc: 0.0000e+00\n",
      "Epoch 152/300\n",
      "3503/3503 [==============================] - 0s - loss: 3.9728e-04 - acc: 2.8547e-04 - val_loss: 3.8976e-04 - val_acc: 0.0000e+00\n",
      "Epoch 153/300\n",
      "3503/3503 [==============================] - 0s - loss: 4.1044e-04 - acc: 2.8547e-04 - val_loss: 1.9514e-04 - val_acc: 0.0000e+00\n",
      "Epoch 154/300\n",
      "3503/3503 [==============================] - 0s - loss: 3.8759e-04 - acc: 2.8547e-04 - val_loss: 3.8417e-04 - val_acc: 0.0000e+00\n",
      "Epoch 155/300\n",
      "3503/3503 [==============================] - 0s - loss: 3.6765e-04 - acc: 2.8547e-04 - val_loss: 2.0466e-04 - val_acc: 0.0000e+000\n",
      "Epoch 156/300\n",
      "3503/3503 [==============================] - 0s - loss: 3.7341e-04 - acc: 2.8547e-04 - val_loss: 2.0470e-04 - val_acc: 0.0000e+00\n",
      "Epoch 157/300\n",
      "3503/3503 [==============================] - 0s - loss: 3.9751e-04 - acc: 2.8547e-04 - val_loss: 3.7207e-04 - val_acc: 0.0000e+00\n",
      "Epoch 158/300\n",
      "3503/3503 [==============================] - 0s - loss: 3.8050e-04 - acc: 2.8547e-04 - val_loss: 2.1710e-04 - val_acc: 0.0000e+00\n",
      "Epoch 159/300\n",
      "3503/3503 [==============================] - 0s - loss: 3.9428e-04 - acc: 2.8547e-04 - val_loss: 1.8836e-04 - val_acc: 0.0000e+00\n",
      "Epoch 160/300\n",
      "3503/3503 [==============================] - 0s - loss: 4.0282e-04 - acc: 2.8547e-04 - val_loss: 5.8475e-04 - val_acc: 0.0000e+00\n",
      "Epoch 161/300\n",
      "3503/3503 [==============================] - 0s - loss: 4.0082e-04 - acc: 2.8547e-04 - val_loss: 2.1320e-04 - val_acc: 0.0000e+00\n",
      "Epoch 162/300\n",
      "3503/3503 [==============================] - 0s - loss: 3.9789e-04 - acc: 2.8547e-04 - val_loss: 2.1059e-04 - val_acc: 0.0000e+00\n",
      "Epoch 163/300\n",
      "3503/3503 [==============================] - 0s - loss: 3.8104e-04 - acc: 2.8547e-04 - val_loss: 2.1325e-04 - val_acc: 0.0000e+00\n",
      "Epoch 164/300\n",
      "3503/3503 [==============================] - 0s - loss: 3.6030e-04 - acc: 2.8547e-04 - val_loss: 1.8260e-04 - val_acc: 0.0000e+00\n",
      "Epoch 165/300\n",
      "3503/3503 [==============================] - 0s - loss: 3.7465e-04 - acc: 2.8547e-04 - val_loss: 1.8115e-04 - val_acc: 0.0000e+00\n",
      "Epoch 166/300\n",
      "3503/3503 [==============================] - 0s - loss: 3.7316e-04 - acc: 2.8547e-04 - val_loss: 2.6753e-04 - val_acc: 0.0000e+00\n",
      "Epoch 167/300\n",
      "3503/3503 [==============================] - 0s - loss: 3.7236e-04 - acc: 2.8547e-04 - val_loss: 2.3111e-04 - val_acc: 0.0000e+00\n",
      "Epoch 168/300\n",
      "3503/3503 [==============================] - 0s - loss: 3.8333e-04 - acc: 2.8547e-04 - val_loss: 3.0059e-04 - val_acc: 0.0000e+00\n",
      "Epoch 169/300\n",
      "3503/3503 [==============================] - 0s - loss: 3.7699e-04 - acc: 2.8547e-04 - val_loss: 3.9956e-04 - val_acc: 0.0000e+00\n",
      "Epoch 170/300\n",
      "3503/3503 [==============================] - 0s - loss: 3.8975e-04 - acc: 2.8547e-04 - val_loss: 4.9918e-04 - val_acc: 0.0000e+00\n",
      "Epoch 171/300\n",
      "3503/3503 [==============================] - 0s - loss: 3.6818e-04 - acc: 2.8547e-04 - val_loss: 1.8115e-04 - val_acc: 0.0000e+00\n",
      "Epoch 172/300\n"
     ]
    },
    {
     "name": "stdout",
     "output_type": "stream",
     "text": [
      "3503/3503 [==============================] - 0s - loss: 3.5527e-04 - acc: 2.8547e-04 - val_loss: 1.8214e-04 - val_acc: 0.0000e+00\n",
      "Epoch 173/300\n",
      "3503/3503 [==============================] - 0s - loss: 3.4020e-04 - acc: 2.8547e-04 - val_loss: 1.7621e-04 - val_acc: 0.0000e+00\n",
      "Epoch 174/300\n",
      "3503/3503 [==============================] - 0s - loss: 3.7518e-04 - acc: 2.8547e-04 - val_loss: 2.1282e-04 - val_acc: 0.0000e+00\n",
      "Epoch 175/300\n",
      "3503/3503 [==============================] - 0s - loss: 4.0309e-04 - acc: 2.8547e-04 - val_loss: 2.0048e-04 - val_acc: 0.0000e+00\n",
      "Epoch 176/300\n",
      "3503/3503 [==============================] - 0s - loss: 4.0253e-04 - acc: 2.8547e-04 - val_loss: 2.5620e-04 - val_acc: 0.0000e+00\n",
      "Epoch 177/300\n",
      "3503/3503 [==============================] - 0s - loss: 3.7034e-04 - acc: 2.8547e-04 - val_loss: 1.7619e-04 - val_acc: 0.0000e+00\n",
      "Epoch 178/300\n",
      "3503/3503 [==============================] - 0s - loss: 3.5164e-04 - acc: 2.8547e-04 - val_loss: 1.7578e-04 - val_acc: 0.0000e+00\n",
      "Epoch 179/300\n",
      "3503/3503 [==============================] - 0s - loss: 3.5120e-04 - acc: 2.8547e-04 - val_loss: 1.7400e-04 - val_acc: 0.0000e+00\n",
      "Epoch 180/300\n",
      "3503/3503 [==============================] - 0s - loss: 3.5222e-04 - acc: 2.8547e-04 - val_loss: 1.7788e-04 - val_acc: 0.0000e+00\n",
      "Epoch 181/300\n",
      "3503/3503 [==============================] - 0s - loss: 3.4763e-04 - acc: 2.8547e-04 - val_loss: 2.0088e-04 - val_acc: 0.0000e+00\n",
      "Epoch 182/300\n",
      "3503/3503 [==============================] - 0s - loss: 3.4384e-04 - acc: 2.8547e-04 - val_loss: 1.7415e-04 - val_acc: 0.0000e+00\n",
      "Epoch 183/300\n",
      "3503/3503 [==============================] - 0s - loss: 3.5059e-04 - acc: 2.8547e-04 - val_loss: 1.9721e-04 - val_acc: 0.0000e+00\n",
      "Epoch 184/300\n",
      "3503/3503 [==============================] - 0s - loss: 3.7175e-04 - acc: 2.8547e-04 - val_loss: 2.5708e-04 - val_acc: 0.0000e+00\n",
      "Epoch 185/300\n",
      "3503/3503 [==============================] - 0s - loss: 3.6818e-04 - acc: 2.8547e-04 - val_loss: 2.3133e-04 - val_acc: 0.0000e+00\n",
      "Epoch 186/300\n",
      "3503/3503 [==============================] - 0s - loss: 3.6342e-04 - acc: 2.8547e-04 - val_loss: 1.7937e-04 - val_acc: 0.0000e+00\n",
      "Epoch 187/300\n",
      "3503/3503 [==============================] - 0s - loss: 3.5411e-04 - acc: 2.8547e-04 - val_loss: 2.0684e-04 - val_acc: 0.0000e+00\n",
      "Epoch 188/300\n",
      "3503/3503 [==============================] - 0s - loss: 3.4814e-04 - acc: 2.8547e-04 - val_loss: 1.8100e-04 - val_acc: 0.0000e+00\n",
      "Epoch 189/300\n",
      "3503/3503 [==============================] - 0s - loss: 3.7541e-04 - acc: 2.8547e-04 - val_loss: 1.6885e-04 - val_acc: 0.0000e+00\n",
      "Epoch 190/300\n",
      "3503/3503 [==============================] - 0s - loss: 3.6971e-04 - acc: 2.8547e-04 - val_loss: 1.6837e-04 - val_acc: 0.0000e+00\n",
      "Epoch 191/300\n",
      "3503/3503 [==============================] - 0s - loss: 3.8479e-04 - acc: 2.8547e-04 - val_loss: 3.9569e-04 - val_acc: 0.0000e+00\n",
      "Epoch 192/300\n",
      "3503/3503 [==============================] - 0s - loss: 3.4720e-04 - acc: 2.8547e-04 - val_loss: 1.7693e-04 - val_acc: 0.0000e+00\n",
      "Epoch 193/300\n",
      "3503/3503 [==============================] - 0s - loss: 3.4311e-04 - acc: 2.8547e-04 - val_loss: 2.6007e-04 - val_acc: 0.0000e+00\n",
      "Epoch 194/300\n",
      "3503/3503 [==============================] - 0s - loss: 3.4521e-04 - acc: 2.8547e-04 - val_loss: 2.4472e-04 - val_acc: 0.0000e+00\n",
      "Epoch 195/300\n",
      "3503/3503 [==============================] - 0s - loss: 3.4913e-04 - acc: 2.8547e-04 - val_loss: 1.8440e-04 - val_acc: 0.0000e+00\n",
      "Epoch 196/300\n",
      "3503/3503 [==============================] - 0s - loss: 3.6239e-04 - acc: 2.8547e-04 - val_loss: 1.7051e-04 - val_acc: 0.0000e+00\n",
      "Epoch 197/300\n",
      "3503/3503 [==============================] - 0s - loss: 3.5433e-04 - acc: 2.8547e-04 - val_loss: 1.6905e-04 - val_acc: 0.0000e+00\n",
      "Epoch 198/300\n",
      "3503/3503 [==============================] - 0s - loss: 3.2784e-04 - acc: 2.8547e-04 - val_loss: 2.4745e-04 - val_acc: 0.0000e+00\n",
      "Epoch 199/300\n",
      "3503/3503 [==============================] - 0s - loss: 3.3660e-04 - acc: 2.8547e-04 - val_loss: 1.9864e-04 - val_acc: 0.0000e+00\n",
      "Epoch 200/300\n",
      "3503/3503 [==============================] - 0s - loss: 3.5096e-04 - acc: 2.8547e-04 - val_loss: 2.0084e-04 - val_acc: 0.0000e+00\n",
      "Epoch 201/300\n",
      "3503/3503 [==============================] - 0s - loss: 3.1477e-04 - acc: 2.8547e-04 - val_loss: 1.6764e-04 - val_acc: 0.0000e+00\n",
      "Epoch 202/300\n",
      "3503/3503 [==============================] - 0s - loss: 3.2246e-04 - acc: 2.8547e-04 - val_loss: 1.8978e-04 - val_acc: 0.0000e+00\n",
      "Epoch 203/300\n",
      "3503/3503 [==============================] - 0s - loss: 3.2441e-04 - acc: 2.8547e-04 - val_loss: 2.4586e-04 - val_acc: 0.0000e+00\n",
      "Epoch 204/300\n",
      "3503/3503 [==============================] - 0s - loss: 3.3486e-04 - acc: 2.8547e-04 - val_loss: 1.6183e-04 - val_acc: 0.0000e+00\n",
      "Epoch 205/300\n",
      "3503/3503 [==============================] - 0s - loss: 3.2412e-04 - acc: 2.8547e-04 - val_loss: 1.6176e-04 - val_acc: 0.0000e+00\n",
      "Epoch 206/300\n",
      "3503/3503 [==============================] - 0s - loss: 3.2595e-04 - acc: 2.8547e-04 - val_loss: 1.5965e-04 - val_acc: 0.0000e+00\n",
      "Epoch 207/300\n",
      "3503/3503 [==============================] - 0s - loss: 3.2105e-04 - acc: 2.8547e-04 - val_loss: 3.6835e-04 - val_acc: 0.0000e+00\n",
      "Epoch 208/300\n",
      "3503/3503 [==============================] - 0s - loss: 3.2204e-04 - acc: 2.8547e-04 - val_loss: 2.4040e-04 - val_acc: 0.0000e+00\n",
      "Epoch 209/300\n",
      "3503/3503 [==============================] - 0s - loss: 3.2262e-04 - acc: 2.8547e-04 - val_loss: 3.2031e-04 - val_acc: 0.0000e+00\n",
      "Epoch 210/300\n",
      "3503/3503 [==============================] - 0s - loss: 3.2495e-04 - acc: 2.8547e-04 - val_loss: 2.4026e-04 - val_acc: 0.0000e+00\n",
      "Epoch 211/300\n",
      "3503/3503 [==============================] - 0s - loss: 3.1569e-04 - acc: 2.8547e-04 - val_loss: 1.6416e-04 - val_acc: 0.0000e+00\n",
      "Epoch 212/300\n",
      "3503/3503 [==============================] - 0s - loss: 3.3261e-04 - acc: 2.8547e-04 - val_loss: 1.6318e-04 - val_acc: 0.0000e+00\n",
      "Epoch 213/300\n",
      "3503/3503 [==============================] - 0s - loss: 3.2618e-04 - acc: 2.8547e-04 - val_loss: 2.2479e-04 - val_acc: 0.0000e+00\n",
      "Epoch 214/300\n",
      "3503/3503 [==============================] - 0s - loss: 3.1116e-04 - acc: 2.8547e-04 - val_loss: 1.6623e-04 - val_acc: 0.0000e+00\n",
      "Epoch 215/300\n",
      "3503/3503 [==============================] - 0s - loss: 3.1621e-04 - acc: 2.8547e-04 - val_loss: 1.8280e-04 - val_acc: 0.0000e+00\n",
      "Epoch 216/300\n",
      "3503/3503 [==============================] - 0s - loss: 3.1037e-04 - acc: 2.8547e-04 - val_loss: 1.6485e-04 - val_acc: 0.0000e+00\n",
      "Epoch 217/300\n",
      "3503/3503 [==============================] - 0s - loss: 3.0984e-04 - acc: 2.8547e-04 - val_loss: 1.6101e-04 - val_acc: 0.0000e+00\n",
      "Epoch 218/300\n",
      "3503/3503 [==============================] - 0s - loss: 3.0583e-04 - acc: 2.8547e-04 - val_loss: 2.0456e-04 - val_acc: 0.0000e+00\n",
      "Epoch 219/300\n",
      "3503/3503 [==============================] - 0s - loss: 3.0855e-04 - acc: 2.8547e-04 - val_loss: 2.7505e-04 - val_acc: 0.0000e+00\n",
      "Epoch 220/300\n",
      "3503/3503 [==============================] - 0s - loss: 3.2093e-04 - acc: 2.8547e-04 - val_loss: 1.7242e-04 - val_acc: 0.0000e+00\n",
      "Epoch 221/300\n",
      "3503/3503 [==============================] - 0s - loss: 2.9840e-04 - acc: 2.8547e-04 - val_loss: 1.7123e-04 - val_acc: 0.0000e+00\n",
      "Epoch 222/300\n",
      "3503/3503 [==============================] - 0s - loss: 3.0911e-04 - acc: 2.8547e-04 - val_loss: 1.5174e-04 - val_acc: 0.0000e+00\n",
      "Epoch 223/300\n",
      "3503/3503 [==============================] - 0s - loss: 3.0442e-04 - acc: 2.8547e-04 - val_loss: 1.6724e-04 - val_acc: 0.0000e+00\n",
      "Epoch 224/300\n",
      "3503/3503 [==============================] - 0s - loss: 2.9805e-04 - acc: 2.8547e-04 - val_loss: 3.8939e-04 - val_acc: 0.0000e+00\n",
      "Epoch 225/300\n",
      "3503/3503 [==============================] - 0s - loss: 3.0731e-04 - acc: 2.8547e-04 - val_loss: 2.0869e-04 - val_acc: 0.0000e+00\n",
      "Epoch 226/300\n",
      "3503/3503 [==============================] - 0s - loss: 3.2247e-04 - acc: 2.8547e-04 - val_loss: 1.5068e-04 - val_acc: 0.0000e+00\n",
      "Epoch 227/300\n",
      "3503/3503 [==============================] - 0s - loss: 2.9679e-04 - acc: 2.8547e-04 - val_loss: 2.2407e-04 - val_acc: 0.0000e+00\n",
      "Epoch 228/300\n"
     ]
    },
    {
     "name": "stdout",
     "output_type": "stream",
     "text": [
      "3503/3503 [==============================] - 0s - loss: 2.9086e-04 - acc: 2.8547e-04 - val_loss: 1.8242e-04 - val_acc: 0.0000e+00\n",
      "Epoch 229/300\n",
      "3503/3503 [==============================] - 0s - loss: 3.0754e-04 - acc: 2.8547e-04 - val_loss: 1.6409e-04 - val_acc: 0.0000e+00\n",
      "Epoch 230/300\n",
      "3503/3503 [==============================] - 0s - loss: 3.0845e-04 - acc: 2.8547e-04 - val_loss: 1.7709e-04 - val_acc: 0.0000e+00\n",
      "Epoch 231/300\n",
      "3503/3503 [==============================] - 0s - loss: 2.9988e-04 - acc: 2.8547e-04 - val_loss: 2.5554e-04 - val_acc: 0.0000e+00\n",
      "Epoch 232/300\n",
      "3503/3503 [==============================] - 0s - loss: 2.9273e-04 - acc: 2.8547e-04 - val_loss: 1.6786e-04 - val_acc: 0.0000e+00\n",
      "Epoch 233/300\n",
      "3503/3503 [==============================] - 0s - loss: 2.9139e-04 - acc: 2.8547e-04 - val_loss: 1.6437e-04 - val_acc: 0.0000e+00\n",
      "Epoch 234/300\n",
      "3503/3503 [==============================] - 0s - loss: 2.8904e-04 - acc: 2.8547e-04 - val_loss: 2.4910e-04 - val_acc: 0.0000e+00\n",
      "Epoch 235/300\n",
      "3503/3503 [==============================] - 0s - loss: 2.8393e-04 - acc: 2.8547e-04 - val_loss: 1.5045e-04 - val_acc: 0.0000e+00\n",
      "Epoch 236/300\n",
      "3503/3503 [==============================] - 0s - loss: 2.8027e-04 - acc: 2.8547e-04 - val_loss: 1.5007e-04 - val_acc: 0.0000e+00\n",
      "Epoch 237/300\n",
      "3503/3503 [==============================] - 0s - loss: 2.8999e-04 - acc: 2.8547e-04 - val_loss: 2.0831e-04 - val_acc: 0.0000e+00\n",
      "Epoch 238/300\n",
      "3503/3503 [==============================] - 0s - loss: 2.7816e-04 - acc: 2.8547e-04 - val_loss: 1.7801e-04 - val_acc: 0.0000e+00\n",
      "Epoch 239/300\n",
      "3503/3503 [==============================] - 0s - loss: 2.9734e-04 - acc: 2.8547e-04 - val_loss: 1.5620e-04 - val_acc: 0.0000e+00\n",
      "Epoch 240/300\n",
      "3503/3503 [==============================] - 0s - loss: 2.9029e-04 - acc: 2.8547e-04 - val_loss: 1.4070e-04 - val_acc: 0.0000e+00\n",
      "Epoch 241/300\n",
      "3503/3503 [==============================] - 0s - loss: 2.8246e-04 - acc: 2.8547e-04 - val_loss: 1.5195e-04 - val_acc: 0.0000e+00\n",
      "Epoch 242/300\n",
      "3503/3503 [==============================] - 0s - loss: 2.7379e-04 - acc: 2.8547e-04 - val_loss: 1.5519e-04 - val_acc: 0.0000e+00\n",
      "Epoch 243/300\n",
      "3503/3503 [==============================] - 0s - loss: 2.8313e-04 - acc: 2.8547e-04 - val_loss: 1.8051e-04 - val_acc: 0.0000e+00\n",
      "Epoch 244/300\n",
      "3503/3503 [==============================] - 0s - loss: 2.8706e-04 - acc: 2.8547e-04 - val_loss: 1.4349e-04 - val_acc: 0.0000e+00\n",
      "Epoch 245/300\n",
      "3503/3503 [==============================] - 0s - loss: 2.9765e-04 - acc: 2.8547e-04 - val_loss: 3.0192e-04 - val_acc: 0.0000e+00\n",
      "Epoch 246/300\n",
      "3503/3503 [==============================] - 0s - loss: 3.0218e-04 - acc: 2.8547e-04 - val_loss: 2.1842e-04 - val_acc: 0.0000e+00\n",
      "Epoch 247/300\n",
      "3503/3503 [==============================] - 0s - loss: 2.8431e-04 - acc: 2.8547e-04 - val_loss: 2.4533e-04 - val_acc: 0.0000e+0052e-0\n",
      "Epoch 248/300\n",
      "3503/3503 [==============================] - 0s - loss: 2.8562e-04 - acc: 2.8547e-04 - val_loss: 1.6357e-04 - val_acc: 0.0000e+00\n",
      "Epoch 249/300\n",
      "3503/3503 [==============================] - 0s - loss: 2.7180e-04 - acc: 2.8547e-04 - val_loss: 1.3951e-04 - val_acc: 0.0000e+00\n",
      "Epoch 250/300\n",
      "3503/3503 [==============================] - 0s - loss: 2.7520e-04 - acc: 2.8547e-04 - val_loss: 1.4201e-04 - val_acc: 0.0000e+00\n",
      "Epoch 251/300\n",
      "3503/3503 [==============================] - 0s - loss: 2.6876e-04 - acc: 2.8547e-04 - val_loss: 1.3332e-04 - val_acc: 0.0000e+00\n",
      "Epoch 252/300\n",
      "3503/3503 [==============================] - 0s - loss: 2.7292e-04 - acc: 2.8547e-04 - val_loss: 1.4040e-04 - val_acc: 0.0000e+00\n",
      "Epoch 253/300\n",
      "3503/3503 [==============================] - 0s - loss: 2.7372e-04 - acc: 2.8547e-04 - val_loss: 2.0066e-04 - val_acc: 0.0000e+00\n",
      "Epoch 254/300\n",
      "3503/3503 [==============================] - 0s - loss: 2.6861e-04 - acc: 2.8547e-04 - val_loss: 1.5684e-04 - val_acc: 0.0000e+00\n",
      "Epoch 255/300\n",
      "3503/3503 [==============================] - 0s - loss: 2.6298e-04 - acc: 2.8547e-04 - val_loss: 1.6033e-04 - val_acc: 0.0000e+00\n",
      "Epoch 256/300\n",
      "3503/3503 [==============================] - 0s - loss: 2.7995e-04 - acc: 2.8547e-04 - val_loss: 3.3052e-04 - val_acc: 0.0000e+00\n",
      "Epoch 257/300\n",
      "3503/3503 [==============================] - 0s - loss: 2.8176e-04 - acc: 2.8547e-04 - val_loss: 1.6068e-04 - val_acc: 0.0000e+00\n",
      "Epoch 258/300\n",
      "3503/3503 [==============================] - 0s - loss: 2.6430e-04 - acc: 2.8547e-04 - val_loss: 1.5472e-04 - val_acc: 0.0000e+00\n",
      "Epoch 259/300\n",
      "3503/3503 [==============================] - 0s - loss: 2.7105e-04 - acc: 2.8547e-04 - val_loss: 2.6254e-04 - val_acc: 0.0000e+00\n",
      "Epoch 260/300\n",
      "3503/3503 [==============================] - 0s - loss: 2.8236e-04 - acc: 2.8547e-04 - val_loss: 1.6417e-04 - val_acc: 0.0000e+00\n",
      "Epoch 261/300\n",
      "3503/3503 [==============================] - 0s - loss: 2.6778e-04 - acc: 2.8547e-04 - val_loss: 1.5327e-04 - val_acc: 0.0000e+00\n",
      "Epoch 262/300\n",
      "3503/3503 [==============================] - 0s - loss: 2.5940e-04 - acc: 2.8547e-04 - val_loss: 1.5691e-04 - val_acc: 0.0000e+00\n",
      "Epoch 263/300\n",
      "3503/3503 [==============================] - 0s - loss: 2.6470e-04 - acc: 2.8547e-04 - val_loss: 1.4477e-04 - val_acc: 0.0000e+00\n",
      "Epoch 264/300\n",
      "3503/3503 [==============================] - 0s - loss: 2.5752e-04 - acc: 2.8547e-04 - val_loss: 1.5500e-04 - val_acc: 0.0000e+00\n",
      "Epoch 265/300\n",
      "3503/3503 [==============================] - 0s - loss: 2.5456e-04 - acc: 2.8547e-04 - val_loss: 1.3757e-04 - val_acc: 0.0000e+00\n",
      "Epoch 266/300\n",
      "3503/3503 [==============================] - 0s - loss: 2.6919e-04 - acc: 2.8547e-04 - val_loss: 1.5600e-04 - val_acc: 0.0000e+00\n",
      "Epoch 267/300\n",
      "3503/3503 [==============================] - 0s - loss: 2.6878e-04 - acc: 2.8547e-04 - val_loss: 1.2835e-04 - val_acc: 0.0000e+00\n",
      "Epoch 268/300\n",
      "3503/3503 [==============================] - 0s - loss: 2.5625e-04 - acc: 2.8547e-04 - val_loss: 1.7439e-04 - val_acc: 0.0000e+00\n",
      "Epoch 269/300\n",
      "3503/3503 [==============================] - 0s - loss: 2.4446e-04 - acc: 2.8547e-04 - val_loss: 2.2969e-04 - val_acc: 0.0000e+00\n",
      "Epoch 270/300\n",
      "3503/3503 [==============================] - 0s - loss: 2.5551e-04 - acc: 2.8547e-04 - val_loss: 2.0707e-04 - val_acc: 0.0000e+00\n",
      "Epoch 271/300\n",
      "3503/3503 [==============================] - 0s - loss: 2.7208e-04 - acc: 2.8547e-04 - val_loss: 3.3513e-04 - val_acc: 0.0000e+00\n",
      "Epoch 272/300\n",
      "3503/3503 [==============================] - 0s - loss: 2.5297e-04 - acc: 2.8547e-04 - val_loss: 1.5732e-04 - val_acc: 0.0000e+00\n",
      "Epoch 273/300\n",
      "3503/3503 [==============================] - 0s - loss: 2.4258e-04 - acc: 2.8547e-04 - val_loss: 1.3054e-04 - val_acc: 0.0000e+00\n",
      "Epoch 274/300\n",
      "3503/3503 [==============================] - 0s - loss: 2.5710e-04 - acc: 2.8547e-04 - val_loss: 1.5448e-04 - val_acc: 0.0000e+00\n",
      "Epoch 275/300\n",
      "3503/3503 [==============================] - 0s - loss: 2.4749e-04 - acc: 2.8547e-04 - val_loss: 1.7689e-04 - val_acc: 0.0000e+00\n",
      "Epoch 276/300\n",
      "3503/3503 [==============================] - 0s - loss: 2.4208e-04 - acc: 2.8547e-04 - val_loss: 3.7970e-04 - val_acc: 0.0000e+00\n",
      "Epoch 277/300\n",
      "3503/3503 [==============================] - 0s - loss: 2.5487e-04 - acc: 2.8547e-04 - val_loss: 2.2111e-04 - val_acc: 0.0000e+00\n",
      "Epoch 278/300\n",
      "3503/3503 [==============================] - 0s - loss: 2.4953e-04 - acc: 2.8547e-04 - val_loss: 1.4199e-04 - val_acc: 0.0000e+00\n",
      "Epoch 279/300\n",
      "3503/3503 [==============================] - 0s - loss: 2.4438e-04 - acc: 2.8547e-04 - val_loss: 3.5408e-04 - val_acc: 0.0000e+00\n",
      "Epoch 280/300\n",
      "3503/3503 [==============================] - 0s - loss: 2.6192e-04 - acc: 2.8547e-04 - val_loss: 1.4235e-04 - val_acc: 0.0000e+00\n",
      "Epoch 281/300\n",
      "3503/3503 [==============================] - ETA: 0s - loss: 2.6093e-04 - acc: 3.2552e-0 - 0s - loss: 2.6412e-04 - acc: 2.8547e-04 - val_loss: 1.4770e-04 - val_acc: 0.0000e+00\n",
      "Epoch 282/300\n",
      "3503/3503 [==============================] - 0s - loss: 2.6339e-04 - acc: 2.8547e-04 - val_loss: 4.8021e-04 - val_acc: 0.0000e+00\n",
      "Epoch 283/300\n",
      "3503/3503 [==============================] - 0s - loss: 2.6024e-04 - acc: 2.8547e-04 - val_loss: 1.7789e-04 - val_acc: 0.0000e+00\n",
      "Epoch 284/300\n"
     ]
    },
    {
     "name": "stdout",
     "output_type": "stream",
     "text": [
      "3503/3503 [==============================] - 0s - loss: 2.4710e-04 - acc: 2.8547e-04 - val_loss: 2.2273e-04 - val_acc: 0.0000e+00\n",
      "Epoch 285/300\n",
      "3503/3503 [==============================] - 0s - loss: 2.2982e-04 - acc: 2.8547e-04 - val_loss: 1.9382e-04 - val_acc: 0.0000e+00\n",
      "Epoch 286/300\n",
      "3503/3503 [==============================] - 0s - loss: 2.3637e-04 - acc: 2.8547e-04 - val_loss: 2.0150e-04 - val_acc: 0.0000e+00\n",
      "Epoch 287/300\n",
      "3503/3503 [==============================] - 0s - loss: 2.3441e-04 - acc: 2.8547e-04 - val_loss: 1.7399e-04 - val_acc: 0.0000e+00\n",
      "Epoch 288/300\n",
      "3503/3503 [==============================] - 0s - loss: 2.3749e-04 - acc: 2.8547e-04 - val_loss: 1.4822e-04 - val_acc: 0.0000e+00\n",
      "Epoch 289/300\n",
      "3503/3503 [==============================] - 0s - loss: 2.3385e-04 - acc: 2.8547e-04 - val_loss: 1.5664e-04 - val_acc: 0.0000e+00\n",
      "Epoch 290/300\n",
      "3503/3503 [==============================] - 0s - loss: 2.2924e-04 - acc: 2.8547e-04 - val_loss: 1.3712e-04 - val_acc: 0.0000e+00\n",
      "Epoch 291/300\n",
      "3503/3503 [==============================] - 0s - loss: 2.2677e-04 - acc: 2.8547e-04 - val_loss: 3.7984e-04 - val_acc: 0.0000e+00\n",
      "Epoch 292/300\n",
      "3503/3503 [==============================] - 0s - loss: 2.4235e-04 - acc: 2.8547e-04 - val_loss: 1.5546e-04 - val_acc: 0.0000e+00\n",
      "Epoch 293/300\n",
      "3503/3503 [==============================] - 0s - loss: 2.4098e-04 - acc: 2.8547e-04 - val_loss: 4.3965e-04 - val_acc: 0.0000e+00\n",
      "Epoch 294/300\n",
      "3503/3503 [==============================] - 0s - loss: 2.3532e-04 - acc: 2.8547e-04 - val_loss: 1.7669e-04 - val_acc: 0.0000e+00\n",
      "Epoch 295/300\n",
      "3503/3503 [==============================] - 0s - loss: 2.3041e-04 - acc: 2.8547e-04 - val_loss: 4.1079e-04 - val_acc: 0.0000e+00\n",
      "Epoch 296/300\n",
      "3503/3503 [==============================] - 0s - loss: 2.4385e-04 - acc: 2.8547e-04 - val_loss: 2.5650e-04 - val_acc: 0.0000e+00\n",
      "Epoch 297/300\n",
      "3503/3503 [==============================] - 0s - loss: 2.2543e-04 - acc: 2.8547e-04 - val_loss: 1.5907e-04 - val_acc: 0.0000e+00\n",
      "Epoch 298/300\n",
      "3503/3503 [==============================] - 0s - loss: 2.1426e-04 - acc: 2.8547e-04 - val_loss: 3.5133e-04 - val_acc: 0.0000e+00\n",
      "Epoch 299/300\n",
      "3503/3503 [==============================] - 0s - loss: 2.3552e-04 - acc: 2.8547e-04 - val_loss: 1.7015e-04 - val_acc: 0.0000e+00\n",
      "Epoch 300/300\n",
      "3503/3503 [==============================] - 0s - loss: 2.2882e-04 - acc: 2.8547e-04 - val_loss: 1.1898e-04 - val_acc: 0.0000e+00\n"
     ]
    },
    {
     "data": {
      "text/plain": [
       "<keras.callbacks.History at 0x2616b358748>"
      ]
     },
     "execution_count": 27,
     "metadata": {},
     "output_type": "execute_result"
    }
   ],
   "source": [
    "model.fit(\n",
    "    X_train,\n",
    "    y_train,\n",
    "    batch_size=512,\n",
    "    epochs=300,\n",
    "    validation_split=0.1,\n",
    "    verbose=1)"
   ]
  },
  {
   "cell_type": "markdown",
   "metadata": {
    "collapsed": true
   },
   "source": [
    "To terminal\n",
    "tensorboard --logdir=/Users/kachunfung/python/projects/logs"
   ]
  },
  {
   "cell_type": "code",
   "execution_count": 29,
   "metadata": {},
   "outputs": [
    {
     "name": "stdout",
     "output_type": "stream",
     "text": [
      "Train Score: 0.00012 MSE (0.01 RMSE)\n",
      "Test Score: 0.00018 MSE (0.01 RMSE)\n"
     ]
    }
   ],
   "source": [
    "trainScore = model.evaluate(X_train, y_train, verbose=0)\n",
    "print('Train Score: %.5f MSE (%.2f RMSE)' % (trainScore[0], math.sqrt(trainScore[0])))\n",
    "\n",
    "testScore = model.evaluate(X_test, y_test, verbose=0)\n",
    "print('Test Score: %.5f MSE (%.2f RMSE)' % (testScore[0], math.sqrt(testScore[0])))"
   ]
  },
  {
   "cell_type": "markdown",
   "metadata": {},
   "source": [
    "# Test Result\n",
    "\n",
    "1. 100epochs, LSTM128 > LSTM128 > 16relu > 1linear\n",
    "Train Score: 0.00032 MSE (0.02 RMSE)\n",
    "Test Score: 0.00046 MSE (0.02 RMSE)\n",
    "\n",
    "2. 100epochs, LSTM80 > LSTM80 > 32relu > 1linear\n",
    "Train Score: 0.00039 MSE (0.02 RMSE)\n",
    "Test Score: 0.00258 MSE (0.05 RMSE)\n",
    "\n",
    "3. 100epochs, LSTM128 > LSTM128 > 64relu > 1linear\n",
    "Train Score: 0.00029 MSE (0.02 RMSE)\n",
    "Test Score: 0.00060 MSE (0.02 RMSE)\n",
    "\n",
    "4. 100epochs, LSTM128 > LSTM128 > 32relu > 1linear\n",
    "Train Score: 0.00027 MSE (0.02 RMSE)\n",
    "Test Score: 0.00077 MSE (0.03 RMSE)\n",
    "\n",
    "5. 300epochs, LSTM128 > LSTM128 > 32relu > 1linear\n",
    "Train Score: 0.00012 MSE (0.01 RMSE)\n",
    "Test Score: 0.00018 MSE (0.01 RMSE)"
   ]
  },
  {
   "cell_type": "markdown",
   "metadata": {},
   "source": [
    "# Prediction vs Real results"
   ]
  },
  {
   "cell_type": "code",
   "execution_count": 30,
   "metadata": {},
   "outputs": [
    {
     "name": "stdout",
     "output_type": "stream",
     "text": [
      "(433, 1)\n"
     ]
    }
   ],
   "source": [
    "# print(X_test[-1])\n",
    "diff=[]\n",
    "ratio=[]\n",
    "p = model.predict(X_test)\n",
    "print (p.shape)\n",
    "# for each data index in test data\n",
    "for u in range(len(y_test)):\n",
    "    # pr = prediction day u\n",
    "    pr = p[u][0]\n",
    "    # (y_test day u / pr) - 1\n",
    "    ratio.append((y_test[u]/pr)-1)\n",
    "    diff.append(abs(y_test[u]- pr))\n",
    "    # print(u, y_test[u], pr, (y_test[u]/pr)-1, abs(y_test[u]- pr))\n",
    "    # Last day prediction\n",
    "    # print(p[-1]) "
   ]
  },
  {
   "cell_type": "code",
   "execution_count": 31,
   "metadata": {},
   "outputs": [
    {
     "data": {
      "image/png": "[encoded data removed]",
      "text/plain": [
       "<matplotlib.figure.Figure at 0x2616b6fd0f0>"
      ]
     },
     "metadata": {},
     "output_type": "display_data"
    }
   ],
   "source": [
    "import matplotlib.pyplot as plt2\n",
    "\n",
    "plt2.plot(p,color='red', label='Prediction')\n",
    "plt2.plot(y_test,color='blue', label='Actual')\n",
    "plt2.legend(loc='best')\n",
    "plt2.show()"
   ]
  },
  {
   "cell_type": "markdown",
   "metadata": {
    "collapsed": true
   },
   "source": [
    "# Denormalizing result"
   ]
  },
  {
   "cell_type": "code",
   "execution_count": 39,
   "metadata": {},
   "outputs": [],
   "source": [
    "def denormalize(stock_name, normalized_value):\n",
    "    start = datetime.datetime(2000, 1, 1)\n",
    "    end = datetime.date.today()\n",
    "    df = web.DataReader(stock_name, \"yahoo\", start, end)\n",
    "    \n",
    "    df = df['Adj Close'][-432:].values.reshape(-1,1)\n",
    "    normalized_value = normalized_value.reshape(-1,1)\n",
    "    \n",
    "    #return df.shape, p.shape\n",
    "    min_max_scaler = preprocessing.MinMaxScaler()\n",
    "    a = min_max_scaler.fit_transform(df)\n",
    "    new = min_max_scaler.inverse_transform(normalized_value)\n",
    "    return new\n",
    "\n",
    "newp = denormalize(stock_name, p)\n",
    "newy_test = denormalize(stock_name, y_test)"
   ]
  },
  {
   "cell_type": "code",
   "execution_count": 42,
   "metadata": {},
   "outputs": [
    {
     "data": {
      "image/png": "[encoded data removed]",
      "text/plain": [
       "<matplotlib.figure.Figure at 0x2616b6a0978>"
      ]
     },
     "metadata": {},
     "output_type": "display_data"
    }
   ],
   "source": [
    "import matplotlib.pyplot as plt2\n",
    "\n",
    "plt2.plot(newp, color='red', label='Prediction')\n",
    "plt2.plot(newy_test,color='blue', label='Actual')\n",
    "plt2.legend(loc='best')\n",
    "plt2.show()"
   ]
  },
  {
   "cell_type": "markdown",
   "metadata": {},
   "source": [
    "# Save for consistency"
   ]
  },
  {
   "cell_type": "code",
   "execution_count": 41,
   "metadata": {},
   "outputs": [
    {
     "ename": "ImportError",
     "evalue": "`save_model` requires h5py.",
     "output_type": "error",
     "traceback": [
      "\u001b[1;31m---------------------------------------------------------------------------\u001b[0m",
      "\u001b[1;31mImportError\u001b[0m                               Traceback (most recent call last)",
      "\u001b[1;32m<ipython-input-41-49fe5d9f3b50>\u001b[0m in \u001b[0;36m<module>\u001b[1;34m()\u001b[0m\n\u001b[1;32m----> 1\u001b[1;33m \u001b[0mmodel\u001b[0m\u001b[1;33m.\u001b[0m\u001b[0msave\u001b[0m\u001b[1;33m(\u001b[0m\u001b[1;34m'LSTM_Stock_prediction-20170418.h5'\u001b[0m\u001b[1;33m)\u001b[0m\u001b[1;33m\u001b[0m\u001b[0m\n\u001b[0m",
      "\u001b[1;32mC:\\Users\\user\\Anaconda3\\envs\\tensorflow\\lib\\site-packages\\keras\\engine\\topology.py\u001b[0m in \u001b[0;36msave\u001b[1;34m(self, filepath, overwrite, include_optimizer)\u001b[0m\n\u001b[0;32m   2432\u001b[0m         \"\"\"\n\u001b[0;32m   2433\u001b[0m         \u001b[1;32mfrom\u001b[0m \u001b[1;33m.\u001b[0m\u001b[1;33m.\u001b[0m\u001b[0mmodels\u001b[0m \u001b[1;32mimport\u001b[0m \u001b[0msave_model\u001b[0m\u001b[1;33m\u001b[0m\u001b[0m\n\u001b[1;32m-> 2434\u001b[1;33m         \u001b[0msave_model\u001b[0m\u001b[1;33m(\u001b[0m\u001b[0mself\u001b[0m\u001b[1;33m,\u001b[0m \u001b[0mfilepath\u001b[0m\u001b[1;33m,\u001b[0m \u001b[0moverwrite\u001b[0m\u001b[1;33m,\u001b[0m \u001b[0minclude_optimizer\u001b[0m\u001b[1;33m)\u001b[0m\u001b[1;33m\u001b[0m\u001b[0m\n\u001b[0m\u001b[0;32m   2435\u001b[0m \u001b[1;33m\u001b[0m\u001b[0m\n\u001b[0;32m   2436\u001b[0m     \u001b[1;32mdef\u001b[0m \u001b[0msave_weights\u001b[0m\u001b[1;33m(\u001b[0m\u001b[0mself\u001b[0m\u001b[1;33m,\u001b[0m \u001b[0mfilepath\u001b[0m\u001b[1;33m,\u001b[0m \u001b[0moverwrite\u001b[0m\u001b[1;33m=\u001b[0m\u001b[1;32mTrue\u001b[0m\u001b[1;33m)\u001b[0m\u001b[1;33m:\u001b[0m\u001b[1;33m\u001b[0m\u001b[0m\n",
      "\u001b[1;32mC:\\Users\\user\\Anaconda3\\envs\\tensorflow\\lib\\site-packages\\keras\\models.py\u001b[0m in \u001b[0;36msave_model\u001b[1;34m(model, filepath, overwrite, include_optimizer)\u001b[0m\n\u001b[0;32m     53\u001b[0m \u001b[1;33m\u001b[0m\u001b[0m\n\u001b[0;32m     54\u001b[0m     \u001b[1;32mif\u001b[0m \u001b[0mh5py\u001b[0m \u001b[1;32mis\u001b[0m \u001b[1;32mNone\u001b[0m\u001b[1;33m:\u001b[0m\u001b[1;33m\u001b[0m\u001b[0m\n\u001b[1;32m---> 55\u001b[1;33m         \u001b[1;32mraise\u001b[0m \u001b[0mImportError\u001b[0m\u001b[1;33m(\u001b[0m\u001b[1;34m'`save_model` requires h5py.'\u001b[0m\u001b[1;33m)\u001b[0m\u001b[1;33m\u001b[0m\u001b[0m\n\u001b[0m\u001b[0;32m     56\u001b[0m \u001b[1;33m\u001b[0m\u001b[0m\n\u001b[0;32m     57\u001b[0m     \u001b[1;32mdef\u001b[0m \u001b[0mget_json_type\u001b[0m\u001b[1;33m(\u001b[0m\u001b[0mobj\u001b[0m\u001b[1;33m)\u001b[0m\u001b[1;33m:\u001b[0m\u001b[1;33m\u001b[0m\u001b[0m\n",
      "\u001b[1;31mImportError\u001b[0m: `save_model` requires h5py."
     ]
    }
   ],
   "source": [
    "model.save('LSTM_Stock_prediction-20170418.h5')"
   ]
  },
  {
   "cell_type": "code",
   "execution_count": 44,
   "metadata": {},
   "outputs": [
    {
     "name": "stdout",
     "output_type": "stream",
     "text": [
      "433\n"
     ]
    }
   ],
   "source": [
    "print (len(p)) # Notice that it is 433 business day."
   ]
  },
  {
   "cell_type": "code",
   "execution_count": null,
   "metadata": {
    "collapsed": true
   },
   "outputs": [],
   "source": []
  }
 ],
 "metadata": {
  "kernelspec": {
   "display_name": "Python 3",
   "language": "python",
   "name": "python3"
  },
  "language_info": {
   "codemirror_mode": {
    "name": "ipython",
    "version": 3
   },
   "file_extension": ".py",
   "mimetype": "text/x-python",
   "name": "python",
   "nbconvert_exporter": "python",
   "pygments_lexer": "ipython3",
   "version": "3.5.3"
  }
 },
 "nbformat": 4,
 "nbformat_minor": 2
}
